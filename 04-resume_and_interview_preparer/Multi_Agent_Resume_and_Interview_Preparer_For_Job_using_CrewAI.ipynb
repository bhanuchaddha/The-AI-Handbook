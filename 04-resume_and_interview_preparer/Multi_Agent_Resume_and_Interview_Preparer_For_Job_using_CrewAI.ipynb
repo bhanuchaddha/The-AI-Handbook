{
  "nbformat": 4,
  "nbformat_minor": 0,
  "metadata": {
    "colab": {
      "provenance": [],
      "authorship_tag": "ABX9TyO5TDSn2TsnWcBvwwT6txoy",
      "include_colab_link": true
    },
    "kernelspec": {
      "name": "python3",
      "display_name": "Python 3"
    },
    "language_info": {
      "name": "python"
    }
  },
  "cells": [
    {
      "cell_type": "markdown",
      "metadata": {
        "id": "view-in-github",
        "colab_type": "text"
      },
      "source": [
        "<a href=\"https://colab.research.google.com/github/bhanuchaddha/The-Ai-Handbook/blob/main/4-AI-Agents/resume_and_interview_preparer/Multi_Agent_Resume_and_Interview_Preparer_For_Job_using_CrewAI.ipynb\" target=\"_parent\"><img src=\"https://colab.research.google.com/assets/colab-badge.svg\" alt=\"Open In Colab\"/></a>"
      ]
    },
    {
      "cell_type": "markdown",
      "source": [
        "# Build a Crew to Tailor Job Applications"
      ],
      "metadata": {
        "id": "stZ1_-yHAi75"
      }
    },
    {
      "cell_type": "code",
      "execution_count": null,
      "metadata": {
        "id": "xLB56_p0AQDm"
      },
      "outputs": [],
      "source": [
        "pip install crewai crewai-tools"
      ]
    },
    {
      "cell_type": "code",
      "source": [
        "from crewai import Agent, Task, Crew"
      ],
      "metadata": {
        "id": "KZvQM8gyAS4f"
      },
      "execution_count": 2,
      "outputs": []
    },
    {
      "cell_type": "code",
      "source": [
        "from google.colab import userdata\n",
        "import os\n",
        "os.environ['OPENAI_API_KEY']=userdata.get('OPENAI_API_KEY')\n",
        "os.environ['SERPER_API_KEY']=userdata.get('SERPER_API_KEY')"
      ],
      "metadata": {
        "id": "P66W1C-jAVxz"
      },
      "execution_count": 3,
      "outputs": []
    },
    {
      "cell_type": "markdown",
      "source": [
        "## crewAI Tools"
      ],
      "metadata": {
        "id": "jSynXi0SAwEX"
      }
    },
    {
      "cell_type": "code",
      "source": [
        "from crewai_tools import (\n",
        "  FileReadTool,\n",
        "  ScrapeWebsiteTool,\n",
        "  MDXSearchTool,\n",
        "  SerperDevTool\n",
        ")\n",
        "\n",
        "search_tool = SerperDevTool()\n",
        "scrape_tool = ScrapeWebsiteTool()\n",
        "read_resume = FileReadTool(file_path='/content/Niels_Christensen_Original_Resume.md.')\n",
        "semantic_search_resume = MDXSearchTool(mdx='/content/Niels_Christensen_Original_Resume.md.')"
      ],
      "metadata": {
        "colab": {
          "base_uri": "https://localhost:8080/"
        },
        "id": "N5wvMrCKAwqN",
        "outputId": "77d8cfa3-e460-4655-c60a-4d3a7a5fe119"
      },
      "execution_count": 12,
      "outputs": [
        {
          "output_type": "stream",
          "name": "stderr",
          "text": [
            "Inserting batches in chromadb: 100%|██████████| 1/1 [00:00<00:00,  2.45it/s]\n"
          ]
        }
      ]
    },
    {
      "cell_type": "code",
      "source": [
        "from IPython.display import Markdown, display\n",
        "display(Markdown(\"/content/Niels_Christensen_Original_Resume.md.\"))"
      ],
      "metadata": {
        "colab": {
          "base_uri": "https://localhost:8080/",
          "height": 1000
        },
        "id": "ZSFcvCqDAyuM",
        "outputId": "2a38564f-122a-4c08-d444-941823919be7"
      },
      "execution_count": 11,
      "outputs": [
        {
          "output_type": "display_data",
          "data": {
            "text/plain": [
              "<IPython.core.display.Markdown object>"
            ],
            "text/markdown": "# **Niels Christensen**\n\n**Location:** Copenhagen, Denmark  \n**Phone:** +45 12 34 56 78  \n**Email:** niels.christensen@example.com  \n**LinkedIn:** [linkedin.com/in/niels-christensen](https://www.linkedin.com/in/niels-christensen)  \n\n---\n\n## **Professional Summary**\nDedicated and results-oriented IT professional with over 10 years of experience in digital transformation, software development, and cloud-based solutions. Highly skilled in architecting end-to-end integration strategies, leading multidisciplinary teams, and delivering robust enterprise applications. Demonstrated ability to drive efficiency and scalability through Agile methodologies, DevOps practices, and a deep understanding of SAP ecosystems.\n\n---\n\n## **Key Skills**\n- **SAP Integration & Architecture** (SAP Cloud, SAP CPI, S/4HANA)  \n- **Cloud Technologies** (AWS, Azure, GCP)  \n- **Enterprise Integration Patterns**  \n- **API Design & Microservices**  \n- **Agile & Scrum Methodologies**  \n- **Stakeholder Management & Client Engagement**  \n- **CI/CD & DevOps** (Jenkins, Git, Docker, Kubernetes)  \n\n---\n\n## **Experience**\n\n### **Senior Integration Architect**  \n**CloudNova Solutions**, Copenhagen, Denmark  \n**Jan 2020 – Present**  \n- Lead a team of 8 consultants delivering end-to-end SAP integration projects for global clients.  \n- Architect high-availability solutions using SAP Cloud Platform Integration (CPI) and microservices on AWS.  \n- Collaborate with C-level executives and key stakeholders to define and scope IT transformation roadmaps.  \n- Spearhead Agile ceremonies (Scrum planning, retrospectives, and daily standups) to ensure timely deliverables.  \n- Improved system performance by 30% through code optimization and advanced caching strategies.  \n\n### **Integration Specialist**  \n**Nordic IT Innovators**, Copenhagen, Denmark  \n**Aug 2016 – Dec 2019**  \n- Designed and implemented scalable integration solutions for various SAP modules, including FI/CO, SD, and MM.  \n- Pioneered the adoption of Docker and Jenkins for automated CI/CD pipelines, reducing deployment times by 40%.  \n- Provided technical leadership in migrating on-premises applications to Azure-based cloud services.  \n- Mentored junior developers on best practices, resulting in a significant reduction of bug counts post-release.  \n\n### **SAP Consultant**  \n**TechForward Consulting**, Aarhus, Denmark  \n**May 2013 – Jul 2016**  \n- Consulted on multiple SAP implementation projects, focusing on process optimization in supply chain management.  \n- Analyzed client requirements to develop custom ABAP reports and enhancements, streamlining workflows by 25%.  \n- Coordinated with cross-functional teams to deliver quality solutions on schedule and within budget.  \n- Co-led training sessions for end-users, facilitating a smooth transition to new SAP modules.  \n\n---\n\n## **Education**\n\n### **Master of Science in Computer Science**  \nUniversity of Copenhagen, Denmark | **2011 – 2013**  \n- Thesis: “Optimizing Enterprise Resource Planning Systems Through Modern Integration Frameworks”\n\n### **Bachelor of Science in Information Technology**  \nAalborg University, Denmark | **2008 – 2011**\n\n---\n\n## **Certifications**\n- **SAP Certified Technology Associate** – SAP Integration Suite  \n- **AWS Certified Solutions Architect – Associate**  \n- **Scrum Master Certified (SMC)**  \n\n---\n\n## **Languages**\n- Danish (Native)  \n- English (Fluent)  \n- German (Intermediate)  \n\n---\n\n## **Additional Activities**\n- **Speaker** at local tech meetups on topics related to SAP integration and cloud computing.  \n- **Volunteer** at Code for Denmark, mentoring university students in Agile software development.  \n- **Hobbies**: Marathon running, exploring new restaurants, and tinkering with IoT projects.\n\n---\n\n**References available upon request.**\n"
          },
          "metadata": {}
        }
      ]
    },
    {
      "cell_type": "markdown",
      "source": [
        "## Creating Agents\n"
      ],
      "metadata": {
        "id": "_--7PbqZDsPq"
      }
    },
    {
      "cell_type": "code",
      "source": [
        "# Agent 1: Researcher\n",
        "researcher = Agent(\n",
        "    role=\"Tech Job Researcher\",\n",
        "    goal=\"Make sure to do amazing analysis on \"\n",
        "         \"job posting to help job applicants\",\n",
        "    tools = [scrape_tool, search_tool],\n",
        "    verbose=True,\n",
        "    backstory=(\n",
        "        \"As a Job Researcher, your prowess in \"\n",
        "        \"navigating and extracting critical \"\n",
        "        \"information from job postings is unmatched.\"\n",
        "        \"Your skills help pinpoint the necessary \"\n",
        "        \"qualifications and skills sought \"\n",
        "        \"by employers, forming the foundation for \"\n",
        "        \"effective application tailoring.\"\n",
        "    )\n",
        ")"
      ],
      "metadata": {
        "id": "pEPPhP9KDuMA"
      },
      "execution_count": 13,
      "outputs": []
    },
    {
      "cell_type": "code",
      "source": [
        "# Agent 2: Profiler\n",
        "profiler = Agent(\n",
        "    role=\"Personal Profiler for Engineers\",\n",
        "    goal=\"Do increditble research on job applicants \"\n",
        "         \"to help them stand out in the job market\",\n",
        "    tools = [scrape_tool, search_tool,\n",
        "             read_resume, semantic_search_resume],\n",
        "    verbose=True,\n",
        "    backstory=(\n",
        "        \"Equipped with analytical prowess, you dissect \"\n",
        "        \"and synthesize information \"\n",
        "        \"from diverse sources to craft comprehensive \"\n",
        "        \"personal and professional profiles, laying the \"\n",
        "        \"groundwork for personalized resume enhancements.\"\n",
        "    )\n",
        ")"
      ],
      "metadata": {
        "id": "OYRLwGbODwme"
      },
      "execution_count": 15,
      "outputs": []
    },
    {
      "cell_type": "code",
      "source": [
        "# Agent 3: Resume Strategist\n",
        "resume_strategist = Agent(\n",
        "    role=\"Resume Strategist for Engineers\",\n",
        "    goal=\"Find all the best ways to make a \"\n",
        "         \"resume stand out in the job market.\",\n",
        "    tools = [scrape_tool, search_tool,\n",
        "             read_resume, semantic_search_resume],\n",
        "    verbose=True,\n",
        "    backstory=(\n",
        "        \"With a strategic mind and an eye for detail, you \"\n",
        "        \"excel at refining resumes to highlight the most \"\n",
        "        \"relevant skills and experiences, ensuring they \"\n",
        "        \"resonate perfectly with the job's requirements.\"\n",
        "    )\n",
        ")"
      ],
      "metadata": {
        "id": "0s5RjRM0EEZ-"
      },
      "execution_count": 20,
      "outputs": []
    },
    {
      "cell_type": "code",
      "source": [],
      "metadata": {
        "id": "H3j5Dvn7I7Vw"
      },
      "execution_count": null,
      "outputs": []
    },
    {
      "cell_type": "code",
      "source": [
        "# Agent 4: Interview Preparer\n",
        "interview_preparer = Agent(\n",
        "    role=\"Engineering Interview Preparer\",\n",
        "    goal=\"Create interview questions and talking points \"\n",
        "         \"based on the resume and job requirements\",\n",
        "    tools = [scrape_tool, search_tool,\n",
        "             read_resume, semantic_search_resume],\n",
        "    verbose=True,\n",
        "    backstory=(\n",
        "        \"Your role is crucial in anticipating the dynamics of \"\n",
        "        \"interviews. With your ability to formulate key questions \"\n",
        "        \"and talking points, you prepare candidates for success, \"\n",
        "        \"ensuring they can confidently address all aspects of the \"\n",
        "        \"job they are applying for.\"\n",
        "    )\n",
        ")"
      ],
      "metadata": {
        "id": "zLxOz-qdD8Pk"
      },
      "execution_count": 16,
      "outputs": []
    },
    {
      "cell_type": "markdown",
      "source": [
        "## Creating Tasks\n"
      ],
      "metadata": {
        "id": "SWeBvU5DIOdM"
      }
    },
    {
      "cell_type": "code",
      "source": [
        "# Task for Researcher Agent: Extract Job Requirements\n",
        "research_task = Task(\n",
        "    description=(\n",
        "        \"Analyze the job posting URL provided ({job_posting_url}) \"\n",
        "        \"to extract key skills, experiences, and qualifications \"\n",
        "        \"required. Use the tools to gather content and identify \"\n",
        "        \"and categorize the requirements.\"\n",
        "    ),\n",
        "    expected_output=(\n",
        "        \"A structured list of job requirements, including necessary \"\n",
        "        \"skills, qualifications, and experiences.\"\n",
        "    ),\n",
        "    agent=researcher,\n",
        "    async_execution=True\n",
        ")"
      ],
      "metadata": {
        "id": "JA-1wQvsIPEy"
      },
      "execution_count": 17,
      "outputs": []
    },
    {
      "cell_type": "code",
      "source": [
        "# Task for Profiler Agent: Compile Comprehensive Profile\n",
        "profile_task = Task(\n",
        "    description=(\n",
        "        \"Compile a detailed personal and professional profile \"\n",
        "        \"using the GitHub ({github_url}) URLs, and personal write-up \"\n",
        "        \"({personal_writeup}). Utilize tools to extract and \"\n",
        "        \"synthesize information from these sources.\"\n",
        "    ),\n",
        "    expected_output=(\n",
        "        \"A comprehensive profile document that includes skills, \"\n",
        "        \"project experiences, contributions, interests, and \"\n",
        "        \"communication style.\"\n",
        "    ),\n",
        "    agent=profiler,\n",
        "    async_execution=True\n",
        ")"
      ],
      "metadata": {
        "id": "riFdTAgVIWaw"
      },
      "execution_count": 18,
      "outputs": []
    },
    {
      "cell_type": "code",
      "source": [
        "# Task for Resume Strategist Agent: Align Resume with Job Requirements\n",
        "resume_strategy_task = Task(\n",
        "    description=(\n",
        "        \"Using the profile and job requirements obtained from \"\n",
        "        \"previous tasks, tailor the resume to highlight the most \"\n",
        "        \"relevant areas. Employ tools to adjust and enhance the \"\n",
        "        \"resume content. Make sure this is the best resume even but \"\n",
        "        \"don't make up any information. Update every section, \"\n",
        "        \"inlcuding the initial summary, work experience, skills, \"\n",
        "        \"and education. All to better reflrect the candidates \"\n",
        "        \"abilities and how it matches the job posting.\"\n",
        "    ),\n",
        "    expected_output=(\n",
        "        \"An updated resume that effectively highlights the candidate's \"\n",
        "        \"qualifications and experiences relevant to the job.\"\n",
        "    ),\n",
        "    output_file=\"tailored_resume.md\",\n",
        "    context=[research_task, profile_task],\n",
        "    agent=resume_strategist\n",
        ")"
      ],
      "metadata": {
        "id": "0fCpYJBhIjEf"
      },
      "execution_count": 21,
      "outputs": []
    },
    {
      "cell_type": "code",
      "source": [
        "# Task for Interview Preparer Agent: Develop Interview Materials\n",
        "interview_preparation_task = Task(\n",
        "    description=(\n",
        "        \"Create a set of potential interview questions and talking \"\n",
        "        \"points based on the tailored resume and job requirements. \"\n",
        "        \"Utilize tools to generate relevant questions and discussion \"\n",
        "        \"points. Make sure to use these question and talking points to \"\n",
        "        \"help the candiadte highlight the main points of the resume \"\n",
        "        \"and how it matches the job posting.\"\n",
        "    ),\n",
        "    expected_output=(\n",
        "        \"A document containing key questions and talking points \"\n",
        "        \"that the candidate should prepare for the initial interview.\"\n",
        "    ),\n",
        "    output_file=\"interview_materials.md\",\n",
        "    context=[research_task, profile_task, resume_strategy_task],\n",
        "    agent=interview_preparer\n",
        ")\n"
      ],
      "metadata": {
        "id": "A0jNwdBfJLyK"
      },
      "execution_count": 23,
      "outputs": []
    },
    {
      "cell_type": "markdown",
      "source": [
        "## Creating the Crew"
      ],
      "metadata": {
        "id": "mERfFM2EJC2a"
      }
    },
    {
      "cell_type": "code",
      "source": [
        "job_application_crew = Crew(\n",
        "    agents=[researcher,\n",
        "            profiler,\n",
        "            resume_strategist,\n",
        "            interview_preparer],\n",
        "\n",
        "    tasks=[research_task,\n",
        "           profile_task,\n",
        "           resume_strategy_task,\n",
        "           interview_preparation_task],\n",
        "\n",
        "    verbose=True\n",
        ")"
      ],
      "metadata": {
        "id": "7M2hjh-fIs3t"
      },
      "execution_count": 24,
      "outputs": []
    },
    {
      "cell_type": "markdown",
      "source": [
        "## Running the Crew\n",
        "\n",
        "- Set the inputs for the execution of the crew."
      ],
      "metadata": {
        "id": "JA5Ba0gLJZfU"
      }
    },
    {
      "cell_type": "code",
      "source": [
        "job_application_inputs = {\n",
        "    'job_posting_url': 'https://careers.nordea.com/job/Taastrup-AI-Implementation-Lead-2630/1142239901/?feedId=335801&utm_source=CareerSite',\n",
        "    'github_url': 'https://github.com/bhanuchaddha',\n",
        "    'personal_writeup': \"\"\"Niels Christensen is a dedicated and results-driven IT professional with a passion for tackling complex integration challenges. He leverages over a decade of expertise in SAP and cloud-based solutions to architect and implement robust systems that enhance organizational efficiency. Known for his collaborative spirit, Niels excels at aligning cross-functional teams and delivering high-impact projects on time and within budget. Outside of work, he stays active through marathon running and thrives on mentoring budding developers, contributing his insights to local tech communities. Driven by both technical curiosity and personal integrity, Niels consistently inspires his peers to strive for excellence in every endeavor.\"\"\"\n",
        "}"
      ],
      "metadata": {
        "id": "1mZIAdqOJZ-P"
      },
      "execution_count": 27,
      "outputs": []
    },
    {
      "cell_type": "code",
      "source": [
        "### this execution will take a few minutes to run\n",
        "result = job_application_crew.kickoff(inputs=job_application_inputs)"
      ],
      "metadata": {
        "id": "AEgjupyOIMYp"
      },
      "execution_count": 30,
      "outputs": []
    },
    {
      "cell_type": "code",
      "source": [],
      "metadata": {
        "id": "5Gve_eP8AZ7d"
      },
      "execution_count": null,
      "outputs": []
    }
  ]
}