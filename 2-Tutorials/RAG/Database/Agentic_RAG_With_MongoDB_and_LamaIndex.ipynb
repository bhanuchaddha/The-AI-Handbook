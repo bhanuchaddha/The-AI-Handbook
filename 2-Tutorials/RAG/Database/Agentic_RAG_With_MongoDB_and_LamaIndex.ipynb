{
  "nbformat": 4,
  "nbformat_minor": 0,
  "metadata": {
    "colab": {
      "provenance": [],
      "authorship_tag": "ABX9TyMu0GARYZiKZstGH2YJp2NZ",
      "include_colab_link": true
    },
    "kernelspec": {
      "name": "python3",
      "display_name": "Python 3"
    },
    "language_info": {
      "name": "python"
    },
    "widgets": {
      "application/vnd.jupyter.widget-state+json": {
        "74b78172bf0f4dce9035467193c98585": {
          "model_module": "@jupyter-widgets/controls",
          "model_name": "HBoxModel",
          "model_module_version": "1.5.0",
          "state": {
            "_dom_classes": [],
            "_model_module": "@jupyter-widgets/controls",
            "_model_module_version": "1.5.0",
            "_model_name": "HBoxModel",
            "_view_count": null,
            "_view_module": "@jupyter-widgets/controls",
            "_view_module_version": "1.5.0",
            "_view_name": "HBoxView",
            "box_style": "",
            "children": [
              "IPY_MODEL_925e0f975f454c8fa3eb8c7c48fc7e55",
              "IPY_MODEL_b646cc8760be4485b19d9cbf66fad0b7",
              "IPY_MODEL_732b1cacc86a4dbf9fe9329fac76b7cf"
            ],
            "layout": "IPY_MODEL_1d2f165706b54335bcefebb75f295f0e"
          }
        },
        "925e0f975f454c8fa3eb8c7c48fc7e55": {
          "model_module": "@jupyter-widgets/controls",
          "model_name": "HTMLModel",
          "model_module_version": "1.5.0",
          "state": {
            "_dom_classes": [],
            "_model_module": "@jupyter-widgets/controls",
            "_model_module_version": "1.5.0",
            "_model_name": "HTMLModel",
            "_view_count": null,
            "_view_module": "@jupyter-widgets/controls",
            "_view_module_version": "1.5.0",
            "_view_name": "HTMLView",
            "description": "",
            "description_tooltip": null,
            "layout": "IPY_MODEL_44b5857331b24a3e84b9398af7baaed3",
            "placeholder": "​",
            "style": "IPY_MODEL_c90595eb7be44beabd66dc24c5f84104",
            "value": "Parsing nodes: 100%"
          }
        },
        "b646cc8760be4485b19d9cbf66fad0b7": {
          "model_module": "@jupyter-widgets/controls",
          "model_name": "FloatProgressModel",
          "model_module_version": "1.5.0",
          "state": {
            "_dom_classes": [],
            "_model_module": "@jupyter-widgets/controls",
            "_model_module_version": "1.5.0",
            "_model_name": "FloatProgressModel",
            "_view_count": null,
            "_view_module": "@jupyter-widgets/controls",
            "_view_module_version": "1.5.0",
            "_view_name": "ProgressView",
            "bar_style": "success",
            "description": "",
            "description_tooltip": null,
            "layout": "IPY_MODEL_af469a66b9ab411db4cb158c85f88d7d",
            "max": 1000,
            "min": 0,
            "orientation": "horizontal",
            "style": "IPY_MODEL_7417e59d78ee4e2b82b2cd0169e6ee86",
            "value": 1000
          }
        },
        "732b1cacc86a4dbf9fe9329fac76b7cf": {
          "model_module": "@jupyter-widgets/controls",
          "model_name": "HTMLModel",
          "model_module_version": "1.5.0",
          "state": {
            "_dom_classes": [],
            "_model_module": "@jupyter-widgets/controls",
            "_model_module_version": "1.5.0",
            "_model_name": "HTMLModel",
            "_view_count": null,
            "_view_module": "@jupyter-widgets/controls",
            "_view_module_version": "1.5.0",
            "_view_name": "HTMLView",
            "description": "",
            "description_tooltip": null,
            "layout": "IPY_MODEL_ed5afd29e44a4c7788ea9c68f2c429b0",
            "placeholder": "​",
            "style": "IPY_MODEL_97265da351e94ffcb1eaafdc2b1efe88",
            "value": " 1000/1000 [00:04&lt;00:00, 307.24it/s]"
          }
        },
        "1d2f165706b54335bcefebb75f295f0e": {
          "model_module": "@jupyter-widgets/base",
          "model_name": "LayoutModel",
          "model_module_version": "1.2.0",
          "state": {
            "_model_module": "@jupyter-widgets/base",
            "_model_module_version": "1.2.0",
            "_model_name": "LayoutModel",
            "_view_count": null,
            "_view_module": "@jupyter-widgets/base",
            "_view_module_version": "1.2.0",
            "_view_name": "LayoutView",
            "align_content": null,
            "align_items": null,
            "align_self": null,
            "border": null,
            "bottom": null,
            "display": null,
            "flex": null,
            "flex_flow": null,
            "grid_area": null,
            "grid_auto_columns": null,
            "grid_auto_flow": null,
            "grid_auto_rows": null,
            "grid_column": null,
            "grid_gap": null,
            "grid_row": null,
            "grid_template_areas": null,
            "grid_template_columns": null,
            "grid_template_rows": null,
            "height": null,
            "justify_content": null,
            "justify_items": null,
            "left": null,
            "margin": null,
            "max_height": null,
            "max_width": null,
            "min_height": null,
            "min_width": null,
            "object_fit": null,
            "object_position": null,
            "order": null,
            "overflow": null,
            "overflow_x": null,
            "overflow_y": null,
            "padding": null,
            "right": null,
            "top": null,
            "visibility": null,
            "width": null
          }
        },
        "44b5857331b24a3e84b9398af7baaed3": {
          "model_module": "@jupyter-widgets/base",
          "model_name": "LayoutModel",
          "model_module_version": "1.2.0",
          "state": {
            "_model_module": "@jupyter-widgets/base",
            "_model_module_version": "1.2.0",
            "_model_name": "LayoutModel",
            "_view_count": null,
            "_view_module": "@jupyter-widgets/base",
            "_view_module_version": "1.2.0",
            "_view_name": "LayoutView",
            "align_content": null,
            "align_items": null,
            "align_self": null,
            "border": null,
            "bottom": null,
            "display": null,
            "flex": null,
            "flex_flow": null,
            "grid_area": null,
            "grid_auto_columns": null,
            "grid_auto_flow": null,
            "grid_auto_rows": null,
            "grid_column": null,
            "grid_gap": null,
            "grid_row": null,
            "grid_template_areas": null,
            "grid_template_columns": null,
            "grid_template_rows": null,
            "height": null,
            "justify_content": null,
            "justify_items": null,
            "left": null,
            "margin": null,
            "max_height": null,
            "max_width": null,
            "min_height": null,
            "min_width": null,
            "object_fit": null,
            "object_position": null,
            "order": null,
            "overflow": null,
            "overflow_x": null,
            "overflow_y": null,
            "padding": null,
            "right": null,
            "top": null,
            "visibility": null,
            "width": null
          }
        },
        "c90595eb7be44beabd66dc24c5f84104": {
          "model_module": "@jupyter-widgets/controls",
          "model_name": "DescriptionStyleModel",
          "model_module_version": "1.5.0",
          "state": {
            "_model_module": "@jupyter-widgets/controls",
            "_model_module_version": "1.5.0",
            "_model_name": "DescriptionStyleModel",
            "_view_count": null,
            "_view_module": "@jupyter-widgets/base",
            "_view_module_version": "1.2.0",
            "_view_name": "StyleView",
            "description_width": ""
          }
        },
        "af469a66b9ab411db4cb158c85f88d7d": {
          "model_module": "@jupyter-widgets/base",
          "model_name": "LayoutModel",
          "model_module_version": "1.2.0",
          "state": {
            "_model_module": "@jupyter-widgets/base",
            "_model_module_version": "1.2.0",
            "_model_name": "LayoutModel",
            "_view_count": null,
            "_view_module": "@jupyter-widgets/base",
            "_view_module_version": "1.2.0",
            "_view_name": "LayoutView",
            "align_content": null,
            "align_items": null,
            "align_self": null,
            "border": null,
            "bottom": null,
            "display": null,
            "flex": null,
            "flex_flow": null,
            "grid_area": null,
            "grid_auto_columns": null,
            "grid_auto_flow": null,
            "grid_auto_rows": null,
            "grid_column": null,
            "grid_gap": null,
            "grid_row": null,
            "grid_template_areas": null,
            "grid_template_columns": null,
            "grid_template_rows": null,
            "height": null,
            "justify_content": null,
            "justify_items": null,
            "left": null,
            "margin": null,
            "max_height": null,
            "max_width": null,
            "min_height": null,
            "min_width": null,
            "object_fit": null,
            "object_position": null,
            "order": null,
            "overflow": null,
            "overflow_x": null,
            "overflow_y": null,
            "padding": null,
            "right": null,
            "top": null,
            "visibility": null,
            "width": null
          }
        },
        "7417e59d78ee4e2b82b2cd0169e6ee86": {
          "model_module": "@jupyter-widgets/controls",
          "model_name": "ProgressStyleModel",
          "model_module_version": "1.5.0",
          "state": {
            "_model_module": "@jupyter-widgets/controls",
            "_model_module_version": "1.5.0",
            "_model_name": "ProgressStyleModel",
            "_view_count": null,
            "_view_module": "@jupyter-widgets/base",
            "_view_module_version": "1.2.0",
            "_view_name": "StyleView",
            "bar_color": null,
            "description_width": ""
          }
        },
        "ed5afd29e44a4c7788ea9c68f2c429b0": {
          "model_module": "@jupyter-widgets/base",
          "model_name": "LayoutModel",
          "model_module_version": "1.2.0",
          "state": {
            "_model_module": "@jupyter-widgets/base",
            "_model_module_version": "1.2.0",
            "_model_name": "LayoutModel",
            "_view_count": null,
            "_view_module": "@jupyter-widgets/base",
            "_view_module_version": "1.2.0",
            "_view_name": "LayoutView",
            "align_content": null,
            "align_items": null,
            "align_self": null,
            "border": null,
            "bottom": null,
            "display": null,
            "flex": null,
            "flex_flow": null,
            "grid_area": null,
            "grid_auto_columns": null,
            "grid_auto_flow": null,
            "grid_auto_rows": null,
            "grid_column": null,
            "grid_gap": null,
            "grid_row": null,
            "grid_template_areas": null,
            "grid_template_columns": null,
            "grid_template_rows": null,
            "height": null,
            "justify_content": null,
            "justify_items": null,
            "left": null,
            "margin": null,
            "max_height": null,
            "max_width": null,
            "min_height": null,
            "min_width": null,
            "object_fit": null,
            "object_position": null,
            "order": null,
            "overflow": null,
            "overflow_x": null,
            "overflow_y": null,
            "padding": null,
            "right": null,
            "top": null,
            "visibility": null,
            "width": null
          }
        },
        "97265da351e94ffcb1eaafdc2b1efe88": {
          "model_module": "@jupyter-widgets/controls",
          "model_name": "DescriptionStyleModel",
          "model_module_version": "1.5.0",
          "state": {
            "_model_module": "@jupyter-widgets/controls",
            "_model_module_version": "1.5.0",
            "_model_name": "DescriptionStyleModel",
            "_view_count": null,
            "_view_module": "@jupyter-widgets/base",
            "_view_module_version": "1.2.0",
            "_view_name": "StyleView",
            "description_width": ""
          }
        },
        "b905d9b9fd1740bbaaa712639dbcc583": {
          "model_module": "@jupyter-widgets/controls",
          "model_name": "HBoxModel",
          "model_module_version": "1.5.0",
          "state": {
            "_dom_classes": [],
            "_model_module": "@jupyter-widgets/controls",
            "_model_module_version": "1.5.0",
            "_model_name": "HBoxModel",
            "_view_count": null,
            "_view_module": "@jupyter-widgets/controls",
            "_view_module_version": "1.5.0",
            "_view_name": "HBoxView",
            "box_style": "",
            "children": [
              "IPY_MODEL_76e7042070494b339c935aab832d76ff",
              "IPY_MODEL_5981165410214888a1a47a41e1fc41bb",
              "IPY_MODEL_6daab78f5cc54f759ed598ac4e830204"
            ],
            "layout": "IPY_MODEL_458bbb8ff05e4661ac3afef81a32481c"
          }
        },
        "76e7042070494b339c935aab832d76ff": {
          "model_module": "@jupyter-widgets/controls",
          "model_name": "HTMLModel",
          "model_module_version": "1.5.0",
          "state": {
            "_dom_classes": [],
            "_model_module": "@jupyter-widgets/controls",
            "_model_module_version": "1.5.0",
            "_model_name": "HTMLModel",
            "_view_count": null,
            "_view_module": "@jupyter-widgets/controls",
            "_view_module_version": "1.5.0",
            "_view_name": "HTMLView",
            "description": "",
            "description_tooltip": null,
            "layout": "IPY_MODEL_c58cf66bcae64e3483c0a4e559202316",
            "placeholder": "​",
            "style": "IPY_MODEL_2f53100ab6204b63973ddd22155e2389",
            "value": "Generating embeddings: 100%"
          }
        },
        "5981165410214888a1a47a41e1fc41bb": {
          "model_module": "@jupyter-widgets/controls",
          "model_name": "FloatProgressModel",
          "model_module_version": "1.5.0",
          "state": {
            "_dom_classes": [],
            "_model_module": "@jupyter-widgets/controls",
            "_model_module_version": "1.5.0",
            "_model_name": "FloatProgressModel",
            "_view_count": null,
            "_view_module": "@jupyter-widgets/controls",
            "_view_module_version": "1.5.0",
            "_view_name": "ProgressView",
            "bar_style": "success",
            "description": "",
            "description_tooltip": null,
            "layout": "IPY_MODEL_b840a251ebeb44cb8904f7ce0cec020c",
            "max": 2048,
            "min": 0,
            "orientation": "horizontal",
            "style": "IPY_MODEL_a90061eff31e4e14bee39bec9da65455",
            "value": 2048
          }
        },
        "6daab78f5cc54f759ed598ac4e830204": {
          "model_module": "@jupyter-widgets/controls",
          "model_name": "HTMLModel",
          "model_module_version": "1.5.0",
          "state": {
            "_dom_classes": [],
            "_model_module": "@jupyter-widgets/controls",
            "_model_module_version": "1.5.0",
            "_model_name": "HTMLModel",
            "_view_count": null,
            "_view_module": "@jupyter-widgets/controls",
            "_view_module_version": "1.5.0",
            "_view_name": "HTMLView",
            "description": "",
            "description_tooltip": null,
            "layout": "IPY_MODEL_efd250c9bc984979b32f47d1d060e8c3",
            "placeholder": "​",
            "style": "IPY_MODEL_666fefc47f494602b5808d5342dd2c20",
            "value": " 2048/2048 [00:14&lt;00:00, 133.96it/s]"
          }
        },
        "458bbb8ff05e4661ac3afef81a32481c": {
          "model_module": "@jupyter-widgets/base",
          "model_name": "LayoutModel",
          "model_module_version": "1.2.0",
          "state": {
            "_model_module": "@jupyter-widgets/base",
            "_model_module_version": "1.2.0",
            "_model_name": "LayoutModel",
            "_view_count": null,
            "_view_module": "@jupyter-widgets/base",
            "_view_module_version": "1.2.0",
            "_view_name": "LayoutView",
            "align_content": null,
            "align_items": null,
            "align_self": null,
            "border": null,
            "bottom": null,
            "display": null,
            "flex": null,
            "flex_flow": null,
            "grid_area": null,
            "grid_auto_columns": null,
            "grid_auto_flow": null,
            "grid_auto_rows": null,
            "grid_column": null,
            "grid_gap": null,
            "grid_row": null,
            "grid_template_areas": null,
            "grid_template_columns": null,
            "grid_template_rows": null,
            "height": null,
            "justify_content": null,
            "justify_items": null,
            "left": null,
            "margin": null,
            "max_height": null,
            "max_width": null,
            "min_height": null,
            "min_width": null,
            "object_fit": null,
            "object_position": null,
            "order": null,
            "overflow": null,
            "overflow_x": null,
            "overflow_y": null,
            "padding": null,
            "right": null,
            "top": null,
            "visibility": null,
            "width": null
          }
        },
        "c58cf66bcae64e3483c0a4e559202316": {
          "model_module": "@jupyter-widgets/base",
          "model_name": "LayoutModel",
          "model_module_version": "1.2.0",
          "state": {
            "_model_module": "@jupyter-widgets/base",
            "_model_module_version": "1.2.0",
            "_model_name": "LayoutModel",
            "_view_count": null,
            "_view_module": "@jupyter-widgets/base",
            "_view_module_version": "1.2.0",
            "_view_name": "LayoutView",
            "align_content": null,
            "align_items": null,
            "align_self": null,
            "border": null,
            "bottom": null,
            "display": null,
            "flex": null,
            "flex_flow": null,
            "grid_area": null,
            "grid_auto_columns": null,
            "grid_auto_flow": null,
            "grid_auto_rows": null,
            "grid_column": null,
            "grid_gap": null,
            "grid_row": null,
            "grid_template_areas": null,
            "grid_template_columns": null,
            "grid_template_rows": null,
            "height": null,
            "justify_content": null,
            "justify_items": null,
            "left": null,
            "margin": null,
            "max_height": null,
            "max_width": null,
            "min_height": null,
            "min_width": null,
            "object_fit": null,
            "object_position": null,
            "order": null,
            "overflow": null,
            "overflow_x": null,
            "overflow_y": null,
            "padding": null,
            "right": null,
            "top": null,
            "visibility": null,
            "width": null
          }
        },
        "2f53100ab6204b63973ddd22155e2389": {
          "model_module": "@jupyter-widgets/controls",
          "model_name": "DescriptionStyleModel",
          "model_module_version": "1.5.0",
          "state": {
            "_model_module": "@jupyter-widgets/controls",
            "_model_module_version": "1.5.0",
            "_model_name": "DescriptionStyleModel",
            "_view_count": null,
            "_view_module": "@jupyter-widgets/base",
            "_view_module_version": "1.2.0",
            "_view_name": "StyleView",
            "description_width": ""
          }
        },
        "b840a251ebeb44cb8904f7ce0cec020c": {
          "model_module": "@jupyter-widgets/base",
          "model_name": "LayoutModel",
          "model_module_version": "1.2.0",
          "state": {
            "_model_module": "@jupyter-widgets/base",
            "_model_module_version": "1.2.0",
            "_model_name": "LayoutModel",
            "_view_count": null,
            "_view_module": "@jupyter-widgets/base",
            "_view_module_version": "1.2.0",
            "_view_name": "LayoutView",
            "align_content": null,
            "align_items": null,
            "align_self": null,
            "border": null,
            "bottom": null,
            "display": null,
            "flex": null,
            "flex_flow": null,
            "grid_area": null,
            "grid_auto_columns": null,
            "grid_auto_flow": null,
            "grid_auto_rows": null,
            "grid_column": null,
            "grid_gap": null,
            "grid_row": null,
            "grid_template_areas": null,
            "grid_template_columns": null,
            "grid_template_rows": null,
            "height": null,
            "justify_content": null,
            "justify_items": null,
            "left": null,
            "margin": null,
            "max_height": null,
            "max_width": null,
            "min_height": null,
            "min_width": null,
            "object_fit": null,
            "object_position": null,
            "order": null,
            "overflow": null,
            "overflow_x": null,
            "overflow_y": null,
            "padding": null,
            "right": null,
            "top": null,
            "visibility": null,
            "width": null
          }
        },
        "a90061eff31e4e14bee39bec9da65455": {
          "model_module": "@jupyter-widgets/controls",
          "model_name": "ProgressStyleModel",
          "model_module_version": "1.5.0",
          "state": {
            "_model_module": "@jupyter-widgets/controls",
            "_model_module_version": "1.5.0",
            "_model_name": "ProgressStyleModel",
            "_view_count": null,
            "_view_module": "@jupyter-widgets/base",
            "_view_module_version": "1.2.0",
            "_view_name": "StyleView",
            "bar_color": null,
            "description_width": ""
          }
        },
        "efd250c9bc984979b32f47d1d060e8c3": {
          "model_module": "@jupyter-widgets/base",
          "model_name": "LayoutModel",
          "model_module_version": "1.2.0",
          "state": {
            "_model_module": "@jupyter-widgets/base",
            "_model_module_version": "1.2.0",
            "_model_name": "LayoutModel",
            "_view_count": null,
            "_view_module": "@jupyter-widgets/base",
            "_view_module_version": "1.2.0",
            "_view_name": "LayoutView",
            "align_content": null,
            "align_items": null,
            "align_self": null,
            "border": null,
            "bottom": null,
            "display": null,
            "flex": null,
            "flex_flow": null,
            "grid_area": null,
            "grid_auto_columns": null,
            "grid_auto_flow": null,
            "grid_auto_rows": null,
            "grid_column": null,
            "grid_gap": null,
            "grid_row": null,
            "grid_template_areas": null,
            "grid_template_columns": null,
            "grid_template_rows": null,
            "height": null,
            "justify_content": null,
            "justify_items": null,
            "left": null,
            "margin": null,
            "max_height": null,
            "max_width": null,
            "min_height": null,
            "min_width": null,
            "object_fit": null,
            "object_position": null,
            "order": null,
            "overflow": null,
            "overflow_x": null,
            "overflow_y": null,
            "padding": null,
            "right": null,
            "top": null,
            "visibility": null,
            "width": null
          }
        },
        "666fefc47f494602b5808d5342dd2c20": {
          "model_module": "@jupyter-widgets/controls",
          "model_name": "DescriptionStyleModel",
          "model_module_version": "1.5.0",
          "state": {
            "_model_module": "@jupyter-widgets/controls",
            "_model_module_version": "1.5.0",
            "_model_name": "DescriptionStyleModel",
            "_view_count": null,
            "_view_module": "@jupyter-widgets/base",
            "_view_module_version": "1.2.0",
            "_view_name": "StyleView",
            "description_width": ""
          }
        },
        "fedbdb2118d940cfa22014d942ebd6a3": {
          "model_module": "@jupyter-widgets/controls",
          "model_name": "HBoxModel",
          "model_module_version": "1.5.0",
          "state": {
            "_dom_classes": [],
            "_model_module": "@jupyter-widgets/controls",
            "_model_module_version": "1.5.0",
            "_model_name": "HBoxModel",
            "_view_count": null,
            "_view_module": "@jupyter-widgets/controls",
            "_view_module_version": "1.5.0",
            "_view_name": "HBoxView",
            "box_style": "",
            "children": [
              "IPY_MODEL_93b3250b10074d4d8431a8b6dde8631a",
              "IPY_MODEL_f1edb921a99745f09c2b93fa795aba73",
              "IPY_MODEL_c805fb8636434934bb93f6a8133462f5"
            ],
            "layout": "IPY_MODEL_1cbd18f56f0a4b66bfa9b3f387c68390"
          }
        },
        "93b3250b10074d4d8431a8b6dde8631a": {
          "model_module": "@jupyter-widgets/controls",
          "model_name": "HTMLModel",
          "model_module_version": "1.5.0",
          "state": {
            "_dom_classes": [],
            "_model_module": "@jupyter-widgets/controls",
            "_model_module_version": "1.5.0",
            "_model_name": "HTMLModel",
            "_view_count": null,
            "_view_module": "@jupyter-widgets/controls",
            "_view_module_version": "1.5.0",
            "_view_name": "HTMLView",
            "description": "",
            "description_tooltip": null,
            "layout": "IPY_MODEL_c1381e5186474918b97a59b4613316fd",
            "placeholder": "​",
            "style": "IPY_MODEL_a9a16ea3e1f947dc9e5c2efa8ccf5837",
            "value": "Generating embeddings: 100%"
          }
        },
        "f1edb921a99745f09c2b93fa795aba73": {
          "model_module": "@jupyter-widgets/controls",
          "model_name": "FloatProgressModel",
          "model_module_version": "1.5.0",
          "state": {
            "_dom_classes": [],
            "_model_module": "@jupyter-widgets/controls",
            "_model_module_version": "1.5.0",
            "_model_name": "FloatProgressModel",
            "_view_count": null,
            "_view_module": "@jupyter-widgets/controls",
            "_view_module_version": "1.5.0",
            "_view_name": "ProgressView",
            "bar_style": "success",
            "description": "",
            "description_tooltip": null,
            "layout": "IPY_MODEL_d224542200ed4bc9afc322f532800fe8",
            "max": 2048,
            "min": 0,
            "orientation": "horizontal",
            "style": "IPY_MODEL_5bbd1e6dc647426c9ba8ce727be6342f",
            "value": 2048
          }
        },
        "c805fb8636434934bb93f6a8133462f5": {
          "model_module": "@jupyter-widgets/controls",
          "model_name": "HTMLModel",
          "model_module_version": "1.5.0",
          "state": {
            "_dom_classes": [],
            "_model_module": "@jupyter-widgets/controls",
            "_model_module_version": "1.5.0",
            "_model_name": "HTMLModel",
            "_view_count": null,
            "_view_module": "@jupyter-widgets/controls",
            "_view_module_version": "1.5.0",
            "_view_name": "HTMLView",
            "description": "",
            "description_tooltip": null,
            "layout": "IPY_MODEL_18774f0c3bc94b0bba5bd4e5050b713c",
            "placeholder": "​",
            "style": "IPY_MODEL_f2eb20a718044014914ba733b56142c6",
            "value": " 2048/2048 [00:14&lt;00:00, 129.19it/s]"
          }
        },
        "1cbd18f56f0a4b66bfa9b3f387c68390": {
          "model_module": "@jupyter-widgets/base",
          "model_name": "LayoutModel",
          "model_module_version": "1.2.0",
          "state": {
            "_model_module": "@jupyter-widgets/base",
            "_model_module_version": "1.2.0",
            "_model_name": "LayoutModel",
            "_view_count": null,
            "_view_module": "@jupyter-widgets/base",
            "_view_module_version": "1.2.0",
            "_view_name": "LayoutView",
            "align_content": null,
            "align_items": null,
            "align_self": null,
            "border": null,
            "bottom": null,
            "display": null,
            "flex": null,
            "flex_flow": null,
            "grid_area": null,
            "grid_auto_columns": null,
            "grid_auto_flow": null,
            "grid_auto_rows": null,
            "grid_column": null,
            "grid_gap": null,
            "grid_row": null,
            "grid_template_areas": null,
            "grid_template_columns": null,
            "grid_template_rows": null,
            "height": null,
            "justify_content": null,
            "justify_items": null,
            "left": null,
            "margin": null,
            "max_height": null,
            "max_width": null,
            "min_height": null,
            "min_width": null,
            "object_fit": null,
            "object_position": null,
            "order": null,
            "overflow": null,
            "overflow_x": null,
            "overflow_y": null,
            "padding": null,
            "right": null,
            "top": null,
            "visibility": null,
            "width": null
          }
        },
        "c1381e5186474918b97a59b4613316fd": {
          "model_module": "@jupyter-widgets/base",
          "model_name": "LayoutModel",
          "model_module_version": "1.2.0",
          "state": {
            "_model_module": "@jupyter-widgets/base",
            "_model_module_version": "1.2.0",
            "_model_name": "LayoutModel",
            "_view_count": null,
            "_view_module": "@jupyter-widgets/base",
            "_view_module_version": "1.2.0",
            "_view_name": "LayoutView",
            "align_content": null,
            "align_items": null,
            "align_self": null,
            "border": null,
            "bottom": null,
            "display": null,
            "flex": null,
            "flex_flow": null,
            "grid_area": null,
            "grid_auto_columns": null,
            "grid_auto_flow": null,
            "grid_auto_rows": null,
            "grid_column": null,
            "grid_gap": null,
            "grid_row": null,
            "grid_template_areas": null,
            "grid_template_columns": null,
            "grid_template_rows": null,
            "height": null,
            "justify_content": null,
            "justify_items": null,
            "left": null,
            "margin": null,
            "max_height": null,
            "max_width": null,
            "min_height": null,
            "min_width": null,
            "object_fit": null,
            "object_position": null,
            "order": null,
            "overflow": null,
            "overflow_x": null,
            "overflow_y": null,
            "padding": null,
            "right": null,
            "top": null,
            "visibility": null,
            "width": null
          }
        },
        "a9a16ea3e1f947dc9e5c2efa8ccf5837": {
          "model_module": "@jupyter-widgets/controls",
          "model_name": "DescriptionStyleModel",
          "model_module_version": "1.5.0",
          "state": {
            "_model_module": "@jupyter-widgets/controls",
            "_model_module_version": "1.5.0",
            "_model_name": "DescriptionStyleModel",
            "_view_count": null,
            "_view_module": "@jupyter-widgets/base",
            "_view_module_version": "1.2.0",
            "_view_name": "StyleView",
            "description_width": ""
          }
        },
        "d224542200ed4bc9afc322f532800fe8": {
          "model_module": "@jupyter-widgets/base",
          "model_name": "LayoutModel",
          "model_module_version": "1.2.0",
          "state": {
            "_model_module": "@jupyter-widgets/base",
            "_model_module_version": "1.2.0",
            "_model_name": "LayoutModel",
            "_view_count": null,
            "_view_module": "@jupyter-widgets/base",
            "_view_module_version": "1.2.0",
            "_view_name": "LayoutView",
            "align_content": null,
            "align_items": null,
            "align_self": null,
            "border": null,
            "bottom": null,
            "display": null,
            "flex": null,
            "flex_flow": null,
            "grid_area": null,
            "grid_auto_columns": null,
            "grid_auto_flow": null,
            "grid_auto_rows": null,
            "grid_column": null,
            "grid_gap": null,
            "grid_row": null,
            "grid_template_areas": null,
            "grid_template_columns": null,
            "grid_template_rows": null,
            "height": null,
            "justify_content": null,
            "justify_items": null,
            "left": null,
            "margin": null,
            "max_height": null,
            "max_width": null,
            "min_height": null,
            "min_width": null,
            "object_fit": null,
            "object_position": null,
            "order": null,
            "overflow": null,
            "overflow_x": null,
            "overflow_y": null,
            "padding": null,
            "right": null,
            "top": null,
            "visibility": null,
            "width": null
          }
        },
        "5bbd1e6dc647426c9ba8ce727be6342f": {
          "model_module": "@jupyter-widgets/controls",
          "model_name": "ProgressStyleModel",
          "model_module_version": "1.5.0",
          "state": {
            "_model_module": "@jupyter-widgets/controls",
            "_model_module_version": "1.5.0",
            "_model_name": "ProgressStyleModel",
            "_view_count": null,
            "_view_module": "@jupyter-widgets/base",
            "_view_module_version": "1.2.0",
            "_view_name": "StyleView",
            "bar_color": null,
            "description_width": ""
          }
        },
        "18774f0c3bc94b0bba5bd4e5050b713c": {
          "model_module": "@jupyter-widgets/base",
          "model_name": "LayoutModel",
          "model_module_version": "1.2.0",
          "state": {
            "_model_module": "@jupyter-widgets/base",
            "_model_module_version": "1.2.0",
            "_model_name": "LayoutModel",
            "_view_count": null,
            "_view_module": "@jupyter-widgets/base",
            "_view_module_version": "1.2.0",
            "_view_name": "LayoutView",
            "align_content": null,
            "align_items": null,
            "align_self": null,
            "border": null,
            "bottom": null,
            "display": null,
            "flex": null,
            "flex_flow": null,
            "grid_area": null,
            "grid_auto_columns": null,
            "grid_auto_flow": null,
            "grid_auto_rows": null,
            "grid_column": null,
            "grid_gap": null,
            "grid_row": null,
            "grid_template_areas": null,
            "grid_template_columns": null,
            "grid_template_rows": null,
            "height": null,
            "justify_content": null,
            "justify_items": null,
            "left": null,
            "margin": null,
            "max_height": null,
            "max_width": null,
            "min_height": null,
            "min_width": null,
            "object_fit": null,
            "object_position": null,
            "order": null,
            "overflow": null,
            "overflow_x": null,
            "overflow_y": null,
            "padding": null,
            "right": null,
            "top": null,
            "visibility": null,
            "width": null
          }
        },
        "f2eb20a718044014914ba733b56142c6": {
          "model_module": "@jupyter-widgets/controls",
          "model_name": "DescriptionStyleModel",
          "model_module_version": "1.5.0",
          "state": {
            "_model_module": "@jupyter-widgets/controls",
            "_model_module_version": "1.5.0",
            "_model_name": "DescriptionStyleModel",
            "_view_count": null,
            "_view_module": "@jupyter-widgets/base",
            "_view_module_version": "1.2.0",
            "_view_name": "StyleView",
            "description_width": ""
          }
        },
        "3585863ffdce43b5b085058ed8c99248": {
          "model_module": "@jupyter-widgets/controls",
          "model_name": "HBoxModel",
          "model_module_version": "1.5.0",
          "state": {
            "_dom_classes": [],
            "_model_module": "@jupyter-widgets/controls",
            "_model_module_version": "1.5.0",
            "_model_name": "HBoxModel",
            "_view_count": null,
            "_view_module": "@jupyter-widgets/controls",
            "_view_module_version": "1.5.0",
            "_view_name": "HBoxView",
            "box_style": "",
            "children": [
              "IPY_MODEL_0790b24080a843c8a2e21f325e9d525f",
              "IPY_MODEL_f74b9ed10c71413f881b17426ed3930e",
              "IPY_MODEL_afd28ac5c63b4c0ea4a41df2783123d0"
            ],
            "layout": "IPY_MODEL_9d6b45ffe3f343178e45e5689ab7cafa"
          }
        },
        "0790b24080a843c8a2e21f325e9d525f": {
          "model_module": "@jupyter-widgets/controls",
          "model_name": "HTMLModel",
          "model_module_version": "1.5.0",
          "state": {
            "_dom_classes": [],
            "_model_module": "@jupyter-widgets/controls",
            "_model_module_version": "1.5.0",
            "_model_name": "HTMLModel",
            "_view_count": null,
            "_view_module": "@jupyter-widgets/controls",
            "_view_module_version": "1.5.0",
            "_view_name": "HTMLView",
            "description": "",
            "description_tooltip": null,
            "layout": "IPY_MODEL_c497a79e17d54baa9b0d8c446dd6f32f",
            "placeholder": "​",
            "style": "IPY_MODEL_e1d894b2ca4e491eadf8ef367f29f35f",
            "value": "Generating embeddings: 100%"
          }
        },
        "f74b9ed10c71413f881b17426ed3930e": {
          "model_module": "@jupyter-widgets/controls",
          "model_name": "FloatProgressModel",
          "model_module_version": "1.5.0",
          "state": {
            "_dom_classes": [],
            "_model_module": "@jupyter-widgets/controls",
            "_model_module_version": "1.5.0",
            "_model_name": "FloatProgressModel",
            "_view_count": null,
            "_view_module": "@jupyter-widgets/controls",
            "_view_module_version": "1.5.0",
            "_view_name": "ProgressView",
            "bar_style": "success",
            "description": "",
            "description_tooltip": null,
            "layout": "IPY_MODEL_73b6a49170db4d51b8ed0d464126918a",
            "max": 2048,
            "min": 0,
            "orientation": "horizontal",
            "style": "IPY_MODEL_120cf9a419bf4dd48167e97ebc48d080",
            "value": 2048
          }
        },
        "afd28ac5c63b4c0ea4a41df2783123d0": {
          "model_module": "@jupyter-widgets/controls",
          "model_name": "HTMLModel",
          "model_module_version": "1.5.0",
          "state": {
            "_dom_classes": [],
            "_model_module": "@jupyter-widgets/controls",
            "_model_module_version": "1.5.0",
            "_model_name": "HTMLModel",
            "_view_count": null,
            "_view_module": "@jupyter-widgets/controls",
            "_view_module_version": "1.5.0",
            "_view_name": "HTMLView",
            "description": "",
            "description_tooltip": null,
            "layout": "IPY_MODEL_a676f495ac224ea9a02da9da42ef079f",
            "placeholder": "​",
            "style": "IPY_MODEL_64ee560be1cb4409ad8ce39510fb5218",
            "value": " 2048/2048 [00:14&lt;00:00, 111.15it/s]"
          }
        },
        "9d6b45ffe3f343178e45e5689ab7cafa": {
          "model_module": "@jupyter-widgets/base",
          "model_name": "LayoutModel",
          "model_module_version": "1.2.0",
          "state": {
            "_model_module": "@jupyter-widgets/base",
            "_model_module_version": "1.2.0",
            "_model_name": "LayoutModel",
            "_view_count": null,
            "_view_module": "@jupyter-widgets/base",
            "_view_module_version": "1.2.0",
            "_view_name": "LayoutView",
            "align_content": null,
            "align_items": null,
            "align_self": null,
            "border": null,
            "bottom": null,
            "display": null,
            "flex": null,
            "flex_flow": null,
            "grid_area": null,
            "grid_auto_columns": null,
            "grid_auto_flow": null,
            "grid_auto_rows": null,
            "grid_column": null,
            "grid_gap": null,
            "grid_row": null,
            "grid_template_areas": null,
            "grid_template_columns": null,
            "grid_template_rows": null,
            "height": null,
            "justify_content": null,
            "justify_items": null,
            "left": null,
            "margin": null,
            "max_height": null,
            "max_width": null,
            "min_height": null,
            "min_width": null,
            "object_fit": null,
            "object_position": null,
            "order": null,
            "overflow": null,
            "overflow_x": null,
            "overflow_y": null,
            "padding": null,
            "right": null,
            "top": null,
            "visibility": null,
            "width": null
          }
        },
        "c497a79e17d54baa9b0d8c446dd6f32f": {
          "model_module": "@jupyter-widgets/base",
          "model_name": "LayoutModel",
          "model_module_version": "1.2.0",
          "state": {
            "_model_module": "@jupyter-widgets/base",
            "_model_module_version": "1.2.0",
            "_model_name": "LayoutModel",
            "_view_count": null,
            "_view_module": "@jupyter-widgets/base",
            "_view_module_version": "1.2.0",
            "_view_name": "LayoutView",
            "align_content": null,
            "align_items": null,
            "align_self": null,
            "border": null,
            "bottom": null,
            "display": null,
            "flex": null,
            "flex_flow": null,
            "grid_area": null,
            "grid_auto_columns": null,
            "grid_auto_flow": null,
            "grid_auto_rows": null,
            "grid_column": null,
            "grid_gap": null,
            "grid_row": null,
            "grid_template_areas": null,
            "grid_template_columns": null,
            "grid_template_rows": null,
            "height": null,
            "justify_content": null,
            "justify_items": null,
            "left": null,
            "margin": null,
            "max_height": null,
            "max_width": null,
            "min_height": null,
            "min_width": null,
            "object_fit": null,
            "object_position": null,
            "order": null,
            "overflow": null,
            "overflow_x": null,
            "overflow_y": null,
            "padding": null,
            "right": null,
            "top": null,
            "visibility": null,
            "width": null
          }
        },
        "e1d894b2ca4e491eadf8ef367f29f35f": {
          "model_module": "@jupyter-widgets/controls",
          "model_name": "DescriptionStyleModel",
          "model_module_version": "1.5.0",
          "state": {
            "_model_module": "@jupyter-widgets/controls",
            "_model_module_version": "1.5.0",
            "_model_name": "DescriptionStyleModel",
            "_view_count": null,
            "_view_module": "@jupyter-widgets/base",
            "_view_module_version": "1.2.0",
            "_view_name": "StyleView",
            "description_width": ""
          }
        },
        "73b6a49170db4d51b8ed0d464126918a": {
          "model_module": "@jupyter-widgets/base",
          "model_name": "LayoutModel",
          "model_module_version": "1.2.0",
          "state": {
            "_model_module": "@jupyter-widgets/base",
            "_model_module_version": "1.2.0",
            "_model_name": "LayoutModel",
            "_view_count": null,
            "_view_module": "@jupyter-widgets/base",
            "_view_module_version": "1.2.0",
            "_view_name": "LayoutView",
            "align_content": null,
            "align_items": null,
            "align_self": null,
            "border": null,
            "bottom": null,
            "display": null,
            "flex": null,
            "flex_flow": null,
            "grid_area": null,
            "grid_auto_columns": null,
            "grid_auto_flow": null,
            "grid_auto_rows": null,
            "grid_column": null,
            "grid_gap": null,
            "grid_row": null,
            "grid_template_areas": null,
            "grid_template_columns": null,
            "grid_template_rows": null,
            "height": null,
            "justify_content": null,
            "justify_items": null,
            "left": null,
            "margin": null,
            "max_height": null,
            "max_width": null,
            "min_height": null,
            "min_width": null,
            "object_fit": null,
            "object_position": null,
            "order": null,
            "overflow": null,
            "overflow_x": null,
            "overflow_y": null,
            "padding": null,
            "right": null,
            "top": null,
            "visibility": null,
            "width": null
          }
        },
        "120cf9a419bf4dd48167e97ebc48d080": {
          "model_module": "@jupyter-widgets/controls",
          "model_name": "ProgressStyleModel",
          "model_module_version": "1.5.0",
          "state": {
            "_model_module": "@jupyter-widgets/controls",
            "_model_module_version": "1.5.0",
            "_model_name": "ProgressStyleModel",
            "_view_count": null,
            "_view_module": "@jupyter-widgets/base",
            "_view_module_version": "1.2.0",
            "_view_name": "StyleView",
            "bar_color": null,
            "description_width": ""
          }
        },
        "a676f495ac224ea9a02da9da42ef079f": {
          "model_module": "@jupyter-widgets/base",
          "model_name": "LayoutModel",
          "model_module_version": "1.2.0",
          "state": {
            "_model_module": "@jupyter-widgets/base",
            "_model_module_version": "1.2.0",
            "_model_name": "LayoutModel",
            "_view_count": null,
            "_view_module": "@jupyter-widgets/base",
            "_view_module_version": "1.2.0",
            "_view_name": "LayoutView",
            "align_content": null,
            "align_items": null,
            "align_self": null,
            "border": null,
            "bottom": null,
            "display": null,
            "flex": null,
            "flex_flow": null,
            "grid_area": null,
            "grid_auto_columns": null,
            "grid_auto_flow": null,
            "grid_auto_rows": null,
            "grid_column": null,
            "grid_gap": null,
            "grid_row": null,
            "grid_template_areas": null,
            "grid_template_columns": null,
            "grid_template_rows": null,
            "height": null,
            "justify_content": null,
            "justify_items": null,
            "left": null,
            "margin": null,
            "max_height": null,
            "max_width": null,
            "min_height": null,
            "min_width": null,
            "object_fit": null,
            "object_position": null,
            "order": null,
            "overflow": null,
            "overflow_x": null,
            "overflow_y": null,
            "padding": null,
            "right": null,
            "top": null,
            "visibility": null,
            "width": null
          }
        },
        "64ee560be1cb4409ad8ce39510fb5218": {
          "model_module": "@jupyter-widgets/controls",
          "model_name": "DescriptionStyleModel",
          "model_module_version": "1.5.0",
          "state": {
            "_model_module": "@jupyter-widgets/controls",
            "_model_module_version": "1.5.0",
            "_model_name": "DescriptionStyleModel",
            "_view_count": null,
            "_view_module": "@jupyter-widgets/base",
            "_view_module_version": "1.2.0",
            "_view_name": "StyleView",
            "description_width": ""
          }
        },
        "209c60bf51524713bf61c830fadf01f6": {
          "model_module": "@jupyter-widgets/controls",
          "model_name": "HBoxModel",
          "model_module_version": "1.5.0",
          "state": {
            "_dom_classes": [],
            "_model_module": "@jupyter-widgets/controls",
            "_model_module_version": "1.5.0",
            "_model_name": "HBoxModel",
            "_view_count": null,
            "_view_module": "@jupyter-widgets/controls",
            "_view_module_version": "1.5.0",
            "_view_name": "HBoxView",
            "box_style": "",
            "children": [
              "IPY_MODEL_c467bac509d34568a8217aad724cf55f",
              "IPY_MODEL_3b734163ae2e40578e127fba37126cb1",
              "IPY_MODEL_da81803a668a4125a25b7d365338593e"
            ],
            "layout": "IPY_MODEL_21a53137db1d40c4bbc61af4c2da0b27"
          }
        },
        "c467bac509d34568a8217aad724cf55f": {
          "model_module": "@jupyter-widgets/controls",
          "model_name": "HTMLModel",
          "model_module_version": "1.5.0",
          "state": {
            "_dom_classes": [],
            "_model_module": "@jupyter-widgets/controls",
            "_model_module_version": "1.5.0",
            "_model_name": "HTMLModel",
            "_view_count": null,
            "_view_module": "@jupyter-widgets/controls",
            "_view_module_version": "1.5.0",
            "_view_name": "HTMLView",
            "description": "",
            "description_tooltip": null,
            "layout": "IPY_MODEL_25af6f9f4cf241bda656e5883ad84f90",
            "placeholder": "​",
            "style": "IPY_MODEL_1184b9d5900a4ebfb561f05e689835d2",
            "value": "Generating embeddings: 100%"
          }
        },
        "3b734163ae2e40578e127fba37126cb1": {
          "model_module": "@jupyter-widgets/controls",
          "model_name": "FloatProgressModel",
          "model_module_version": "1.5.0",
          "state": {
            "_dom_classes": [],
            "_model_module": "@jupyter-widgets/controls",
            "_model_module_version": "1.5.0",
            "_model_name": "FloatProgressModel",
            "_view_count": null,
            "_view_module": "@jupyter-widgets/controls",
            "_view_module_version": "1.5.0",
            "_view_name": "ProgressView",
            "bar_style": "success",
            "description": "",
            "description_tooltip": null,
            "layout": "IPY_MODEL_117a0eab7da740a49c9a77a3869f88f0",
            "max": 429,
            "min": 0,
            "orientation": "horizontal",
            "style": "IPY_MODEL_44a563307f964ab0bbfef8e32be5deb6",
            "value": 429
          }
        },
        "da81803a668a4125a25b7d365338593e": {
          "model_module": "@jupyter-widgets/controls",
          "model_name": "HTMLModel",
          "model_module_version": "1.5.0",
          "state": {
            "_dom_classes": [],
            "_model_module": "@jupyter-widgets/controls",
            "_model_module_version": "1.5.0",
            "_model_name": "HTMLModel",
            "_view_count": null,
            "_view_module": "@jupyter-widgets/controls",
            "_view_module_version": "1.5.0",
            "_view_name": "HTMLView",
            "description": "",
            "description_tooltip": null,
            "layout": "IPY_MODEL_0588bca872cc44d18915f484b65d8aa6",
            "placeholder": "​",
            "style": "IPY_MODEL_06784abaa3ed4c3b9a4e371fb36c6bb9",
            "value": " 429/429 [00:03&lt;00:00, 102.56it/s]"
          }
        },
        "21a53137db1d40c4bbc61af4c2da0b27": {
          "model_module": "@jupyter-widgets/base",
          "model_name": "LayoutModel",
          "model_module_version": "1.2.0",
          "state": {
            "_model_module": "@jupyter-widgets/base",
            "_model_module_version": "1.2.0",
            "_model_name": "LayoutModel",
            "_view_count": null,
            "_view_module": "@jupyter-widgets/base",
            "_view_module_version": "1.2.0",
            "_view_name": "LayoutView",
            "align_content": null,
            "align_items": null,
            "align_self": null,
            "border": null,
            "bottom": null,
            "display": null,
            "flex": null,
            "flex_flow": null,
            "grid_area": null,
            "grid_auto_columns": null,
            "grid_auto_flow": null,
            "grid_auto_rows": null,
            "grid_column": null,
            "grid_gap": null,
            "grid_row": null,
            "grid_template_areas": null,
            "grid_template_columns": null,
            "grid_template_rows": null,
            "height": null,
            "justify_content": null,
            "justify_items": null,
            "left": null,
            "margin": null,
            "max_height": null,
            "max_width": null,
            "min_height": null,
            "min_width": null,
            "object_fit": null,
            "object_position": null,
            "order": null,
            "overflow": null,
            "overflow_x": null,
            "overflow_y": null,
            "padding": null,
            "right": null,
            "top": null,
            "visibility": null,
            "width": null
          }
        },
        "25af6f9f4cf241bda656e5883ad84f90": {
          "model_module": "@jupyter-widgets/base",
          "model_name": "LayoutModel",
          "model_module_version": "1.2.0",
          "state": {
            "_model_module": "@jupyter-widgets/base",
            "_model_module_version": "1.2.0",
            "_model_name": "LayoutModel",
            "_view_count": null,
            "_view_module": "@jupyter-widgets/base",
            "_view_module_version": "1.2.0",
            "_view_name": "LayoutView",
            "align_content": null,
            "align_items": null,
            "align_self": null,
            "border": null,
            "bottom": null,
            "display": null,
            "flex": null,
            "flex_flow": null,
            "grid_area": null,
            "grid_auto_columns": null,
            "grid_auto_flow": null,
            "grid_auto_rows": null,
            "grid_column": null,
            "grid_gap": null,
            "grid_row": null,
            "grid_template_areas": null,
            "grid_template_columns": null,
            "grid_template_rows": null,
            "height": null,
            "justify_content": null,
            "justify_items": null,
            "left": null,
            "margin": null,
            "max_height": null,
            "max_width": null,
            "min_height": null,
            "min_width": null,
            "object_fit": null,
            "object_position": null,
            "order": null,
            "overflow": null,
            "overflow_x": null,
            "overflow_y": null,
            "padding": null,
            "right": null,
            "top": null,
            "visibility": null,
            "width": null
          }
        },
        "1184b9d5900a4ebfb561f05e689835d2": {
          "model_module": "@jupyter-widgets/controls",
          "model_name": "DescriptionStyleModel",
          "model_module_version": "1.5.0",
          "state": {
            "_model_module": "@jupyter-widgets/controls",
            "_model_module_version": "1.5.0",
            "_model_name": "DescriptionStyleModel",
            "_view_count": null,
            "_view_module": "@jupyter-widgets/base",
            "_view_module_version": "1.2.0",
            "_view_name": "StyleView",
            "description_width": ""
          }
        },
        "117a0eab7da740a49c9a77a3869f88f0": {
          "model_module": "@jupyter-widgets/base",
          "model_name": "LayoutModel",
          "model_module_version": "1.2.0",
          "state": {
            "_model_module": "@jupyter-widgets/base",
            "_model_module_version": "1.2.0",
            "_model_name": "LayoutModel",
            "_view_count": null,
            "_view_module": "@jupyter-widgets/base",
            "_view_module_version": "1.2.0",
            "_view_name": "LayoutView",
            "align_content": null,
            "align_items": null,
            "align_self": null,
            "border": null,
            "bottom": null,
            "display": null,
            "flex": null,
            "flex_flow": null,
            "grid_area": null,
            "grid_auto_columns": null,
            "grid_auto_flow": null,
            "grid_auto_rows": null,
            "grid_column": null,
            "grid_gap": null,
            "grid_row": null,
            "grid_template_areas": null,
            "grid_template_columns": null,
            "grid_template_rows": null,
            "height": null,
            "justify_content": null,
            "justify_items": null,
            "left": null,
            "margin": null,
            "max_height": null,
            "max_width": null,
            "min_height": null,
            "min_width": null,
            "object_fit": null,
            "object_position": null,
            "order": null,
            "overflow": null,
            "overflow_x": null,
            "overflow_y": null,
            "padding": null,
            "right": null,
            "top": null,
            "visibility": null,
            "width": null
          }
        },
        "44a563307f964ab0bbfef8e32be5deb6": {
          "model_module": "@jupyter-widgets/controls",
          "model_name": "ProgressStyleModel",
          "model_module_version": "1.5.0",
          "state": {
            "_model_module": "@jupyter-widgets/controls",
            "_model_module_version": "1.5.0",
            "_model_name": "ProgressStyleModel",
            "_view_count": null,
            "_view_module": "@jupyter-widgets/base",
            "_view_module_version": "1.2.0",
            "_view_name": "StyleView",
            "bar_color": null,
            "description_width": ""
          }
        },
        "0588bca872cc44d18915f484b65d8aa6": {
          "model_module": "@jupyter-widgets/base",
          "model_name": "LayoutModel",
          "model_module_version": "1.2.0",
          "state": {
            "_model_module": "@jupyter-widgets/base",
            "_model_module_version": "1.2.0",
            "_model_name": "LayoutModel",
            "_view_count": null,
            "_view_module": "@jupyter-widgets/base",
            "_view_module_version": "1.2.0",
            "_view_name": "LayoutView",
            "align_content": null,
            "align_items": null,
            "align_self": null,
            "border": null,
            "bottom": null,
            "display": null,
            "flex": null,
            "flex_flow": null,
            "grid_area": null,
            "grid_auto_columns": null,
            "grid_auto_flow": null,
            "grid_auto_rows": null,
            "grid_column": null,
            "grid_gap": null,
            "grid_row": null,
            "grid_template_areas": null,
            "grid_template_columns": null,
            "grid_template_rows": null,
            "height": null,
            "justify_content": null,
            "justify_items": null,
            "left": null,
            "margin": null,
            "max_height": null,
            "max_width": null,
            "min_height": null,
            "min_width": null,
            "object_fit": null,
            "object_position": null,
            "order": null,
            "overflow": null,
            "overflow_x": null,
            "overflow_y": null,
            "padding": null,
            "right": null,
            "top": null,
            "visibility": null,
            "width": null
          }
        },
        "06784abaa3ed4c3b9a4e371fb36c6bb9": {
          "model_module": "@jupyter-widgets/controls",
          "model_name": "DescriptionStyleModel",
          "model_module_version": "1.5.0",
          "state": {
            "_model_module": "@jupyter-widgets/controls",
            "_model_module_version": "1.5.0",
            "_model_name": "DescriptionStyleModel",
            "_view_count": null,
            "_view_module": "@jupyter-widgets/base",
            "_view_module_version": "1.2.0",
            "_view_name": "StyleView",
            "description_width": ""
          }
        }
      }
    }
  },
  "cells": [
    {
      "cell_type": "markdown",
      "metadata": {
        "id": "view-in-github",
        "colab_type": "text"
      },
      "source": [
        "<a href=\"https://colab.research.google.com/github/bhanuchaddha/The-Ai-Handbook/blob/main/2-Tutorials/RAG/Database/Agentic_RAG_With_MongoDB_and_LamaIndex.ipynb\" target=\"_parent\"><img src=\"https://colab.research.google.com/assets/colab-badge.svg\" alt=\"Open In Colab\"/></a>"
      ]
    },
    {
      "cell_type": "markdown",
      "source": [
        "# Title: RAG with MongoDB and LlamaIndex: A Comprehensive Tutorial\n",
        "\n",
        "## Introduction\n",
        "\n",
        "Retrieval Augmented Generation (RAG) has emerged as a powerful technique in the realm of natural language processing (NLP). It enhances the capabilities of language models by allowing them to access and incorporate external knowledge during text generation. This tutorial focuses on implementing an advanced form of RAG called \"Agentic RAG\" using the robust combination of MongoDB, a leading NoSQL document database, and LlamaIndex, a powerful framework designed for indexing and querying data for LLM applications.\n",
        "\n",
        "In a typical RAG setup, a system retrieves relevant information from a knowledge base (e.g., a vector database) to provide context to a large language model (LLM). This allows the LLM to generate more informed and accurate responses. Agentic RAG takes this a step further by introducing \"agents\" – specialized components that can perform specific actions or interact with different tools to gather and process information more effectively.\n",
        "\n",
        "## Why MongoDB and LlamaIndex?\n",
        "\n",
        "MongoDB: MongoDB's flexible document model and powerful querying capabilities make it a great choice for storing and managing the diverse data that RAG systems often rely on. Its scalability and performance are crucial when dealing with large datasets.\n",
        "\n",
        "LlamaIndex: LlamaIndex simplifies the process of connecting LLMs with external data sources. It provides abstractions for data ingestion, indexing (including vector embeddings), and building sophisticated query engines, which are essential for creating effective RAG systems.\n",
        "\n",
        "## In this tutorial, we will:\n",
        "\n",
        "* Set up a MongoDB database to store our knowledge base.\n",
        "\n",
        "* Use LlamaIndex to ingest data into MongoDB and create a vector index for efficient retrieval.\n",
        "\n",
        "* Implement a basic query engine that leverages the vector index to find relevant documents.\n",
        "\n",
        "* Introduce the concept of \"Agentic RAG\" and demonstrate how to build a simple agent-based system.\n",
        "\n",
        "* Showcase how the agent can interact with the query engine and an LLM to generate context-aware responses.\n",
        "\n",
        "## Prerequisites\n",
        "\n",
        "Before starting, ensure you have the following:\n",
        "\n",
        "* Basic understanding of Python.\n",
        "\n",
        "* Familiarity with language models and vector embeddings (helpful but not mandatory).\n",
        "\n",
        "* A MongoDB database instance (you can use MongoDB Atlas for a free cloud-based option).\n",
        "\n",
        "* An OpenAI API key (for using the OpenAI language model).\n",
        "\n",
        "\n",
        "Let's dive in!"
      ],
      "metadata": {
        "id": "WDqmdEPAsCCI"
      }
    },
    {
      "cell_type": "markdown",
      "source": [
        "# Installation and Setup"
      ],
      "metadata": {
        "id": "SxO9aHKT_Mxn"
      }
    },
    {
      "cell_type": "code",
      "source": [
        "pip install --quiet --upgrade llama-index llama-index-vector-stores-mongodb llama-index-embeddings-openai pymongo faker load_dotenv"
      ],
      "metadata": {
        "id": "t5w6r9ovs9Qj"
      },
      "execution_count": 31,
      "outputs": []
    },
    {
      "cell_type": "code",
      "source": [
        "from google.colab import userdata\n",
        "import os\n",
        "os.environ['OPENAI_API_KEY']=userdata.get('OPENAI_API_KEY')\n",
        "os.environ['MONGO_CONNECTION_STRING']=userdata.get('MONGO_CONNECTION_STRING')"
      ],
      "metadata": {
        "id": "moLG5lXU11xw"
      },
      "execution_count": 32,
      "outputs": []
    },
    {
      "cell_type": "markdown",
      "source": [
        "**Explanation:**\n",
        "\n",
        "*   **`pip install ...`:** This command installs the necessary Python packages for this project. Let's break down each package:\n",
        "    *   `llama-index`: The core library for building the RAG system. It provides tools for data ingestion, indexing, and querying.\n",
        "    *   `llama-index-vector-stores-mongodb`: A LlamaIndex integration that enables using MongoDB as a vector store.\n",
        "    *   `llama-index-embeddings-openai`: A LlamaIndex integration for using OpenAI's embedding models to generate vector embeddings.\n",
        "    *   `pymongo`: The official Python driver for MongoDB, allowing interaction with MongoDB databases.\n",
        "    *   `faker`: A library for generating synthetic data, which will be used to create sample booking records.\n",
        "    *   `load_dotenv`: A library for loading environment variables from a `.env` file (though in this Colab example, it seems environment variables are handled differently).\n",
        "    *   `--quiet`: Suppresses verbose output during installation.\n",
        "    *   `--upgrade`: Ensures that the latest versions of the packages are installed.\n",
        "\n",
        "*   **`from google.colab import userdata`**: This line imports the `userdata` module from the `google.colab` library. This module is specific to Google Colab and is used to securely access user data, such as API keys and other secrets, that are stored within the Colab environment.\n",
        "\n",
        "\n",
        "**References:**\n",
        "\n",
        "*   LlamaIndex Documentation: [https://docs.llamaindex.ai/en/stable/](https://docs.llamaindex.ai/en/stable/)\n",
        "*   PyMongo Documentation: [https://pymongo.readthedocs.io/en/stable/](https://pymongo.readthedocs.io/en/stable/)\n",
        "*   OpenAI Python Library: [https://github.com/openai/openai-python](https://github.com/openai/openai-python)\n",
        "*   Faker Documentation: [https://faker.readthedocs.io/en/master/](https://faker.readthedocs.io/en/master/)"
      ],
      "metadata": {
        "id": "dPYghbPAE3cC"
      }
    },
    {
      "cell_type": "markdown",
      "source": [
        "# Generate Data"
      ],
      "metadata": {
        "id": "D59hnnU-DgIJ"
      }
    },
    {
      "cell_type": "code",
      "source": [
        "db_name = \"shipping_company\""
      ],
      "metadata": {
        "id": "-OQZzsFhD66w"
      },
      "execution_count": 33,
      "outputs": []
    },
    {
      "cell_type": "code",
      "source": [
        "from pymongo import MongoClient\n",
        "from faker import Faker\n",
        "import random\n",
        "from datetime import datetime, timedelta\n",
        "import uuid\n",
        "from dotenv import load_dotenv\n",
        "\n",
        "\n",
        "# Load environment variables from .env\n",
        "load_dotenv()\n",
        "\n",
        "# Read MONGO_CONNECTION_STRING from environment, fallback to a default if not found\n",
        "MONGO_URL = os.getenv(\"MONGO_CONNECTION_STRING\", \"mongodb://localhost:27017\")\n",
        "\n",
        "# MongoDB Connection\n",
        "client = MongoClient(MONGO_URL)\n",
        "db = client[db_name]\n",
        "bookings_collection = db[\"bookings\"]\n",
        "\n",
        "# Faker Initialization\n",
        "fake = Faker()\n",
        "\n",
        "# Sample Data (for variety)\n",
        "cities = [\"Los Angeles\", \"New York\", \"Shanghai\", \"Rotterdam\", \"Singapore\", \"Dubai\", \"Hamburg\", \"Antwerp\", \"Busan\", \"Hong Kong\"]\n",
        "countries = [\"USA\",\"USA\", \"China\", \"Netherlands\", \"Singapore\", \"UAE\", \"Germany\", \"Belgium\", \"South Korea\", \"Hong Kong\"]\n",
        "ports = [\"Port of Los Angeles\", \"Port of New York\", \"Port of Shanghai\", \"Port of Rotterdam\", \"Port of Singapore\", \"Port of Jebel Ali\", \"Port of Hamburg\", \"Port of Antwerp\", \"Port of Busan\", \"Port of Hong Kong\"]\n",
        "booking_channels = [\"Website\", \"Phone\", \"Email\", \"Agent\"]\n",
        "booking_statuses = [\"Pending\", \"Confirmed\", \"In Transit\", \"Delivered\", \"Cancelled\"]\n",
        "vessel_names = [\"Ever Given\", \"Maersk Mc-Kinney Moller\", \"MSC Oscar\", \"HMM Algeciras\", \"COSCO Shipping Universe\", \"OOCL Hong Kong\", \"CMA CGM Antoine de Saint Exupery\", \"APL Raffles\", \"Yang Ming Witness\", \"ONE Innovation\"]\n",
        "container_types = [\"20ft Standard\", \"40ft Standard\", \"40ft High Cube\", \"45ft High Cube\"]\n",
        "\n",
        "def generate_booking():\n",
        "    customer_id = str(uuid.uuid4())\n",
        "    origin_city = random.choice(cities)\n",
        "    destination_city = random.choice(cities)\n",
        "    origin_country = countries[cities.index(origin_city)]\n",
        "    destination_country = countries[cities.index(destination_city)]\n",
        "    origin_port = ports[cities.index(origin_city)]\n",
        "    destination_port = ports[cities.index(destination_city)]\n",
        "\n",
        "    booking = {\n",
        "        \"bookingId\": str(uuid.uuid4()),\n",
        "        \"customer\": {\n",
        "            \"customerId\": customer_id,\n",
        "            \"name\": fake.name(),\n",
        "            \"email\": fake.email(),\n",
        "            \"phone\": fake.phone_number()\n",
        "        },\n",
        "        \"origin\": {\n",
        "            \"city\": origin_city,\n",
        "            \"country\": origin_country,\n",
        "            \"port\": origin_port\n",
        "        },\n",
        "        \"destination\": {\n",
        "            \"city\": destination_city,\n",
        "            \"country\": destination_country,\n",
        "            \"port\": destination_port\n",
        "        },\n",
        "        \"parties\": [\n",
        "            {\n",
        "                \"type\": \"shipper\",\n",
        "                \"name\": fake.company(),\n",
        "                \"address\": fake.address()\n",
        "            },\n",
        "            {\n",
        "                \"type\": \"consignee\",\n",
        "                \"name\": fake.company(),\n",
        "                \"address\": fake.address()\n",
        "            }\n",
        "        ],\n",
        "        \"bookingChannel\": random.choice(booking_channels),\n",
        "        \"bookingStatus\": random.choice(booking_statuses),\n",
        "        \"priceQuotation\": {\n",
        "            \"currency\": \"USD\",\n",
        "            \"amount\": round(random.uniform(1000, 5000), 2),\n",
        "            \"validUntil\": fake.date_time_between(start_date=\"now\", end_date=\"+30d\", tzinfo=None)\n",
        "        },\n",
        "        \"vesselInformation\": {\n",
        "            \"name\": random.choice(vessel_names),\n",
        "            \"imoNumber\": str(random.randint(9000000, 9999999)),\n",
        "            \"voyageNumber\": f\"{random.randint(100, 999)}{random.choice(['E', 'W'])}\"\n",
        "        },\n",
        "        \"container\": {\n",
        "            \"containerNumber\": f\"{random.choice(['MSCU', 'MAEU', 'APLU', 'OOLU'])}{random.randint(1000000, 9999999)}\",\n",
        "            \"type\": random.choice(container_types),\n",
        "            \"sealNumber\": f\"SEAL{random.randint(10000, 99999)}\"\n",
        "        },\n",
        "        \"routeInformation\": {\n",
        "            \"departureDate\": fake.date_time_between(start_date=\"-30d\", end_date=\"+30d\", tzinfo=None),\n",
        "            \"arrivalDate\": fake.date_time_between(start_date=\"+30d\", end_date=\"+90d\", tzinfo=None),\n",
        "            \"transitPorts\": random.sample(ports, random.randint(0, 2))  # 0 to 2 transit ports\n",
        "        },\n",
        "        \"priceInformation\": {\n",
        "            \"freightCharges\": round(random.uniform(800, 4000), 2),\n",
        "            \"originCharges\": round(random.uniform(50, 300), 2),\n",
        "            \"destinationCharges\": round(random.uniform(50, 300), 2),\n",
        "            \"totalCharges\": 0,  # Calculated below\n",
        "            \"currency\": \"USD\"\n",
        "        },\n",
        "        \"createdAt\": fake.date_time_between(start_date=\"-60d\", end_date=\"now\", tzinfo=None),\n",
        "        \"updatedAt\": datetime.now()\n",
        "    }\n",
        "\n",
        "    # Calculate total charges\n",
        "    booking[\"priceInformation\"][\"totalCharges\"] = booking[\"priceInformation\"][\"freightCharges\"] + \\\n",
        "                                                  booking[\"priceInformation\"][\"originCharges\"] + \\\n",
        "                                                  booking[\"priceInformation\"][\"destinationCharges\"]\n",
        "\n",
        "    return booking\n",
        "## Enable below to generate data.\n",
        "# Generate and Insert Data\n",
        "# bookings = []\n",
        "# for _ in range(1000):\n",
        "#     bookings.append(generate_booking())\n",
        "\n",
        "# bookings_collection.insert_many(bookings)\n",
        "\n",
        "print(\"Successfully inserted 1000 booking records!\")"
      ],
      "metadata": {
        "colab": {
          "base_uri": "https://localhost:8080/"
        },
        "id": "VCSBHsE3zOCg",
        "outputId": "9e053aac-f284-4403-e649-fad6ce09b365"
      },
      "execution_count": 34,
      "outputs": [
        {
          "output_type": "stream",
          "name": "stdout",
          "text": [
            "Successfully inserted 1000 booking records!\n"
          ]
        }
      ]
    },
    {
      "cell_type": "markdown",
      "source": [
        "**Explanation:**\n",
        "\n",
        "\n",
        "**In essence, this section generates 1000 fake booking records with realistic data and stores them in a MongoDB database.**"
      ],
      "metadata": {
        "id": "nkycRXxfFGX8"
      }
    },
    {
      "cell_type": "markdown",
      "source": [
        "# Configure LlamaIndex"
      ],
      "metadata": {
        "id": "JDEy-l9cFOSt"
      }
    },
    {
      "cell_type": "code",
      "source": [
        "import getpass, os, pymongo, pprint\n",
        "from pymongo.operations import SearchIndexModel\n",
        "from llama_index.core import SimpleDirectoryReader, VectorStoreIndex, StorageContext\n",
        "from llama_index.core.settings import Settings\n",
        "from llama_index.core.retrievers import VectorIndexRetriever\n",
        "from llama_index.core.vector_stores import MetadataFilter, MetadataFilters, ExactMatchFilter, FilterOperator\n",
        "from llama_index.core.query_engine import RetrieverQueryEngine\n",
        "from llama_index.embeddings.openai import OpenAIEmbedding\n",
        "from llama_index.llms.openai import OpenAI\n",
        "from llama_index.vector_stores.mongodb import MongoDBAtlasVectorSearch"
      ],
      "metadata": {
        "id": "WyL2CTIosED3"
      },
      "execution_count": 60,
      "outputs": []
    },
    {
      "cell_type": "markdown",
      "source": [
        "## Configure LlamaIndex settings.\n",
        "Run the following code to configure settings that are specific to LlamaIndex. These settings specify the following:\n",
        "\n",
        "OpenAI as the LLM used by your application to answer questions on your data.\n",
        "\n",
        "text-embedding-ada-002 as the embedding model used by your application to generate vector embeddings from your data.\n",
        "\n",
        "Chunk size and overlap to customize how LlamaIndex partitions your data for storage."
      ],
      "metadata": {
        "id": "By3m9WMr2Ke0"
      }
    },
    {
      "cell_type": "code",
      "source": [
        "llm= OpenAI()"
      ],
      "metadata": {
        "id": "3FalmnwDG5RT"
      },
      "execution_count": 61,
      "outputs": []
    },
    {
      "cell_type": "code",
      "source": [
        "Settings.llm = OpenAI()\n",
        "Settings.embed_model = OpenAIEmbedding(model=\"text-embedding-ada-002\")\n",
        "Settings.chunk_size = 100\n",
        "Settings.chunk_overlap = 10"
      ],
      "metadata": {
        "id": "rY2jQsA72L64"
      },
      "execution_count": 62,
      "outputs": []
    },
    {
      "cell_type": "markdown",
      "source": [
        "**Explanation:**\n",
        "\n",
        "\n",
        "*   **`llm = OpenAI()`:** This line initializes the `llm` variable with an instance of the `OpenAI` class. This sets the default large language model (LLM) to be used by LlamaIndex to OpenAI's default model (likely GPT-3.5 Turbo or a similar model).\n",
        "\n",
        "*   **`Settings.embed_model = OpenAIEmbedding(model=\"text-embedding-ada-002\")`:** This line configures the embedding model that LlamaIndex will use to generate vector embeddings.\n",
        "    *   `OpenAIEmbedding`: Specifies that an OpenAI embedding model will be used.\n",
        "    *   `model=\"text-embedding-ada-002\"`: Sets the specific OpenAI embedding model to \"text-embedding-ada-002\". This is a widely used and cost-effective embedding model.\n",
        "*   **`Settings.chunk_size = 100`:** This sets the chunk size for text splitting. When LlamaIndex ingests documents, it breaks them down into smaller chunks. This line sets the chunk size to 100 tokens (approximately 100 words, but the exact number can vary depending on the tokenizer).\n",
        "*   **`Settings.chunk_overlap = 10`:** This sets the chunk overlap to 10 tokens. This means that consecutive chunks will have an overlap of 10 tokens, which can help maintain context when querying.\n",
        "\n",
        "**In summary, this section configures LlamaIndex to use OpenAI's language model and embedding model, and it sets parameters for how the text data should be chunked during indexing.**"
      ],
      "metadata": {
        "id": "QK4qWT8zFmQC"
      }
    },
    {
      "cell_type": "markdown",
      "source": [
        "# Data Loading and Indexing"
      ],
      "metadata": {
        "id": "1BjjWjl9FoiF"
      }
    },
    {
      "cell_type": "code",
      "source": [
        "mongo_client = pymongo.MongoClient(os.environ['MONGO_CONNECTION_STRING'])\n",
        "db = mongo_client[db_name]\n",
        "collections = db.list_collection_names()\n",
        "# collections.remove(\"vectors\")"
      ],
      "metadata": {
        "id": "Ihme3aXYsBXU"
      },
      "execution_count": 78,
      "outputs": []
    },
    {
      "cell_type": "code",
      "source": [
        "from llama_index.core import Document\n"
      ],
      "metadata": {
        "id": "IT4eT9_T-7iG"
      },
      "execution_count": 79,
      "outputs": []
    },
    {
      "cell_type": "code",
      "source": [
        "vector_col=\"vectors\"\n",
        "index_name=\"vector_index\""
      ],
      "metadata": {
        "id": "WRY66_6DJ0Gh"
      },
      "execution_count": 80,
      "outputs": []
    },
    {
      "cell_type": "code",
      "source": [
        "# Instantiate the vector store for each collection\n",
        "shipping_vector_store = MongoDBAtlasVectorSearch(\n",
        "    mongo_client,\n",
        "    db_name=db_name,\n",
        "    collection_name=vector_col,\n",
        "    vector_index_name=index_name\n",
        ")"
      ],
      "metadata": {
        "id": "S77oUagNyhBj"
      },
      "execution_count": 104,
      "outputs": []
    },
    {
      "cell_type": "code",
      "source": [
        "for collection_name in collections:\n",
        "    collection = db[collection_name]\n",
        "    raw_documents = list(collection.find({}))\n",
        "    # Convert raw documents (dictionaries) to Document objects\n",
        "    documents = [Document(text=str(doc)) for doc in raw_documents]\n",
        "\n",
        "    vector_store_context = StorageContext.from_defaults(vector_store=shipping_vector_store)\n",
        "    # Convert documents to vector embeddings and store them\n",
        "    vector_store_index = VectorStoreIndex.from_documents(\n",
        "        documents, storage_context=vector_store_context, show_progress=True\n",
        ")"
      ],
      "metadata": {
        "colab": {
          "base_uri": "https://localhost:8080/",
          "height": 177,
          "referenced_widgets": [
            "74b78172bf0f4dce9035467193c98585",
            "925e0f975f454c8fa3eb8c7c48fc7e55",
            "b646cc8760be4485b19d9cbf66fad0b7",
            "732b1cacc86a4dbf9fe9329fac76b7cf",
            "1d2f165706b54335bcefebb75f295f0e",
            "44b5857331b24a3e84b9398af7baaed3",
            "c90595eb7be44beabd66dc24c5f84104",
            "af469a66b9ab411db4cb158c85f88d7d",
            "7417e59d78ee4e2b82b2cd0169e6ee86",
            "ed5afd29e44a4c7788ea9c68f2c429b0",
            "97265da351e94ffcb1eaafdc2b1efe88",
            "b905d9b9fd1740bbaaa712639dbcc583",
            "76e7042070494b339c935aab832d76ff",
            "5981165410214888a1a47a41e1fc41bb",
            "6daab78f5cc54f759ed598ac4e830204",
            "458bbb8ff05e4661ac3afef81a32481c",
            "c58cf66bcae64e3483c0a4e559202316",
            "2f53100ab6204b63973ddd22155e2389",
            "b840a251ebeb44cb8904f7ce0cec020c",
            "a90061eff31e4e14bee39bec9da65455",
            "efd250c9bc984979b32f47d1d060e8c3",
            "666fefc47f494602b5808d5342dd2c20",
            "fedbdb2118d940cfa22014d942ebd6a3",
            "93b3250b10074d4d8431a8b6dde8631a",
            "f1edb921a99745f09c2b93fa795aba73",
            "c805fb8636434934bb93f6a8133462f5",
            "1cbd18f56f0a4b66bfa9b3f387c68390",
            "c1381e5186474918b97a59b4613316fd",
            "a9a16ea3e1f947dc9e5c2efa8ccf5837",
            "d224542200ed4bc9afc322f532800fe8",
            "5bbd1e6dc647426c9ba8ce727be6342f",
            "18774f0c3bc94b0bba5bd4e5050b713c",
            "f2eb20a718044014914ba733b56142c6",
            "3585863ffdce43b5b085058ed8c99248",
            "0790b24080a843c8a2e21f325e9d525f",
            "f74b9ed10c71413f881b17426ed3930e",
            "afd28ac5c63b4c0ea4a41df2783123d0",
            "9d6b45ffe3f343178e45e5689ab7cafa",
            "c497a79e17d54baa9b0d8c446dd6f32f",
            "e1d894b2ca4e491eadf8ef367f29f35f",
            "73b6a49170db4d51b8ed0d464126918a",
            "120cf9a419bf4dd48167e97ebc48d080",
            "a676f495ac224ea9a02da9da42ef079f",
            "64ee560be1cb4409ad8ce39510fb5218",
            "209c60bf51524713bf61c830fadf01f6",
            "c467bac509d34568a8217aad724cf55f",
            "3b734163ae2e40578e127fba37126cb1",
            "da81803a668a4125a25b7d365338593e",
            "21a53137db1d40c4bbc61af4c2da0b27",
            "25af6f9f4cf241bda656e5883ad84f90",
            "1184b9d5900a4ebfb561f05e689835d2",
            "117a0eab7da740a49c9a77a3869f88f0",
            "44a563307f964ab0bbfef8e32be5deb6",
            "0588bca872cc44d18915f484b65d8aa6",
            "06784abaa3ed4c3b9a4e371fb36c6bb9"
          ]
        },
        "id": "asH4SkwrsAwc",
        "outputId": "2556d199-ebb8-497f-f364-815dbb5d873a"
      },
      "execution_count": 82,
      "outputs": [
        {
          "output_type": "display_data",
          "data": {
            "text/plain": [
              "Parsing nodes:   0%|          | 0/1000 [00:00<?, ?it/s]"
            ],
            "application/vnd.jupyter.widget-view+json": {
              "version_major": 2,
              "version_minor": 0,
              "model_id": "74b78172bf0f4dce9035467193c98585"
            }
          },
          "metadata": {}
        },
        {
          "output_type": "display_data",
          "data": {
            "text/plain": [
              "Generating embeddings:   0%|          | 0/2048 [00:00<?, ?it/s]"
            ],
            "application/vnd.jupyter.widget-view+json": {
              "version_major": 2,
              "version_minor": 0,
              "model_id": "b905d9b9fd1740bbaaa712639dbcc583"
            }
          },
          "metadata": {}
        },
        {
          "output_type": "display_data",
          "data": {
            "text/plain": [
              "Generating embeddings:   0%|          | 0/2048 [00:00<?, ?it/s]"
            ],
            "application/vnd.jupyter.widget-view+json": {
              "version_major": 2,
              "version_minor": 0,
              "model_id": "fedbdb2118d940cfa22014d942ebd6a3"
            }
          },
          "metadata": {}
        },
        {
          "output_type": "display_data",
          "data": {
            "text/plain": [
              "Generating embeddings:   0%|          | 0/2048 [00:00<?, ?it/s]"
            ],
            "application/vnd.jupyter.widget-view+json": {
              "version_major": 2,
              "version_minor": 0,
              "model_id": "3585863ffdce43b5b085058ed8c99248"
            }
          },
          "metadata": {}
        },
        {
          "output_type": "display_data",
          "data": {
            "text/plain": [
              "Generating embeddings:   0%|          | 0/429 [00:00<?, ?it/s]"
            ],
            "application/vnd.jupyter.widget-view+json": {
              "version_major": 2,
              "version_minor": 0,
              "model_id": "209c60bf51524713bf61c830fadf01f6"
            }
          },
          "metadata": {}
        }
      ]
    },
    {
      "cell_type": "code",
      "execution_count": 99,
      "metadata": {
        "id": "pmqItwhLpIcx",
        "colab": {
          "base_uri": "https://localhost:8080/",
          "height": 35
        },
        "outputId": "2941a0b5-70b8-4e0a-b1c5-8c1f75d9de8b"
      },
      "outputs": [
        {
          "output_type": "execute_result",
          "data": {
            "text/plain": [
              "'vector_index'"
            ],
            "application/vnd.google.colaboratory.intrinsic+json": {
              "type": "string"
            }
          },
          "metadata": {},
          "execution_count": 99
        }
      ],
      "source": [
        "db = mongo_client[db_name]\n",
        "collection = db[vector_col]\n",
        "\n",
        "# Create your index model, then create the search index\n",
        "search_index_model = SearchIndexModel(\n",
        "  definition={\n",
        "    \"fields\": [\n",
        "      {\n",
        "        \"type\": \"vector\",\n",
        "        \"path\": \"embedding\",\n",
        "        \"numDimensions\": 1536,\n",
        "        \"similarity\": \"cosine\"\n",
        "      },\n",
        "      {\n",
        "        \"type\": \"filter\",\n",
        "        \"path\": \"metadata.page_label\"\n",
        "      }\n",
        "    ]\n",
        "  },\n",
        "  name=\"vector_index\",\n",
        "  type=\"vectorSearch\",\n",
        ")\n",
        "\n",
        "collection.create_search_index(model=search_index_model)\n",
        "\n"
      ]
    },
    {
      "cell_type": "markdown",
      "source": [
        "**Explanation:**\n",
        "\n",
        "\n",
        "*   **`shipping_vector_store = MongoDBAtlasVectorSearch(...)`:** This line creates an instance of `MongoDBAtlasVectorSearch`, which is a LlamaIndex class that represents a vector store backed by MongoDB Atlas.\n",
        "    *   `mongo_client`: The MongoDB client object used to connect to the database.\n",
        "    *   `db_name`: The name of the database.\n",
        "    *   `collection_name`: The name of the collection where vectors will be stored (\"vectors\").\n",
        "    *   `index_name`: The name of the vector index (\"vector\\_index\").\n",
        "*   **`for collection_name in collections:`:** This loop iterates through each collection name in the list of collections retrieved earlier.\n",
        "    *   **`documents = [Document(text=str(doc)) for doc in raw_documents]`:** This is a list comprehension that converts each raw document (a dictionary) into a LlamaIndex `Document` object. The `text` of the `Document` is set to the string representation of the raw document.\n",
        "    *   **`vector_store_context = StorageContext.from_defaults(vector_store=shipping_vector_store)`:** Creates a `StorageContext` object, which manages how data is stored in LlamaIndex. It's configured to use the `shipping_vector_store` (the MongoDB vector store) that was created earlier.\n",
        "    *   **`vector_store_index = VectorStoreIndex.from_documents(...)`:** This is the core indexing step. It creates a `VectorStoreIndex` from the `Document` objects.\n",
        "        *   `documents`: The list of `Document` objects to be indexed.\n",
        "        *   `storage_context`: The `StorageContext` that specifies where to store the index data (in this case, the MongoDB vector store).\n",
        "        *   `show_progress=True`: Displays a progress bar during the indexing process.\n",
        "\n",
        "*   **`search_index_model = SearchIndexModel(...)`:** This defines the structure of the vector search index that will be created in MongoDB.\n",
        "    *   **`definition`:** Specifies the fields to be indexed and their types.\n",
        "        *   **`type: \"vector\"`:** Indicates a vector field for storing embeddings.\n",
        "            *   `path`: The path to the embedding field within the document (it will be named \"embedding\").\n",
        "            *   `numDimensions`: The dimensionality of the embeddings (1536, which is the dimensionality of the \"text-embedding-ada-002\" model).\n",
        "            *   `similarity`: The similarity function to use for vector search (\"cosine\" similarity).\n",
        "        *   **`type: \"filter\"`:** Indicates a filterable field.\n",
        "            *   `path`: The path to the filterable field (\"metadata.page\\_label\").\n",
        "    *   **`name: \"vector_index\"`:** The name of the index.\n",
        "    *   **`type: \"vectorSearch\"`:** Specifies that this is a vector search index.\n",
        "*   **`collection.create_search_index(model=search_index_model)`:** This line creates the vector search index in MongoDB based on the defined `search_index_model`.\n",
        "\n",
        "**In essence, this section loads the data from MongoDB, converts it into LlamaIndex `Document` objects, generates vector embeddings for the documents using the configured embedding model, and stores the embeddings in a MongoDB collection along with a vector search index for efficient querying.**"
      ],
      "metadata": {
        "id": "-LzuFjXfF0Mj"
      }
    },
    {
      "cell_type": "markdown",
      "source": [
        "# Search"
      ],
      "metadata": {
        "id": "5RxyBLmdpRLr"
      }
    },
    {
      "cell_type": "code",
      "source": [
        "from llama_index.core import VectorStoreIndex\n",
        "from llama_index.core.tools import QueryEngineTool, ToolMetadata\n",
        "index = VectorStoreIndex.from_vector_store(shipping_vector_store)\n",
        "query_engine = index.as_query_engine(similarity_top_k=100, llm=llm)\n"
      ],
      "metadata": {
        "id": "8ptth2ydF7t6"
      },
      "execution_count": 101,
      "outputs": []
    },
    {
      "cell_type": "markdown",
      "source": [
        "**Explanation:**\n",
        "\n",
        "*   **`from llama_index.core import VectorStoreIndex ...`:** These lines import necessary classes from LlamaIndex:\n",
        "    *   `VectorStoreIndex`: For creating an index from a vector store.\n",
        "    *   `QueryEngineTool`, `ToolMetadata`: For creating tools that can be used by agents (not directly used in this section but relevant for the Agentic RAG concept).\n",
        "*   **`index = VectorStoreIndex.from_vector_store(shipping_vector_store)`:** This line creates a `VectorStoreIndex` object from the `shipping_vector_store` (the MongoDB vector store) that was created earlier. This index allows you to query the data using vector search.\n",
        "*   **`query_engine = index.as_query_engine(similarity_top_k=100, llm=llm)`:** This line creates a query engine from the index.\n",
        "    *   `similarity_top_k=100`: Specifies that the query engine should retrieve the top 100 most similar documents based on vector similarity.\n",
        "    *   `llm=llm`: Sets the language model to be used by the query engine to the `llm` object (which was configured earlier to be an OpenAI model).\n"
      ],
      "metadata": {
        "id": "lgJ2m4lCGB-T"
      }
    },
    {
      "cell_type": "code",
      "source": [
        "query_text = \"how many booking are there for Lisa Peterson?. give me the infomation about those bookings\"\n",
        "response = query_engine.query(query_text)\n",
        "print(response)\n",
        "\n"
      ],
      "metadata": {
        "colab": {
          "base_uri": "https://localhost:8080/"
        },
        "id": "dHJFK5zoG-yx",
        "outputId": "b2ef19d6-f910-4867-f2a2-a48124e46ebe"
      },
      "execution_count": 105,
      "outputs": [
        {
          "output_type": "stream",
          "name": "stdout",
          "text": [
            "There are two bookings for Lisa Peterson. The first booking has the consignee name 'Peters Group' with the address '04551 Jessica Squares Suite 692, Port Nicole, MN 04965' and the booking channel is 'Phone'. The second booking has the consignee name 'Cooke-Bass' with the address '117 Timothy Island, Jennabury, WA 59527' and the booking channel is 'Phone'.\n"
          ]
        }
      ]
    },
    {
      "cell_type": "code",
      "source": [
        "query_text = \"How many customers do i have? List the customers\"\n",
        "response = query_engine.query(query_text)\n",
        "print(response)"
      ],
      "metadata": {
        "colab": {
          "base_uri": "https://localhost:8080/"
        },
        "id": "9d7fh4Rcz45q",
        "outputId": "ab7ddb33-f539-43ae-d790-a6d9762a94d9"
      },
      "execution_count": 86,
      "outputs": [
        {
          "output_type": "stream",
          "name": "stdout",
          "text": [
            "Empty Response\n"
          ]
        }
      ]
    },
    {
      "cell_type": "code",
      "source": [
        "query_text = \"Give me markdown table for booking, customer, cost for all the booking in or out of China\"\n",
        "response = query_engine.query(query_text)\n",
        "print(response)"
      ],
      "metadata": {
        "colab": {
          "base_uri": "https://localhost:8080/"
        },
        "id": "YPPl2c4-3E_N",
        "outputId": "a452a117-65bc-417c-8a92-1cfd1db32a5b"
      },
      "execution_count": 87,
      "outputs": [
        {
          "output_type": "stream",
          "name": "stdout",
          "text": [
            "Empty Response\n"
          ]
        }
      ]
    },
    {
      "cell_type": "code",
      "source": [
        "query_text = \"What is the average total cost of shipments originating from ports in the USA and destined for ports in Asia, and how does this compare to the average cost of shipments between European ports? Provide a breakdown by destination port.\"\n",
        "response = query_engine.query(query_text)\n",
        "print(response)"
      ],
      "metadata": {
        "colab": {
          "base_uri": "https://localhost:8080/"
        },
        "id": "VlI49AzRCz6P",
        "outputId": "6c51ccf2-c7a0-4511-ff8c-2cc2e0d532e1"
      },
      "execution_count": 88,
      "outputs": [
        {
          "output_type": "stream",
          "name": "stdout",
          "text": [
            "Empty Response\n"
          ]
        }
      ]
    },
    {
      "cell_type": "markdown",
      "source": [
        "**Conclusion**\n",
        "\n",
        "This tutorial provided a comprehensive guide to building an RAG system using MongoDB and LlamaIndex. We covered the essential steps, from setting up the environment and generating data to indexing the data in MongoDB and creating a query engine for semantic search.\n",
        "\n",
        "By leveraging the power of MongoDB's flexible data model and LlamaIndex's indexing and querying capabilities, you can create sophisticated RAG systems that can answer complex questions based on your data. The introduction of \"agents\" further enhances the system's capabilities, allowing for more dynamic and intelligent interactions with external knowledge sources.\n",
        "\n",
        "As you continue to explore RAG, consider experimenting with different agent architectures, tools, and query engine configurations to build even more powerful and adaptable LLM applications. The combination of MongoDB and LlamaIndex provides a solid foundation for your journey into the exciting world of advanced RAG systems."
      ],
      "metadata": {
        "id": "_w2STQXZGFFX"
      }
    },
    {
      "cell_type": "markdown",
      "source": [
        "# Running code with UI"
      ],
      "metadata": {
        "id": "DhjzEmQJsBe0"
      }
    },
    {
      "cell_type": "code",
      "source": [
        "!pip install gradio"
      ],
      "metadata": {
        "id": "50vO5eSfsKjV"
      },
      "execution_count": null,
      "outputs": []
    },
    {
      "cell_type": "markdown",
      "source": [
        "# Query Interface for MongoDB data"
      ],
      "metadata": {
        "id": "xNkaVEXKEAl3"
      }
    },
    {
      "cell_type": "code",
      "source": [
        "import gradio as gr\n",
        "\n",
        "# Define the query function for Gradio\n",
        "def query_function(query):\n",
        "    response = query_engine.query(query)\n",
        "    return response\n",
        "\n",
        "# Create the Gradio interface\n",
        "iface = gr.Interface(\n",
        "    fn=query_function,\n",
        "    inputs=gr.Textbox(placeholder=\"Enter your query here...\"),\n",
        "    outputs=\"text\",\n",
        "    title=\"Vector Store Query Interface\",\n",
        "    description=\"Ask a question and get an answer from the vector store.\",\n",
        ")\n",
        "\n",
        "# Launch the interface (share=True creates a temporary public URL)\n",
        "iface.launch(share=True)"
      ],
      "metadata": {
        "colab": {
          "base_uri": "https://localhost:8080/",
          "height": 612
        },
        "id": "loj6UCx7APsR",
        "outputId": "afab0941-817a-480c-9e7b-c25aaa28e0ba"
      },
      "execution_count": 90,
      "outputs": [
        {
          "output_type": "stream",
          "name": "stdout",
          "text": [
            "Colab notebook detected. To show errors in colab notebook, set debug=True in launch()\n",
            "* Running on public URL: https://f450ec7a02e99b8554.gradio.live\n",
            "\n",
            "This share link expires in 72 hours. For free permanent hosting and GPU upgrades, run `gradio deploy` from the terminal in the working directory to deploy to Hugging Face Spaces (https://huggingface.co/spaces)\n"
          ]
        },
        {
          "output_type": "display_data",
          "data": {
            "text/plain": [
              "<IPython.core.display.HTML object>"
            ],
            "text/html": [
              "<div><iframe src=\"https://f450ec7a02e99b8554.gradio.live\" width=\"100%\" height=\"500\" allow=\"autoplay; camera; microphone; clipboard-read; clipboard-write;\" frameborder=\"0\" allowfullscreen></iframe></div>"
            ]
          },
          "metadata": {}
        },
        {
          "output_type": "execute_result",
          "data": {
            "text/plain": []
          },
          "metadata": {},
          "execution_count": 90
        }
      ]
    },
    {
      "cell_type": "markdown",
      "source": [
        "# Chat Interface for MongoDB data"
      ],
      "metadata": {
        "id": "LOitDxR6EU4K"
      }
    },
    {
      "cell_type": "code",
      "source": [
        "# Corrected respond function\n",
        "def respond(message, chat_history):\n",
        "    bot_message = query_engine.query(message)\n",
        "    chat_history.append([message, str(bot_message)])  # Append as a list [user_msg, bot_msg]\n",
        "    return \"\", chat_history\n",
        "\n",
        "with gr.Blocks() as demo:\n",
        "    chatbot = gr.Chatbot()\n",
        "    msg = gr.Textbox()\n",
        "    clear = gr.Button(\"Clear\")\n",
        "\n",
        "    msg.submit(respond, [msg, chatbot], [msg, chatbot])\n",
        "    clear.click(lambda: [], None, chatbot, queue=False)  # Clear chat history\n",
        "\n",
        "demo.launch(share=True)"
      ],
      "metadata": {
        "colab": {
          "base_uri": "https://localhost:8080/",
          "height": 648
        },
        "id": "BrKapYIIBVcF",
        "outputId": "a97eb285-61cf-45b5-d3ad-78d05b6d7aaf"
      },
      "execution_count": 106,
      "outputs": [
        {
          "output_type": "stream",
          "name": "stderr",
          "text": [
            "/usr/local/lib/python3.10/dist-packages/gradio/components/chatbot.py:242: UserWarning: You have not specified a value for the `type` parameter. Defaulting to the 'tuples' format for chatbot messages, but this is deprecated and will be removed in a future version of Gradio. Please set type='messages' instead, which uses openai-style dictionaries with 'role' and 'content' keys.\n",
            "  warnings.warn(\n"
          ]
        },
        {
          "output_type": "stream",
          "name": "stdout",
          "text": [
            "Colab notebook detected. To show errors in colab notebook, set debug=True in launch()\n",
            "* Running on public URL: https://e927cf95a9cbf15879.gradio.live\n",
            "\n",
            "This share link expires in 72 hours. For free permanent hosting and GPU upgrades, run `gradio deploy` from the terminal in the working directory to deploy to Hugging Face Spaces (https://huggingface.co/spaces)\n"
          ]
        },
        {
          "output_type": "display_data",
          "data": {
            "text/plain": [
              "<IPython.core.display.HTML object>"
            ],
            "text/html": [
              "<div><iframe src=\"https://e927cf95a9cbf15879.gradio.live\" width=\"100%\" height=\"500\" allow=\"autoplay; camera; microphone; clipboard-read; clipboard-write;\" frameborder=\"0\" allowfullscreen></iframe></div>"
            ]
          },
          "metadata": {}
        },
        {
          "output_type": "execute_result",
          "data": {
            "text/plain": []
          },
          "metadata": {},
          "execution_count": 106
        }
      ]
    },
    {
      "cell_type": "markdown",
      "source": [
        "# Sample Questions\n",
        "\n",
        "\n",
        "1.   For bookings destined for Germany, what is the most common container type used?\n",
        "2.   How many bookings have a total charge greater than $2500 and were created in the last two weeks?\n",
        "3. which customer made maximum number of booking?\n",
        "4. The most busy port based on the provided context information is the Port of Busan in South Korea. There are a total of 36 bookings originating from the Port of Busan.\n",
        "5. Identify any customers who have had more than 2 bookings with a 'Cancelled' status. For these customers, what is the average value of their 'Confirmed' bookings?\n",
        "6. List all bookings originating from the Port of Los Angeles. Output should be Markdown with bookingID, Source, Destination, Customer and Value\n",
        "\n"
      ],
      "metadata": {
        "id": "yxcURUe2g6by"
      }
    }
  ]
}