{
  "nbformat": 4,
  "nbformat_minor": 0,
  "metadata": {
    "colab": {
      "provenance": [],
      "authorship_tag": "ABX9TyOwVbMAQ1Kqj99K4m8qe2w4",
      "include_colab_link": true
    },
    "kernelspec": {
      "name": "python3",
      "display_name": "Python 3"
    },
    "language_info": {
      "name": "python"
    },
    "widgets": {
      "application/vnd.jupyter.widget-state+json": {
        "0966f9c7f06d4c2d9d3e240fa9b8475e": {
          "model_module": "@jupyter-widgets/controls",
          "model_name": "HBoxModel",
          "model_module_version": "1.5.0",
          "state": {
            "_dom_classes": [],
            "_model_module": "@jupyter-widgets/controls",
            "_model_module_version": "1.5.0",
            "_model_name": "HBoxModel",
            "_view_count": null,
            "_view_module": "@jupyter-widgets/controls",
            "_view_module_version": "1.5.0",
            "_view_name": "HBoxView",
            "box_style": "",
            "children": [
              "IPY_MODEL_80600ff7e89e4ed599db12c8e04fc04b",
              "IPY_MODEL_14b30224aefa43f697738286a3f7aa17",
              "IPY_MODEL_b460c81a879b4cd48772b8613ae1a007"
            ],
            "layout": "IPY_MODEL_5a1f5d2838c34c2090a154dbd2a99694"
          }
        },
        "80600ff7e89e4ed599db12c8e04fc04b": {
          "model_module": "@jupyter-widgets/controls",
          "model_name": "HTMLModel",
          "model_module_version": "1.5.0",
          "state": {
            "_dom_classes": [],
            "_model_module": "@jupyter-widgets/controls",
            "_model_module_version": "1.5.0",
            "_model_name": "HTMLModel",
            "_view_count": null,
            "_view_module": "@jupyter-widgets/controls",
            "_view_module_version": "1.5.0",
            "_view_name": "HTMLView",
            "description": "",
            "description_tooltip": null,
            "layout": "IPY_MODEL_6b24aa38e0ac4798b9cdbef983f02449",
            "placeholder": "​",
            "style": "IPY_MODEL_00c27f3a4f8b428f9a7e66d2c626a855",
            "value": "Parsing nodes: 100%"
          }
        },
        "14b30224aefa43f697738286a3f7aa17": {
          "model_module": "@jupyter-widgets/controls",
          "model_name": "FloatProgressModel",
          "model_module_version": "1.5.0",
          "state": {
            "_dom_classes": [],
            "_model_module": "@jupyter-widgets/controls",
            "_model_module_version": "1.5.0",
            "_model_name": "FloatProgressModel",
            "_view_count": null,
            "_view_module": "@jupyter-widgets/controls",
            "_view_module_version": "1.5.0",
            "_view_name": "ProgressView",
            "bar_style": "success",
            "description": "",
            "description_tooltip": null,
            "layout": "IPY_MODEL_c8d1d06eb4d546ad9bec8b02a22e6645",
            "max": 1000,
            "min": 0,
            "orientation": "horizontal",
            "style": "IPY_MODEL_62e1ecf10b1f400198ed7e03eba0e693",
            "value": 1000
          }
        },
        "b460c81a879b4cd48772b8613ae1a007": {
          "model_module": "@jupyter-widgets/controls",
          "model_name": "HTMLModel",
          "model_module_version": "1.5.0",
          "state": {
            "_dom_classes": [],
            "_model_module": "@jupyter-widgets/controls",
            "_model_module_version": "1.5.0",
            "_model_name": "HTMLModel",
            "_view_count": null,
            "_view_module": "@jupyter-widgets/controls",
            "_view_module_version": "1.5.0",
            "_view_name": "HTMLView",
            "description": "",
            "description_tooltip": null,
            "layout": "IPY_MODEL_c71ecf66f56c40d0bdedf0577bfc1818",
            "placeholder": "​",
            "style": "IPY_MODEL_07f751c98f154987b789a1908d187ccd",
            "value": " 1000/1000 [00:04&lt;00:00, 299.79it/s]"
          }
        },
        "5a1f5d2838c34c2090a154dbd2a99694": {
          "model_module": "@jupyter-widgets/base",
          "model_name": "LayoutModel",
          "model_module_version": "1.2.0",
          "state": {
            "_model_module": "@jupyter-widgets/base",
            "_model_module_version": "1.2.0",
            "_model_name": "LayoutModel",
            "_view_count": null,
            "_view_module": "@jupyter-widgets/base",
            "_view_module_version": "1.2.0",
            "_view_name": "LayoutView",
            "align_content": null,
            "align_items": null,
            "align_self": null,
            "border": null,
            "bottom": null,
            "display": null,
            "flex": null,
            "flex_flow": null,
            "grid_area": null,
            "grid_auto_columns": null,
            "grid_auto_flow": null,
            "grid_auto_rows": null,
            "grid_column": null,
            "grid_gap": null,
            "grid_row": null,
            "grid_template_areas": null,
            "grid_template_columns": null,
            "grid_template_rows": null,
            "height": null,
            "justify_content": null,
            "justify_items": null,
            "left": null,
            "margin": null,
            "max_height": null,
            "max_width": null,
            "min_height": null,
            "min_width": null,
            "object_fit": null,
            "object_position": null,
            "order": null,
            "overflow": null,
            "overflow_x": null,
            "overflow_y": null,
            "padding": null,
            "right": null,
            "top": null,
            "visibility": null,
            "width": null
          }
        },
        "6b24aa38e0ac4798b9cdbef983f02449": {
          "model_module": "@jupyter-widgets/base",
          "model_name": "LayoutModel",
          "model_module_version": "1.2.0",
          "state": {
            "_model_module": "@jupyter-widgets/base",
            "_model_module_version": "1.2.0",
            "_model_name": "LayoutModel",
            "_view_count": null,
            "_view_module": "@jupyter-widgets/base",
            "_view_module_version": "1.2.0",
            "_view_name": "LayoutView",
            "align_content": null,
            "align_items": null,
            "align_self": null,
            "border": null,
            "bottom": null,
            "display": null,
            "flex": null,
            "flex_flow": null,
            "grid_area": null,
            "grid_auto_columns": null,
            "grid_auto_flow": null,
            "grid_auto_rows": null,
            "grid_column": null,
            "grid_gap": null,
            "grid_row": null,
            "grid_template_areas": null,
            "grid_template_columns": null,
            "grid_template_rows": null,
            "height": null,
            "justify_content": null,
            "justify_items": null,
            "left": null,
            "margin": null,
            "max_height": null,
            "max_width": null,
            "min_height": null,
            "min_width": null,
            "object_fit": null,
            "object_position": null,
            "order": null,
            "overflow": null,
            "overflow_x": null,
            "overflow_y": null,
            "padding": null,
            "right": null,
            "top": null,
            "visibility": null,
            "width": null
          }
        },
        "00c27f3a4f8b428f9a7e66d2c626a855": {
          "model_module": "@jupyter-widgets/controls",
          "model_name": "DescriptionStyleModel",
          "model_module_version": "1.5.0",
          "state": {
            "_model_module": "@jupyter-widgets/controls",
            "_model_module_version": "1.5.0",
            "_model_name": "DescriptionStyleModel",
            "_view_count": null,
            "_view_module": "@jupyter-widgets/base",
            "_view_module_version": "1.2.0",
            "_view_name": "StyleView",
            "description_width": ""
          }
        },
        "c8d1d06eb4d546ad9bec8b02a22e6645": {
          "model_module": "@jupyter-widgets/base",
          "model_name": "LayoutModel",
          "model_module_version": "1.2.0",
          "state": {
            "_model_module": "@jupyter-widgets/base",
            "_model_module_version": "1.2.0",
            "_model_name": "LayoutModel",
            "_view_count": null,
            "_view_module": "@jupyter-widgets/base",
            "_view_module_version": "1.2.0",
            "_view_name": "LayoutView",
            "align_content": null,
            "align_items": null,
            "align_self": null,
            "border": null,
            "bottom": null,
            "display": null,
            "flex": null,
            "flex_flow": null,
            "grid_area": null,
            "grid_auto_columns": null,
            "grid_auto_flow": null,
            "grid_auto_rows": null,
            "grid_column": null,
            "grid_gap": null,
            "grid_row": null,
            "grid_template_areas": null,
            "grid_template_columns": null,
            "grid_template_rows": null,
            "height": null,
            "justify_content": null,
            "justify_items": null,
            "left": null,
            "margin": null,
            "max_height": null,
            "max_width": null,
            "min_height": null,
            "min_width": null,
            "object_fit": null,
            "object_position": null,
            "order": null,
            "overflow": null,
            "overflow_x": null,
            "overflow_y": null,
            "padding": null,
            "right": null,
            "top": null,
            "visibility": null,
            "width": null
          }
        },
        "62e1ecf10b1f400198ed7e03eba0e693": {
          "model_module": "@jupyter-widgets/controls",
          "model_name": "ProgressStyleModel",
          "model_module_version": "1.5.0",
          "state": {
            "_model_module": "@jupyter-widgets/controls",
            "_model_module_version": "1.5.0",
            "_model_name": "ProgressStyleModel",
            "_view_count": null,
            "_view_module": "@jupyter-widgets/base",
            "_view_module_version": "1.2.0",
            "_view_name": "StyleView",
            "bar_color": null,
            "description_width": ""
          }
        },
        "c71ecf66f56c40d0bdedf0577bfc1818": {
          "model_module": "@jupyter-widgets/base",
          "model_name": "LayoutModel",
          "model_module_version": "1.2.0",
          "state": {
            "_model_module": "@jupyter-widgets/base",
            "_model_module_version": "1.2.0",
            "_model_name": "LayoutModel",
            "_view_count": null,
            "_view_module": "@jupyter-widgets/base",
            "_view_module_version": "1.2.0",
            "_view_name": "LayoutView",
            "align_content": null,
            "align_items": null,
            "align_self": null,
            "border": null,
            "bottom": null,
            "display": null,
            "flex": null,
            "flex_flow": null,
            "grid_area": null,
            "grid_auto_columns": null,
            "grid_auto_flow": null,
            "grid_auto_rows": null,
            "grid_column": null,
            "grid_gap": null,
            "grid_row": null,
            "grid_template_areas": null,
            "grid_template_columns": null,
            "grid_template_rows": null,
            "height": null,
            "justify_content": null,
            "justify_items": null,
            "left": null,
            "margin": null,
            "max_height": null,
            "max_width": null,
            "min_height": null,
            "min_width": null,
            "object_fit": null,
            "object_position": null,
            "order": null,
            "overflow": null,
            "overflow_x": null,
            "overflow_y": null,
            "padding": null,
            "right": null,
            "top": null,
            "visibility": null,
            "width": null
          }
        },
        "07f751c98f154987b789a1908d187ccd": {
          "model_module": "@jupyter-widgets/controls",
          "model_name": "DescriptionStyleModel",
          "model_module_version": "1.5.0",
          "state": {
            "_model_module": "@jupyter-widgets/controls",
            "_model_module_version": "1.5.0",
            "_model_name": "DescriptionStyleModel",
            "_view_count": null,
            "_view_module": "@jupyter-widgets/base",
            "_view_module_version": "1.2.0",
            "_view_name": "StyleView",
            "description_width": ""
          }
        },
        "3b4c6c7bbf454079942d62c3325a5b0f": {
          "model_module": "@jupyter-widgets/controls",
          "model_name": "HBoxModel",
          "model_module_version": "1.5.0",
          "state": {
            "_dom_classes": [],
            "_model_module": "@jupyter-widgets/controls",
            "_model_module_version": "1.5.0",
            "_model_name": "HBoxModel",
            "_view_count": null,
            "_view_module": "@jupyter-widgets/controls",
            "_view_module_version": "1.5.0",
            "_view_name": "HBoxView",
            "box_style": "",
            "children": [
              "IPY_MODEL_c13df4c60980442ab61270444d1ad0ac",
              "IPY_MODEL_ee4c1cbba33b4b8b83acceb6c5ec9ed9",
              "IPY_MODEL_e45a9aca17f74a9ca54c536af43e1d1d"
            ],
            "layout": "IPY_MODEL_d4635d5fd4d244e2bb0970a4f237b615"
          }
        },
        "c13df4c60980442ab61270444d1ad0ac": {
          "model_module": "@jupyter-widgets/controls",
          "model_name": "HTMLModel",
          "model_module_version": "1.5.0",
          "state": {
            "_dom_classes": [],
            "_model_module": "@jupyter-widgets/controls",
            "_model_module_version": "1.5.0",
            "_model_name": "HTMLModel",
            "_view_count": null,
            "_view_module": "@jupyter-widgets/controls",
            "_view_module_version": "1.5.0",
            "_view_name": "HTMLView",
            "description": "",
            "description_tooltip": null,
            "layout": "IPY_MODEL_26ce2e24c3ea4106b3f97fce83d9732d",
            "placeholder": "​",
            "style": "IPY_MODEL_ba768f053d8346829ef5027ebdab8a02",
            "value": "Generating embeddings: 100%"
          }
        },
        "ee4c1cbba33b4b8b83acceb6c5ec9ed9": {
          "model_module": "@jupyter-widgets/controls",
          "model_name": "FloatProgressModel",
          "model_module_version": "1.5.0",
          "state": {
            "_dom_classes": [],
            "_model_module": "@jupyter-widgets/controls",
            "_model_module_version": "1.5.0",
            "_model_name": "FloatProgressModel",
            "_view_count": null,
            "_view_module": "@jupyter-widgets/controls",
            "_view_module_version": "1.5.0",
            "_view_name": "ProgressView",
            "bar_style": "success",
            "description": "",
            "description_tooltip": null,
            "layout": "IPY_MODEL_546d261dfd0b4fc08730295a44fd7e0b",
            "max": 2048,
            "min": 0,
            "orientation": "horizontal",
            "style": "IPY_MODEL_86543a873de442bd96dc0463faedeee3",
            "value": 2048
          }
        },
        "e45a9aca17f74a9ca54c536af43e1d1d": {
          "model_module": "@jupyter-widgets/controls",
          "model_name": "HTMLModel",
          "model_module_version": "1.5.0",
          "state": {
            "_dom_classes": [],
            "_model_module": "@jupyter-widgets/controls",
            "_model_module_version": "1.5.0",
            "_model_name": "HTMLModel",
            "_view_count": null,
            "_view_module": "@jupyter-widgets/controls",
            "_view_module_version": "1.5.0",
            "_view_name": "HTMLView",
            "description": "",
            "description_tooltip": null,
            "layout": "IPY_MODEL_f1d41cb02a7447169635369d02aba2d1",
            "placeholder": "​",
            "style": "IPY_MODEL_2b530da617d64f69be187050feea7ee0",
            "value": " 2048/2048 [00:18&lt;00:00, 108.01it/s]"
          }
        },
        "d4635d5fd4d244e2bb0970a4f237b615": {
          "model_module": "@jupyter-widgets/base",
          "model_name": "LayoutModel",
          "model_module_version": "1.2.0",
          "state": {
            "_model_module": "@jupyter-widgets/base",
            "_model_module_version": "1.2.0",
            "_model_name": "LayoutModel",
            "_view_count": null,
            "_view_module": "@jupyter-widgets/base",
            "_view_module_version": "1.2.0",
            "_view_name": "LayoutView",
            "align_content": null,
            "align_items": null,
            "align_self": null,
            "border": null,
            "bottom": null,
            "display": null,
            "flex": null,
            "flex_flow": null,
            "grid_area": null,
            "grid_auto_columns": null,
            "grid_auto_flow": null,
            "grid_auto_rows": null,
            "grid_column": null,
            "grid_gap": null,
            "grid_row": null,
            "grid_template_areas": null,
            "grid_template_columns": null,
            "grid_template_rows": null,
            "height": null,
            "justify_content": null,
            "justify_items": null,
            "left": null,
            "margin": null,
            "max_height": null,
            "max_width": null,
            "min_height": null,
            "min_width": null,
            "object_fit": null,
            "object_position": null,
            "order": null,
            "overflow": null,
            "overflow_x": null,
            "overflow_y": null,
            "padding": null,
            "right": null,
            "top": null,
            "visibility": null,
            "width": null
          }
        },
        "26ce2e24c3ea4106b3f97fce83d9732d": {
          "model_module": "@jupyter-widgets/base",
          "model_name": "LayoutModel",
          "model_module_version": "1.2.0",
          "state": {
            "_model_module": "@jupyter-widgets/base",
            "_model_module_version": "1.2.0",
            "_model_name": "LayoutModel",
            "_view_count": null,
            "_view_module": "@jupyter-widgets/base",
            "_view_module_version": "1.2.0",
            "_view_name": "LayoutView",
            "align_content": null,
            "align_items": null,
            "align_self": null,
            "border": null,
            "bottom": null,
            "display": null,
            "flex": null,
            "flex_flow": null,
            "grid_area": null,
            "grid_auto_columns": null,
            "grid_auto_flow": null,
            "grid_auto_rows": null,
            "grid_column": null,
            "grid_gap": null,
            "grid_row": null,
            "grid_template_areas": null,
            "grid_template_columns": null,
            "grid_template_rows": null,
            "height": null,
            "justify_content": null,
            "justify_items": null,
            "left": null,
            "margin": null,
            "max_height": null,
            "max_width": null,
            "min_height": null,
            "min_width": null,
            "object_fit": null,
            "object_position": null,
            "order": null,
            "overflow": null,
            "overflow_x": null,
            "overflow_y": null,
            "padding": null,
            "right": null,
            "top": null,
            "visibility": null,
            "width": null
          }
        },
        "ba768f053d8346829ef5027ebdab8a02": {
          "model_module": "@jupyter-widgets/controls",
          "model_name": "DescriptionStyleModel",
          "model_module_version": "1.5.0",
          "state": {
            "_model_module": "@jupyter-widgets/controls",
            "_model_module_version": "1.5.0",
            "_model_name": "DescriptionStyleModel",
            "_view_count": null,
            "_view_module": "@jupyter-widgets/base",
            "_view_module_version": "1.2.0",
            "_view_name": "StyleView",
            "description_width": ""
          }
        },
        "546d261dfd0b4fc08730295a44fd7e0b": {
          "model_module": "@jupyter-widgets/base",
          "model_name": "LayoutModel",
          "model_module_version": "1.2.0",
          "state": {
            "_model_module": "@jupyter-widgets/base",
            "_model_module_version": "1.2.0",
            "_model_name": "LayoutModel",
            "_view_count": null,
            "_view_module": "@jupyter-widgets/base",
            "_view_module_version": "1.2.0",
            "_view_name": "LayoutView",
            "align_content": null,
            "align_items": null,
            "align_self": null,
            "border": null,
            "bottom": null,
            "display": null,
            "flex": null,
            "flex_flow": null,
            "grid_area": null,
            "grid_auto_columns": null,
            "grid_auto_flow": null,
            "grid_auto_rows": null,
            "grid_column": null,
            "grid_gap": null,
            "grid_row": null,
            "grid_template_areas": null,
            "grid_template_columns": null,
            "grid_template_rows": null,
            "height": null,
            "justify_content": null,
            "justify_items": null,
            "left": null,
            "margin": null,
            "max_height": null,
            "max_width": null,
            "min_height": null,
            "min_width": null,
            "object_fit": null,
            "object_position": null,
            "order": null,
            "overflow": null,
            "overflow_x": null,
            "overflow_y": null,
            "padding": null,
            "right": null,
            "top": null,
            "visibility": null,
            "width": null
          }
        },
        "86543a873de442bd96dc0463faedeee3": {
          "model_module": "@jupyter-widgets/controls",
          "model_name": "ProgressStyleModel",
          "model_module_version": "1.5.0",
          "state": {
            "_model_module": "@jupyter-widgets/controls",
            "_model_module_version": "1.5.0",
            "_model_name": "ProgressStyleModel",
            "_view_count": null,
            "_view_module": "@jupyter-widgets/base",
            "_view_module_version": "1.2.0",
            "_view_name": "StyleView",
            "bar_color": null,
            "description_width": ""
          }
        },
        "f1d41cb02a7447169635369d02aba2d1": {
          "model_module": "@jupyter-widgets/base",
          "model_name": "LayoutModel",
          "model_module_version": "1.2.0",
          "state": {
            "_model_module": "@jupyter-widgets/base",
            "_model_module_version": "1.2.0",
            "_model_name": "LayoutModel",
            "_view_count": null,
            "_view_module": "@jupyter-widgets/base",
            "_view_module_version": "1.2.0",
            "_view_name": "LayoutView",
            "align_content": null,
            "align_items": null,
            "align_self": null,
            "border": null,
            "bottom": null,
            "display": null,
            "flex": null,
            "flex_flow": null,
            "grid_area": null,
            "grid_auto_columns": null,
            "grid_auto_flow": null,
            "grid_auto_rows": null,
            "grid_column": null,
            "grid_gap": null,
            "grid_row": null,
            "grid_template_areas": null,
            "grid_template_columns": null,
            "grid_template_rows": null,
            "height": null,
            "justify_content": null,
            "justify_items": null,
            "left": null,
            "margin": null,
            "max_height": null,
            "max_width": null,
            "min_height": null,
            "min_width": null,
            "object_fit": null,
            "object_position": null,
            "order": null,
            "overflow": null,
            "overflow_x": null,
            "overflow_y": null,
            "padding": null,
            "right": null,
            "top": null,
            "visibility": null,
            "width": null
          }
        },
        "2b530da617d64f69be187050feea7ee0": {
          "model_module": "@jupyter-widgets/controls",
          "model_name": "DescriptionStyleModel",
          "model_module_version": "1.5.0",
          "state": {
            "_model_module": "@jupyter-widgets/controls",
            "_model_module_version": "1.5.0",
            "_model_name": "DescriptionStyleModel",
            "_view_count": null,
            "_view_module": "@jupyter-widgets/base",
            "_view_module_version": "1.2.0",
            "_view_name": "StyleView",
            "description_width": ""
          }
        },
        "f93e05382b38454ea32dc7745241b677": {
          "model_module": "@jupyter-widgets/controls",
          "model_name": "HBoxModel",
          "model_module_version": "1.5.0",
          "state": {
            "_dom_classes": [],
            "_model_module": "@jupyter-widgets/controls",
            "_model_module_version": "1.5.0",
            "_model_name": "HBoxModel",
            "_view_count": null,
            "_view_module": "@jupyter-widgets/controls",
            "_view_module_version": "1.5.0",
            "_view_name": "HBoxView",
            "box_style": "",
            "children": [
              "IPY_MODEL_2e908e2f36ae4db29d1cf6b27b999338",
              "IPY_MODEL_6c31a1bdb137403193dda6f88e25252c",
              "IPY_MODEL_067ef8d5f14548999411abd0d92452ba"
            ],
            "layout": "IPY_MODEL_942fde8f0d1246c28a881a75813ad05d"
          }
        },
        "2e908e2f36ae4db29d1cf6b27b999338": {
          "model_module": "@jupyter-widgets/controls",
          "model_name": "HTMLModel",
          "model_module_version": "1.5.0",
          "state": {
            "_dom_classes": [],
            "_model_module": "@jupyter-widgets/controls",
            "_model_module_version": "1.5.0",
            "_model_name": "HTMLModel",
            "_view_count": null,
            "_view_module": "@jupyter-widgets/controls",
            "_view_module_version": "1.5.0",
            "_view_name": "HTMLView",
            "description": "",
            "description_tooltip": null,
            "layout": "IPY_MODEL_c12b192531b34f5fadb51746d1c08e42",
            "placeholder": "​",
            "style": "IPY_MODEL_949252e960ba4c1381168f9f60b6fb6b",
            "value": "Generating embeddings: 100%"
          }
        },
        "6c31a1bdb137403193dda6f88e25252c": {
          "model_module": "@jupyter-widgets/controls",
          "model_name": "FloatProgressModel",
          "model_module_version": "1.5.0",
          "state": {
            "_dom_classes": [],
            "_model_module": "@jupyter-widgets/controls",
            "_model_module_version": "1.5.0",
            "_model_name": "FloatProgressModel",
            "_view_count": null,
            "_view_module": "@jupyter-widgets/controls",
            "_view_module_version": "1.5.0",
            "_view_name": "ProgressView",
            "bar_style": "success",
            "description": "",
            "description_tooltip": null,
            "layout": "IPY_MODEL_341cb96df3564be2886c7ddaf2f9e921",
            "max": 2048,
            "min": 0,
            "orientation": "horizontal",
            "style": "IPY_MODEL_377ee824bb9e46c3887a2fd67340e3c8",
            "value": 2048
          }
        },
        "067ef8d5f14548999411abd0d92452ba": {
          "model_module": "@jupyter-widgets/controls",
          "model_name": "HTMLModel",
          "model_module_version": "1.5.0",
          "state": {
            "_dom_classes": [],
            "_model_module": "@jupyter-widgets/controls",
            "_model_module_version": "1.5.0",
            "_model_name": "HTMLModel",
            "_view_count": null,
            "_view_module": "@jupyter-widgets/controls",
            "_view_module_version": "1.5.0",
            "_view_name": "HTMLView",
            "description": "",
            "description_tooltip": null,
            "layout": "IPY_MODEL_f51a590d117e46cdba8ecccec1f735d7",
            "placeholder": "​",
            "style": "IPY_MODEL_d0b3e1dfc8be4fe0aee2b9d75b5b9d37",
            "value": " 2048/2048 [00:17&lt;00:00, 106.71it/s]"
          }
        },
        "942fde8f0d1246c28a881a75813ad05d": {
          "model_module": "@jupyter-widgets/base",
          "model_name": "LayoutModel",
          "model_module_version": "1.2.0",
          "state": {
            "_model_module": "@jupyter-widgets/base",
            "_model_module_version": "1.2.0",
            "_model_name": "LayoutModel",
            "_view_count": null,
            "_view_module": "@jupyter-widgets/base",
            "_view_module_version": "1.2.0",
            "_view_name": "LayoutView",
            "align_content": null,
            "align_items": null,
            "align_self": null,
            "border": null,
            "bottom": null,
            "display": null,
            "flex": null,
            "flex_flow": null,
            "grid_area": null,
            "grid_auto_columns": null,
            "grid_auto_flow": null,
            "grid_auto_rows": null,
            "grid_column": null,
            "grid_gap": null,
            "grid_row": null,
            "grid_template_areas": null,
            "grid_template_columns": null,
            "grid_template_rows": null,
            "height": null,
            "justify_content": null,
            "justify_items": null,
            "left": null,
            "margin": null,
            "max_height": null,
            "max_width": null,
            "min_height": null,
            "min_width": null,
            "object_fit": null,
            "object_position": null,
            "order": null,
            "overflow": null,
            "overflow_x": null,
            "overflow_y": null,
            "padding": null,
            "right": null,
            "top": null,
            "visibility": null,
            "width": null
          }
        },
        "c12b192531b34f5fadb51746d1c08e42": {
          "model_module": "@jupyter-widgets/base",
          "model_name": "LayoutModel",
          "model_module_version": "1.2.0",
          "state": {
            "_model_module": "@jupyter-widgets/base",
            "_model_module_version": "1.2.0",
            "_model_name": "LayoutModel",
            "_view_count": null,
            "_view_module": "@jupyter-widgets/base",
            "_view_module_version": "1.2.0",
            "_view_name": "LayoutView",
            "align_content": null,
            "align_items": null,
            "align_self": null,
            "border": null,
            "bottom": null,
            "display": null,
            "flex": null,
            "flex_flow": null,
            "grid_area": null,
            "grid_auto_columns": null,
            "grid_auto_flow": null,
            "grid_auto_rows": null,
            "grid_column": null,
            "grid_gap": null,
            "grid_row": null,
            "grid_template_areas": null,
            "grid_template_columns": null,
            "grid_template_rows": null,
            "height": null,
            "justify_content": null,
            "justify_items": null,
            "left": null,
            "margin": null,
            "max_height": null,
            "max_width": null,
            "min_height": null,
            "min_width": null,
            "object_fit": null,
            "object_position": null,
            "order": null,
            "overflow": null,
            "overflow_x": null,
            "overflow_y": null,
            "padding": null,
            "right": null,
            "top": null,
            "visibility": null,
            "width": null
          }
        },
        "949252e960ba4c1381168f9f60b6fb6b": {
          "model_module": "@jupyter-widgets/controls",
          "model_name": "DescriptionStyleModel",
          "model_module_version": "1.5.0",
          "state": {
            "_model_module": "@jupyter-widgets/controls",
            "_model_module_version": "1.5.0",
            "_model_name": "DescriptionStyleModel",
            "_view_count": null,
            "_view_module": "@jupyter-widgets/base",
            "_view_module_version": "1.2.0",
            "_view_name": "StyleView",
            "description_width": ""
          }
        },
        "341cb96df3564be2886c7ddaf2f9e921": {
          "model_module": "@jupyter-widgets/base",
          "model_name": "LayoutModel",
          "model_module_version": "1.2.0",
          "state": {
            "_model_module": "@jupyter-widgets/base",
            "_model_module_version": "1.2.0",
            "_model_name": "LayoutModel",
            "_view_count": null,
            "_view_module": "@jupyter-widgets/base",
            "_view_module_version": "1.2.0",
            "_view_name": "LayoutView",
            "align_content": null,
            "align_items": null,
            "align_self": null,
            "border": null,
            "bottom": null,
            "display": null,
            "flex": null,
            "flex_flow": null,
            "grid_area": null,
            "grid_auto_columns": null,
            "grid_auto_flow": null,
            "grid_auto_rows": null,
            "grid_column": null,
            "grid_gap": null,
            "grid_row": null,
            "grid_template_areas": null,
            "grid_template_columns": null,
            "grid_template_rows": null,
            "height": null,
            "justify_content": null,
            "justify_items": null,
            "left": null,
            "margin": null,
            "max_height": null,
            "max_width": null,
            "min_height": null,
            "min_width": null,
            "object_fit": null,
            "object_position": null,
            "order": null,
            "overflow": null,
            "overflow_x": null,
            "overflow_y": null,
            "padding": null,
            "right": null,
            "top": null,
            "visibility": null,
            "width": null
          }
        },
        "377ee824bb9e46c3887a2fd67340e3c8": {
          "model_module": "@jupyter-widgets/controls",
          "model_name": "ProgressStyleModel",
          "model_module_version": "1.5.0",
          "state": {
            "_model_module": "@jupyter-widgets/controls",
            "_model_module_version": "1.5.0",
            "_model_name": "ProgressStyleModel",
            "_view_count": null,
            "_view_module": "@jupyter-widgets/base",
            "_view_module_version": "1.2.0",
            "_view_name": "StyleView",
            "bar_color": null,
            "description_width": ""
          }
        },
        "f51a590d117e46cdba8ecccec1f735d7": {
          "model_module": "@jupyter-widgets/base",
          "model_name": "LayoutModel",
          "model_module_version": "1.2.0",
          "state": {
            "_model_module": "@jupyter-widgets/base",
            "_model_module_version": "1.2.0",
            "_model_name": "LayoutModel",
            "_view_count": null,
            "_view_module": "@jupyter-widgets/base",
            "_view_module_version": "1.2.0",
            "_view_name": "LayoutView",
            "align_content": null,
            "align_items": null,
            "align_self": null,
            "border": null,
            "bottom": null,
            "display": null,
            "flex": null,
            "flex_flow": null,
            "grid_area": null,
            "grid_auto_columns": null,
            "grid_auto_flow": null,
            "grid_auto_rows": null,
            "grid_column": null,
            "grid_gap": null,
            "grid_row": null,
            "grid_template_areas": null,
            "grid_template_columns": null,
            "grid_template_rows": null,
            "height": null,
            "justify_content": null,
            "justify_items": null,
            "left": null,
            "margin": null,
            "max_height": null,
            "max_width": null,
            "min_height": null,
            "min_width": null,
            "object_fit": null,
            "object_position": null,
            "order": null,
            "overflow": null,
            "overflow_x": null,
            "overflow_y": null,
            "padding": null,
            "right": null,
            "top": null,
            "visibility": null,
            "width": null
          }
        },
        "d0b3e1dfc8be4fe0aee2b9d75b5b9d37": {
          "model_module": "@jupyter-widgets/controls",
          "model_name": "DescriptionStyleModel",
          "model_module_version": "1.5.0",
          "state": {
            "_model_module": "@jupyter-widgets/controls",
            "_model_module_version": "1.5.0",
            "_model_name": "DescriptionStyleModel",
            "_view_count": null,
            "_view_module": "@jupyter-widgets/base",
            "_view_module_version": "1.2.0",
            "_view_name": "StyleView",
            "description_width": ""
          }
        },
        "997397dac6a54c97a80106480b83664e": {
          "model_module": "@jupyter-widgets/controls",
          "model_name": "HBoxModel",
          "model_module_version": "1.5.0",
          "state": {
            "_dom_classes": [],
            "_model_module": "@jupyter-widgets/controls",
            "_model_module_version": "1.5.0",
            "_model_name": "HBoxModel",
            "_view_count": null,
            "_view_module": "@jupyter-widgets/controls",
            "_view_module_version": "1.5.0",
            "_view_name": "HBoxView",
            "box_style": "",
            "children": [
              "IPY_MODEL_179d178bc05247b9a21cbcbb3590996e",
              "IPY_MODEL_d1f2c90621ef4365ac79728abba80ac7",
              "IPY_MODEL_766e1c0eb1354d5b8cd493a8246d51e0"
            ],
            "layout": "IPY_MODEL_f8592308a5614a33aa4555e88c148b0b"
          }
        },
        "179d178bc05247b9a21cbcbb3590996e": {
          "model_module": "@jupyter-widgets/controls",
          "model_name": "HTMLModel",
          "model_module_version": "1.5.0",
          "state": {
            "_dom_classes": [],
            "_model_module": "@jupyter-widgets/controls",
            "_model_module_version": "1.5.0",
            "_model_name": "HTMLModel",
            "_view_count": null,
            "_view_module": "@jupyter-widgets/controls",
            "_view_module_version": "1.5.0",
            "_view_name": "HTMLView",
            "description": "",
            "description_tooltip": null,
            "layout": "IPY_MODEL_bd0ced44a19943b59451855deb46a3ca",
            "placeholder": "​",
            "style": "IPY_MODEL_9d121b78df984bbd8746bdad85fdf86e",
            "value": "Generating embeddings: 100%"
          }
        },
        "d1f2c90621ef4365ac79728abba80ac7": {
          "model_module": "@jupyter-widgets/controls",
          "model_name": "FloatProgressModel",
          "model_module_version": "1.5.0",
          "state": {
            "_dom_classes": [],
            "_model_module": "@jupyter-widgets/controls",
            "_model_module_version": "1.5.0",
            "_model_name": "FloatProgressModel",
            "_view_count": null,
            "_view_module": "@jupyter-widgets/controls",
            "_view_module_version": "1.5.0",
            "_view_name": "ProgressView",
            "bar_style": "success",
            "description": "",
            "description_tooltip": null,
            "layout": "IPY_MODEL_026d54131fba4c2194b7ee55df68dab4",
            "max": 2048,
            "min": 0,
            "orientation": "horizontal",
            "style": "IPY_MODEL_36506700cfcb4f0abd9ed79f1decd53d",
            "value": 2048
          }
        },
        "766e1c0eb1354d5b8cd493a8246d51e0": {
          "model_module": "@jupyter-widgets/controls",
          "model_name": "HTMLModel",
          "model_module_version": "1.5.0",
          "state": {
            "_dom_classes": [],
            "_model_module": "@jupyter-widgets/controls",
            "_model_module_version": "1.5.0",
            "_model_name": "HTMLModel",
            "_view_count": null,
            "_view_module": "@jupyter-widgets/controls",
            "_view_module_version": "1.5.0",
            "_view_name": "HTMLView",
            "description": "",
            "description_tooltip": null,
            "layout": "IPY_MODEL_ebfbc6486e3d40dd8cf083ba3f88ab4e",
            "placeholder": "​",
            "style": "IPY_MODEL_2afc5d046cd84af9b0a4273937305688",
            "value": " 2048/2048 [00:14&lt;00:00, 124.92it/s]"
          }
        },
        "f8592308a5614a33aa4555e88c148b0b": {
          "model_module": "@jupyter-widgets/base",
          "model_name": "LayoutModel",
          "model_module_version": "1.2.0",
          "state": {
            "_model_module": "@jupyter-widgets/base",
            "_model_module_version": "1.2.0",
            "_model_name": "LayoutModel",
            "_view_count": null,
            "_view_module": "@jupyter-widgets/base",
            "_view_module_version": "1.2.0",
            "_view_name": "LayoutView",
            "align_content": null,
            "align_items": null,
            "align_self": null,
            "border": null,
            "bottom": null,
            "display": null,
            "flex": null,
            "flex_flow": null,
            "grid_area": null,
            "grid_auto_columns": null,
            "grid_auto_flow": null,
            "grid_auto_rows": null,
            "grid_column": null,
            "grid_gap": null,
            "grid_row": null,
            "grid_template_areas": null,
            "grid_template_columns": null,
            "grid_template_rows": null,
            "height": null,
            "justify_content": null,
            "justify_items": null,
            "left": null,
            "margin": null,
            "max_height": null,
            "max_width": null,
            "min_height": null,
            "min_width": null,
            "object_fit": null,
            "object_position": null,
            "order": null,
            "overflow": null,
            "overflow_x": null,
            "overflow_y": null,
            "padding": null,
            "right": null,
            "top": null,
            "visibility": null,
            "width": null
          }
        },
        "bd0ced44a19943b59451855deb46a3ca": {
          "model_module": "@jupyter-widgets/base",
          "model_name": "LayoutModel",
          "model_module_version": "1.2.0",
          "state": {
            "_model_module": "@jupyter-widgets/base",
            "_model_module_version": "1.2.0",
            "_model_name": "LayoutModel",
            "_view_count": null,
            "_view_module": "@jupyter-widgets/base",
            "_view_module_version": "1.2.0",
            "_view_name": "LayoutView",
            "align_content": null,
            "align_items": null,
            "align_self": null,
            "border": null,
            "bottom": null,
            "display": null,
            "flex": null,
            "flex_flow": null,
            "grid_area": null,
            "grid_auto_columns": null,
            "grid_auto_flow": null,
            "grid_auto_rows": null,
            "grid_column": null,
            "grid_gap": null,
            "grid_row": null,
            "grid_template_areas": null,
            "grid_template_columns": null,
            "grid_template_rows": null,
            "height": null,
            "justify_content": null,
            "justify_items": null,
            "left": null,
            "margin": null,
            "max_height": null,
            "max_width": null,
            "min_height": null,
            "min_width": null,
            "object_fit": null,
            "object_position": null,
            "order": null,
            "overflow": null,
            "overflow_x": null,
            "overflow_y": null,
            "padding": null,
            "right": null,
            "top": null,
            "visibility": null,
            "width": null
          }
        },
        "9d121b78df984bbd8746bdad85fdf86e": {
          "model_module": "@jupyter-widgets/controls",
          "model_name": "DescriptionStyleModel",
          "model_module_version": "1.5.0",
          "state": {
            "_model_module": "@jupyter-widgets/controls",
            "_model_module_version": "1.5.0",
            "_model_name": "DescriptionStyleModel",
            "_view_count": null,
            "_view_module": "@jupyter-widgets/base",
            "_view_module_version": "1.2.0",
            "_view_name": "StyleView",
            "description_width": ""
          }
        },
        "026d54131fba4c2194b7ee55df68dab4": {
          "model_module": "@jupyter-widgets/base",
          "model_name": "LayoutModel",
          "model_module_version": "1.2.0",
          "state": {
            "_model_module": "@jupyter-widgets/base",
            "_model_module_version": "1.2.0",
            "_model_name": "LayoutModel",
            "_view_count": null,
            "_view_module": "@jupyter-widgets/base",
            "_view_module_version": "1.2.0",
            "_view_name": "LayoutView",
            "align_content": null,
            "align_items": null,
            "align_self": null,
            "border": null,
            "bottom": null,
            "display": null,
            "flex": null,
            "flex_flow": null,
            "grid_area": null,
            "grid_auto_columns": null,
            "grid_auto_flow": null,
            "grid_auto_rows": null,
            "grid_column": null,
            "grid_gap": null,
            "grid_row": null,
            "grid_template_areas": null,
            "grid_template_columns": null,
            "grid_template_rows": null,
            "height": null,
            "justify_content": null,
            "justify_items": null,
            "left": null,
            "margin": null,
            "max_height": null,
            "max_width": null,
            "min_height": null,
            "min_width": null,
            "object_fit": null,
            "object_position": null,
            "order": null,
            "overflow": null,
            "overflow_x": null,
            "overflow_y": null,
            "padding": null,
            "right": null,
            "top": null,
            "visibility": null,
            "width": null
          }
        },
        "36506700cfcb4f0abd9ed79f1decd53d": {
          "model_module": "@jupyter-widgets/controls",
          "model_name": "ProgressStyleModel",
          "model_module_version": "1.5.0",
          "state": {
            "_model_module": "@jupyter-widgets/controls",
            "_model_module_version": "1.5.0",
            "_model_name": "ProgressStyleModel",
            "_view_count": null,
            "_view_module": "@jupyter-widgets/base",
            "_view_module_version": "1.2.0",
            "_view_name": "StyleView",
            "bar_color": null,
            "description_width": ""
          }
        },
        "ebfbc6486e3d40dd8cf083ba3f88ab4e": {
          "model_module": "@jupyter-widgets/base",
          "model_name": "LayoutModel",
          "model_module_version": "1.2.0",
          "state": {
            "_model_module": "@jupyter-widgets/base",
            "_model_module_version": "1.2.0",
            "_model_name": "LayoutModel",
            "_view_count": null,
            "_view_module": "@jupyter-widgets/base",
            "_view_module_version": "1.2.0",
            "_view_name": "LayoutView",
            "align_content": null,
            "align_items": null,
            "align_self": null,
            "border": null,
            "bottom": null,
            "display": null,
            "flex": null,
            "flex_flow": null,
            "grid_area": null,
            "grid_auto_columns": null,
            "grid_auto_flow": null,
            "grid_auto_rows": null,
            "grid_column": null,
            "grid_gap": null,
            "grid_row": null,
            "grid_template_areas": null,
            "grid_template_columns": null,
            "grid_template_rows": null,
            "height": null,
            "justify_content": null,
            "justify_items": null,
            "left": null,
            "margin": null,
            "max_height": null,
            "max_width": null,
            "min_height": null,
            "min_width": null,
            "object_fit": null,
            "object_position": null,
            "order": null,
            "overflow": null,
            "overflow_x": null,
            "overflow_y": null,
            "padding": null,
            "right": null,
            "top": null,
            "visibility": null,
            "width": null
          }
        },
        "2afc5d046cd84af9b0a4273937305688": {
          "model_module": "@jupyter-widgets/controls",
          "model_name": "DescriptionStyleModel",
          "model_module_version": "1.5.0",
          "state": {
            "_model_module": "@jupyter-widgets/controls",
            "_model_module_version": "1.5.0",
            "_model_name": "DescriptionStyleModel",
            "_view_count": null,
            "_view_module": "@jupyter-widgets/base",
            "_view_module_version": "1.2.0",
            "_view_name": "StyleView",
            "description_width": ""
          }
        },
        "e12944aaab3142d9862db5f9c919456f": {
          "model_module": "@jupyter-widgets/controls",
          "model_name": "HBoxModel",
          "model_module_version": "1.5.0",
          "state": {
            "_dom_classes": [],
            "_model_module": "@jupyter-widgets/controls",
            "_model_module_version": "1.5.0",
            "_model_name": "HBoxModel",
            "_view_count": null,
            "_view_module": "@jupyter-widgets/controls",
            "_view_module_version": "1.5.0",
            "_view_name": "HBoxView",
            "box_style": "",
            "children": [
              "IPY_MODEL_8d9e0d77aa0941a8817bad2111169daf",
              "IPY_MODEL_5ad1c8010f0c4c21bf485e2df246e3d4",
              "IPY_MODEL_63231ba783ab40b4b70aec1fa46e6159"
            ],
            "layout": "IPY_MODEL_1d75fb63e9a947bc819d5be9f2d5df59"
          }
        },
        "8d9e0d77aa0941a8817bad2111169daf": {
          "model_module": "@jupyter-widgets/controls",
          "model_name": "HTMLModel",
          "model_module_version": "1.5.0",
          "state": {
            "_dom_classes": [],
            "_model_module": "@jupyter-widgets/controls",
            "_model_module_version": "1.5.0",
            "_model_name": "HTMLModel",
            "_view_count": null,
            "_view_module": "@jupyter-widgets/controls",
            "_view_module_version": "1.5.0",
            "_view_name": "HTMLView",
            "description": "",
            "description_tooltip": null,
            "layout": "IPY_MODEL_ab982c6a26314850a4bb96c1ecc23629",
            "placeholder": "​",
            "style": "IPY_MODEL_904f926274644ffca30b7417b9f92537",
            "value": "Generating embeddings: 100%"
          }
        },
        "5ad1c8010f0c4c21bf485e2df246e3d4": {
          "model_module": "@jupyter-widgets/controls",
          "model_name": "FloatProgressModel",
          "model_module_version": "1.5.0",
          "state": {
            "_dom_classes": [],
            "_model_module": "@jupyter-widgets/controls",
            "_model_module_version": "1.5.0",
            "_model_name": "FloatProgressModel",
            "_view_count": null,
            "_view_module": "@jupyter-widgets/controls",
            "_view_module_version": "1.5.0",
            "_view_name": "ProgressView",
            "bar_style": "success",
            "description": "",
            "description_tooltip": null,
            "layout": "IPY_MODEL_039793960a5e4101a3a8f45db98340e9",
            "max": 429,
            "min": 0,
            "orientation": "horizontal",
            "style": "IPY_MODEL_6a799418906f414b967e3152fb298884",
            "value": 429
          }
        },
        "63231ba783ab40b4b70aec1fa46e6159": {
          "model_module": "@jupyter-widgets/controls",
          "model_name": "HTMLModel",
          "model_module_version": "1.5.0",
          "state": {
            "_dom_classes": [],
            "_model_module": "@jupyter-widgets/controls",
            "_model_module_version": "1.5.0",
            "_model_name": "HTMLModel",
            "_view_count": null,
            "_view_module": "@jupyter-widgets/controls",
            "_view_module_version": "1.5.0",
            "_view_name": "HTMLView",
            "description": "",
            "description_tooltip": null,
            "layout": "IPY_MODEL_3a9069e299ff490e90292beb66ba7137",
            "placeholder": "​",
            "style": "IPY_MODEL_b3284c99aa5d4e77a61a17ae8cff65ae",
            "value": " 429/429 [00:03&lt;00:00, 111.55it/s]"
          }
        },
        "1d75fb63e9a947bc819d5be9f2d5df59": {
          "model_module": "@jupyter-widgets/base",
          "model_name": "LayoutModel",
          "model_module_version": "1.2.0",
          "state": {
            "_model_module": "@jupyter-widgets/base",
            "_model_module_version": "1.2.0",
            "_model_name": "LayoutModel",
            "_view_count": null,
            "_view_module": "@jupyter-widgets/base",
            "_view_module_version": "1.2.0",
            "_view_name": "LayoutView",
            "align_content": null,
            "align_items": null,
            "align_self": null,
            "border": null,
            "bottom": null,
            "display": null,
            "flex": null,
            "flex_flow": null,
            "grid_area": null,
            "grid_auto_columns": null,
            "grid_auto_flow": null,
            "grid_auto_rows": null,
            "grid_column": null,
            "grid_gap": null,
            "grid_row": null,
            "grid_template_areas": null,
            "grid_template_columns": null,
            "grid_template_rows": null,
            "height": null,
            "justify_content": null,
            "justify_items": null,
            "left": null,
            "margin": null,
            "max_height": null,
            "max_width": null,
            "min_height": null,
            "min_width": null,
            "object_fit": null,
            "object_position": null,
            "order": null,
            "overflow": null,
            "overflow_x": null,
            "overflow_y": null,
            "padding": null,
            "right": null,
            "top": null,
            "visibility": null,
            "width": null
          }
        },
        "ab982c6a26314850a4bb96c1ecc23629": {
          "model_module": "@jupyter-widgets/base",
          "model_name": "LayoutModel",
          "model_module_version": "1.2.0",
          "state": {
            "_model_module": "@jupyter-widgets/base",
            "_model_module_version": "1.2.0",
            "_model_name": "LayoutModel",
            "_view_count": null,
            "_view_module": "@jupyter-widgets/base",
            "_view_module_version": "1.2.0",
            "_view_name": "LayoutView",
            "align_content": null,
            "align_items": null,
            "align_self": null,
            "border": null,
            "bottom": null,
            "display": null,
            "flex": null,
            "flex_flow": null,
            "grid_area": null,
            "grid_auto_columns": null,
            "grid_auto_flow": null,
            "grid_auto_rows": null,
            "grid_column": null,
            "grid_gap": null,
            "grid_row": null,
            "grid_template_areas": null,
            "grid_template_columns": null,
            "grid_template_rows": null,
            "height": null,
            "justify_content": null,
            "justify_items": null,
            "left": null,
            "margin": null,
            "max_height": null,
            "max_width": null,
            "min_height": null,
            "min_width": null,
            "object_fit": null,
            "object_position": null,
            "order": null,
            "overflow": null,
            "overflow_x": null,
            "overflow_y": null,
            "padding": null,
            "right": null,
            "top": null,
            "visibility": null,
            "width": null
          }
        },
        "904f926274644ffca30b7417b9f92537": {
          "model_module": "@jupyter-widgets/controls",
          "model_name": "DescriptionStyleModel",
          "model_module_version": "1.5.0",
          "state": {
            "_model_module": "@jupyter-widgets/controls",
            "_model_module_version": "1.5.0",
            "_model_name": "DescriptionStyleModel",
            "_view_count": null,
            "_view_module": "@jupyter-widgets/base",
            "_view_module_version": "1.2.0",
            "_view_name": "StyleView",
            "description_width": ""
          }
        },
        "039793960a5e4101a3a8f45db98340e9": {
          "model_module": "@jupyter-widgets/base",
          "model_name": "LayoutModel",
          "model_module_version": "1.2.0",
          "state": {
            "_model_module": "@jupyter-widgets/base",
            "_model_module_version": "1.2.0",
            "_model_name": "LayoutModel",
            "_view_count": null,
            "_view_module": "@jupyter-widgets/base",
            "_view_module_version": "1.2.0",
            "_view_name": "LayoutView",
            "align_content": null,
            "align_items": null,
            "align_self": null,
            "border": null,
            "bottom": null,
            "display": null,
            "flex": null,
            "flex_flow": null,
            "grid_area": null,
            "grid_auto_columns": null,
            "grid_auto_flow": null,
            "grid_auto_rows": null,
            "grid_column": null,
            "grid_gap": null,
            "grid_row": null,
            "grid_template_areas": null,
            "grid_template_columns": null,
            "grid_template_rows": null,
            "height": null,
            "justify_content": null,
            "justify_items": null,
            "left": null,
            "margin": null,
            "max_height": null,
            "max_width": null,
            "min_height": null,
            "min_width": null,
            "object_fit": null,
            "object_position": null,
            "order": null,
            "overflow": null,
            "overflow_x": null,
            "overflow_y": null,
            "padding": null,
            "right": null,
            "top": null,
            "visibility": null,
            "width": null
          }
        },
        "6a799418906f414b967e3152fb298884": {
          "model_module": "@jupyter-widgets/controls",
          "model_name": "ProgressStyleModel",
          "model_module_version": "1.5.0",
          "state": {
            "_model_module": "@jupyter-widgets/controls",
            "_model_module_version": "1.5.0",
            "_model_name": "ProgressStyleModel",
            "_view_count": null,
            "_view_module": "@jupyter-widgets/base",
            "_view_module_version": "1.2.0",
            "_view_name": "StyleView",
            "bar_color": null,
            "description_width": ""
          }
        },
        "3a9069e299ff490e90292beb66ba7137": {
          "model_module": "@jupyter-widgets/base",
          "model_name": "LayoutModel",
          "model_module_version": "1.2.0",
          "state": {
            "_model_module": "@jupyter-widgets/base",
            "_model_module_version": "1.2.0",
            "_model_name": "LayoutModel",
            "_view_count": null,
            "_view_module": "@jupyter-widgets/base",
            "_view_module_version": "1.2.0",
            "_view_name": "LayoutView",
            "align_content": null,
            "align_items": null,
            "align_self": null,
            "border": null,
            "bottom": null,
            "display": null,
            "flex": null,
            "flex_flow": null,
            "grid_area": null,
            "grid_auto_columns": null,
            "grid_auto_flow": null,
            "grid_auto_rows": null,
            "grid_column": null,
            "grid_gap": null,
            "grid_row": null,
            "grid_template_areas": null,
            "grid_template_columns": null,
            "grid_template_rows": null,
            "height": null,
            "justify_content": null,
            "justify_items": null,
            "left": null,
            "margin": null,
            "max_height": null,
            "max_width": null,
            "min_height": null,
            "min_width": null,
            "object_fit": null,
            "object_position": null,
            "order": null,
            "overflow": null,
            "overflow_x": null,
            "overflow_y": null,
            "padding": null,
            "right": null,
            "top": null,
            "visibility": null,
            "width": null
          }
        },
        "b3284c99aa5d4e77a61a17ae8cff65ae": {
          "model_module": "@jupyter-widgets/controls",
          "model_name": "DescriptionStyleModel",
          "model_module_version": "1.5.0",
          "state": {
            "_model_module": "@jupyter-widgets/controls",
            "_model_module_version": "1.5.0",
            "_model_name": "DescriptionStyleModel",
            "_view_count": null,
            "_view_module": "@jupyter-widgets/base",
            "_view_module_version": "1.2.0",
            "_view_name": "StyleView",
            "description_width": ""
          }
        }
      }
    }
  },
  "cells": [
    {
      "cell_type": "markdown",
      "metadata": {
        "id": "view-in-github",
        "colab_type": "text"
      },
      "source": [
        "<a href=\"https://colab.research.google.com/github/bhanuchaddha/The-Ai-Handbook/blob/main/2-Tutorials/RAG/Database/Agentic_RAG_With_MongoDB_and_LamaIndex.ipynb\" target=\"_parent\"><img src=\"https://colab.research.google.com/assets/colab-badge.svg\" alt=\"Open In Colab\"/></a>"
      ]
    },
    {
      "cell_type": "markdown",
      "source": [
        "# Title: RAG with MongoDB and LlamaIndex: A Comprehensive Tutorial\n",
        "\n",
        "## Introduction\n",
        "\n",
        "Retrieval Augmented Generation (RAG) has emerged as a powerful technique in the realm of natural language processing (NLP). It enhances the capabilities of language models by allowing them to access and incorporate external knowledge during text generation. This tutorial focuses on implementing an advanced form of RAG called \"Agentic RAG\" using the robust combination of MongoDB, a leading NoSQL document database, and LlamaIndex, a powerful framework designed for indexing and querying data for LLM applications.\n",
        "\n",
        "In a typical RAG setup, a system retrieves relevant information from a knowledge base (e.g., a vector database) to provide context to a large language model (LLM). This allows the LLM to generate more informed and accurate responses. Agentic RAG takes this a step further by introducing \"agents\" – specialized components that can perform specific actions or interact with different tools to gather and process information more effectively.\n",
        "\n",
        "## Why MongoDB and LlamaIndex?\n",
        "\n",
        "MongoDB: MongoDB's flexible document model and powerful querying capabilities make it a great choice for storing and managing the diverse data that RAG systems often rely on. Its scalability and performance are crucial when dealing with large datasets.\n",
        "\n",
        "LlamaIndex: LlamaIndex simplifies the process of connecting LLMs with external data sources. It provides abstractions for data ingestion, indexing (including vector embeddings), and building sophisticated query engines, which are essential for creating effective RAG systems.\n",
        "\n",
        "## In this tutorial, we will:\n",
        "\n",
        "* Set up a MongoDB database to store our knowledge base.\n",
        "\n",
        "* Use LlamaIndex to ingest data into MongoDB and create a vector index for efficient retrieval.\n",
        "\n",
        "* Implement a basic query engine that leverages the vector index to find relevant documents.\n",
        "\n",
        "* Introduce the concept of \"Agentic RAG\" and demonstrate how to build a simple agent-based system.\n",
        "\n",
        "* Showcase how the agent can interact with the query engine and an LLM to generate context-aware responses.\n",
        "\n",
        "## Prerequisites\n",
        "\n",
        "Before starting, ensure you have the following:\n",
        "\n",
        "* Basic understanding of Python.\n",
        "\n",
        "* Familiarity with language models and vector embeddings (helpful but not mandatory).\n",
        "\n",
        "* A MongoDB database instance (you can use MongoDB Atlas for a free cloud-based option).\n",
        "\n",
        "* An OpenAI API key (for using the OpenAI language model).\n",
        "\n",
        "\n",
        "Let's dive in!"
      ],
      "metadata": {
        "id": "WDqmdEPAsCCI"
      }
    },
    {
      "cell_type": "markdown",
      "source": [
        "# Installation and Setup"
      ],
      "metadata": {
        "id": "SxO9aHKT_Mxn"
      }
    },
    {
      "cell_type": "code",
      "source": [
        "pip install --quiet --upgrade llama-index llama-index-vector-stores-mongodb llama-index-embeddings-openai pymongo faker load_dotenv"
      ],
      "metadata": {
        "id": "t5w6r9ovs9Qj"
      },
      "execution_count": 5,
      "outputs": []
    },
    {
      "cell_type": "code",
      "source": [
        "from google.colab import userdata\n",
        "import os\n",
        "os.environ['OPENAI_API_KEY']=userdata.get('OPENAI_API_KEY')\n",
        "os.environ['MONGO_CONNECTION_STRING']=userdata.get('MONGO_CONNECTION_STRING')"
      ],
      "metadata": {
        "id": "moLG5lXU11xw"
      },
      "execution_count": 3,
      "outputs": []
    },
    {
      "cell_type": "markdown",
      "source": [
        "**Explanation:**\n",
        "\n",
        "*   **`pip install ...`:** This command installs the necessary Python packages for this project. Let's break down each package:\n",
        "    *   `llama-index`: The core library for building the RAG system. It provides tools for data ingestion, indexing, and querying.\n",
        "    *   `llama-index-vector-stores-mongodb`: A LlamaIndex integration that enables using MongoDB as a vector store.\n",
        "    *   `llama-index-embeddings-openai`: A LlamaIndex integration for using OpenAI's embedding models to generate vector embeddings.\n",
        "    *   `pymongo`: The official Python driver for MongoDB, allowing interaction with MongoDB databases.\n",
        "    *   `faker`: A library for generating synthetic data, which will be used to create sample booking records.\n",
        "    *   `load_dotenv`: A library for loading environment variables from a `.env` file (though in this Colab example, it seems environment variables are handled differently).\n",
        "    *   `--quiet`: Suppresses verbose output during installation.\n",
        "    *   `--upgrade`: Ensures that the latest versions of the packages are installed.\n",
        "\n",
        "*   **`from google.colab import userdata`**: This line imports the `userdata` module from the `google.colab` library. This module is specific to Google Colab and is used to securely access user data, such as API keys and other secrets, that are stored within the Colab environment.\n",
        "\n",
        "\n",
        "**References:**\n",
        "\n",
        "*   LlamaIndex Documentation: [https://docs.llamaindex.ai/en/stable/](https://docs.llamaindex.ai/en/stable/)\n",
        "*   PyMongo Documentation: [https://pymongo.readthedocs.io/en/stable/](https://pymongo.readthedocs.io/en/stable/)\n",
        "*   OpenAI Python Library: [https://github.com/openai/openai-python](https://github.com/openai/openai-python)\n",
        "*   Faker Documentation: [https://faker.readthedocs.io/en/master/](https://faker.readthedocs.io/en/master/)"
      ],
      "metadata": {
        "id": "dPYghbPAE3cC"
      }
    },
    {
      "cell_type": "markdown",
      "source": [
        "# Generate Data"
      ],
      "metadata": {
        "id": "D59hnnU-DgIJ"
      }
    },
    {
      "cell_type": "code",
      "source": [
        "db_name = \"shipping_company\""
      ],
      "metadata": {
        "id": "-OQZzsFhD66w"
      },
      "execution_count": 8,
      "outputs": []
    },
    {
      "cell_type": "code",
      "source": [
        "from pymongo import MongoClient\n",
        "from faker import Faker\n",
        "import random\n",
        "from datetime import datetime, timedelta\n",
        "import uuid\n",
        "from dotenv import load_dotenv\n",
        "\n",
        "\n",
        "# Load environment variables from .env\n",
        "load_dotenv()\n",
        "\n",
        "# Read MONGO_CONNECTION_STRING from environment, fallback to a default if not found\n",
        "MONGO_URL = os.getenv(\"MONGO_CONNECTION_STRING\", \"mongodb://localhost:27017\")\n",
        "\n",
        "# MongoDB Connection\n",
        "client = MongoClient(MONGO_URL)\n",
        "db = client[db_name]\n",
        "bookings_collection = db[\"bookings\"]\n",
        "\n",
        "# Faker Initialization\n",
        "fake = Faker()\n",
        "\n",
        "# Sample Data (for variety)\n",
        "cities = [\"Los Angeles\", \"New York\", \"Shanghai\", \"Rotterdam\", \"Singapore\", \"Dubai\", \"Hamburg\", \"Antwerp\", \"Busan\", \"Hong Kong\"]\n",
        "countries = [\"USA\",\"USA\", \"China\", \"Netherlands\", \"Singapore\", \"UAE\", \"Germany\", \"Belgium\", \"South Korea\", \"Hong Kong\"]\n",
        "ports = [\"Port of Los Angeles\", \"Port of New York\", \"Port of Shanghai\", \"Port of Rotterdam\", \"Port of Singapore\", \"Port of Jebel Ali\", \"Port of Hamburg\", \"Port of Antwerp\", \"Port of Busan\", \"Port of Hong Kong\"]\n",
        "booking_channels = [\"Website\", \"Phone\", \"Email\", \"Agent\"]\n",
        "booking_statuses = [\"Pending\", \"Confirmed\", \"In Transit\", \"Delivered\", \"Cancelled\"]\n",
        "vessel_names = [\"Ever Given\", \"Maersk Mc-Kinney Moller\", \"MSC Oscar\", \"HMM Algeciras\", \"COSCO Shipping Universe\", \"OOCL Hong Kong\", \"CMA CGM Antoine de Saint Exupery\", \"APL Raffles\", \"Yang Ming Witness\", \"ONE Innovation\"]\n",
        "container_types = [\"20ft Standard\", \"40ft Standard\", \"40ft High Cube\", \"45ft High Cube\"]\n",
        "\n",
        "def generate_booking():\n",
        "    customer_id = str(uuid.uuid4())\n",
        "    origin_city = random.choice(cities)\n",
        "    destination_city = random.choice(cities)\n",
        "    origin_country = countries[cities.index(origin_city)]\n",
        "    destination_country = countries[cities.index(destination_city)]\n",
        "    origin_port = ports[cities.index(origin_city)]\n",
        "    destination_port = ports[cities.index(destination_city)]\n",
        "\n",
        "    booking = {\n",
        "        \"bookingId\": str(uuid.uuid4()),\n",
        "        \"customer\": {\n",
        "            \"customerId\": customer_id,\n",
        "            \"name\": fake.name(),\n",
        "            \"email\": fake.email(),\n",
        "            \"phone\": fake.phone_number()\n",
        "        },\n",
        "        \"origin\": {\n",
        "            \"city\": origin_city,\n",
        "            \"country\": origin_country,\n",
        "            \"port\": origin_port\n",
        "        },\n",
        "        \"destination\": {\n",
        "            \"city\": destination_city,\n",
        "            \"country\": destination_country,\n",
        "            \"port\": destination_port\n",
        "        },\n",
        "        \"parties\": [\n",
        "            {\n",
        "                \"type\": \"shipper\",\n",
        "                \"name\": fake.company(),\n",
        "                \"address\": fake.address()\n",
        "            },\n",
        "            {\n",
        "                \"type\": \"consignee\",\n",
        "                \"name\": fake.company(),\n",
        "                \"address\": fake.address()\n",
        "            }\n",
        "        ],\n",
        "        \"bookingChannel\": random.choice(booking_channels),\n",
        "        \"bookingStatus\": random.choice(booking_statuses),\n",
        "        \"priceQuotation\": {\n",
        "            \"currency\": \"USD\",\n",
        "            \"amount\": round(random.uniform(1000, 5000), 2),\n",
        "            \"validUntil\": fake.date_time_between(start_date=\"now\", end_date=\"+30d\", tzinfo=None)\n",
        "        },\n",
        "        \"vesselInformation\": {\n",
        "            \"name\": random.choice(vessel_names),\n",
        "            \"imoNumber\": str(random.randint(9000000, 9999999)),\n",
        "            \"voyageNumber\": f\"{random.randint(100, 999)}{random.choice(['E', 'W'])}\"\n",
        "        },\n",
        "        \"container\": {\n",
        "            \"containerNumber\": f\"{random.choice(['MSCU', 'MAEU', 'APLU', 'OOLU'])}{random.randint(1000000, 9999999)}\",\n",
        "            \"type\": random.choice(container_types),\n",
        "            \"sealNumber\": f\"SEAL{random.randint(10000, 99999)}\"\n",
        "        },\n",
        "        \"routeInformation\": {\n",
        "            \"departureDate\": fake.date_time_between(start_date=\"-30d\", end_date=\"+30d\", tzinfo=None),\n",
        "            \"arrivalDate\": fake.date_time_between(start_date=\"+30d\", end_date=\"+90d\", tzinfo=None),\n",
        "            \"transitPorts\": random.sample(ports, random.randint(0, 2))  # 0 to 2 transit ports\n",
        "        },\n",
        "        \"priceInformation\": {\n",
        "            \"freightCharges\": round(random.uniform(800, 4000), 2),\n",
        "            \"originCharges\": round(random.uniform(50, 300), 2),\n",
        "            \"destinationCharges\": round(random.uniform(50, 300), 2),\n",
        "            \"totalCharges\": 0,  # Calculated below\n",
        "            \"currency\": \"USD\"\n",
        "        },\n",
        "        \"createdAt\": fake.date_time_between(start_date=\"-60d\", end_date=\"now\", tzinfo=None),\n",
        "        \"updatedAt\": datetime.now()\n",
        "    }\n",
        "\n",
        "    # Calculate total charges\n",
        "    booking[\"priceInformation\"][\"totalCharges\"] = booking[\"priceInformation\"][\"freightCharges\"] + \\\n",
        "                                                  booking[\"priceInformation\"][\"originCharges\"] + \\\n",
        "                                                  booking[\"priceInformation\"][\"destinationCharges\"]\n",
        "\n",
        "    return booking\n",
        "\n",
        "# Generate and Insert Data\n",
        "bookings = []\n",
        "for _ in range(1000):\n",
        "    bookings.append(generate_booking())\n",
        "\n",
        "bookings_collection.insert_many(bookings)\n",
        "\n",
        "print(\"Successfully inserted 1000 booking records!\")"
      ],
      "metadata": {
        "colab": {
          "base_uri": "https://localhost:8080/"
        },
        "id": "VCSBHsE3zOCg",
        "outputId": "2b6536c0-28ef-4f05-c2d7-911f2e5d011c"
      },
      "execution_count": 10,
      "outputs": [
        {
          "output_type": "stream",
          "name": "stdout",
          "text": [
            "Successfully inserted 1000 booking records!\n"
          ]
        }
      ]
    },
    {
      "cell_type": "markdown",
      "source": [
        "**Explanation:**\n",
        "\n",
        "\n",
        "**In essence, this section generates 1000 fake booking records with realistic data and stores them in a MongoDB database.**"
      ],
      "metadata": {
        "id": "nkycRXxfFGX8"
      }
    },
    {
      "cell_type": "markdown",
      "source": [
        "# Configure LlamaIndex"
      ],
      "metadata": {
        "id": "JDEy-l9cFOSt"
      }
    },
    {
      "cell_type": "code",
      "source": [
        "import getpass, os, pymongo, pprint\n",
        "from pymongo.operations import SearchIndexModel\n",
        "from llama_index.core import SimpleDirectoryReader, VectorStoreIndex, StorageContext\n",
        "from llama_index.core.settings import Settings\n",
        "from llama_index.core.retrievers import VectorIndexRetriever\n",
        "from llama_index.core.vector_stores import MetadataFilter, MetadataFilters, ExactMatchFilter, FilterOperator\n",
        "from llama_index.core.query_engine import RetrieverQueryEngine\n",
        "from llama_index.embeddings.openai import OpenAIEmbedding\n",
        "from llama_index.llms.openai import OpenAI\n",
        "from llama_index.vector_stores.mongodb import MongoDBAtlasVectorSearch"
      ],
      "metadata": {
        "id": "WyL2CTIosED3"
      },
      "execution_count": 13,
      "outputs": []
    },
    {
      "cell_type": "markdown",
      "source": [
        "## Configure LlamaIndex settings.\n",
        "Run the following code to configure settings that are specific to LlamaIndex. These settings specify the following:\n",
        "\n",
        "OpenAI as the LLM used by your application to answer questions on your data.\n",
        "\n",
        "text-embedding-ada-002 as the embedding model used by your application to generate vector embeddings from your data.\n",
        "\n",
        "Chunk size and overlap to customize how LlamaIndex partitions your data for storage."
      ],
      "metadata": {
        "id": "By3m9WMr2Ke0"
      }
    },
    {
      "cell_type": "code",
      "source": [
        "llm= OpenAI()"
      ],
      "metadata": {
        "id": "3FalmnwDG5RT"
      },
      "execution_count": 14,
      "outputs": []
    },
    {
      "cell_type": "code",
      "source": [
        "Settings.llm = OpenAI()\n",
        "Settings.embed_model = OpenAIEmbedding(model=\"text-embedding-ada-002\")\n",
        "Settings.chunk_size = 100\n",
        "Settings.chunk_overlap = 10"
      ],
      "metadata": {
        "id": "rY2jQsA72L64"
      },
      "execution_count": 15,
      "outputs": []
    },
    {
      "cell_type": "markdown",
      "source": [
        "**Explanation:**\n",
        "\n",
        "\n",
        "*   **`llm = OpenAI()`:** This line initializes the `llm` variable with an instance of the `OpenAI` class. This sets the default large language model (LLM) to be used by LlamaIndex to OpenAI's default model (likely GPT-3.5 Turbo or a similar model).\n",
        "\n",
        "*   **`Settings.embed_model = OpenAIEmbedding(model=\"text-embedding-ada-002\")`:** This line configures the embedding model that LlamaIndex will use to generate vector embeddings.\n",
        "    *   `OpenAIEmbedding`: Specifies that an OpenAI embedding model will be used.\n",
        "    *   `model=\"text-embedding-ada-002\"`: Sets the specific OpenAI embedding model to \"text-embedding-ada-002\". This is a widely used and cost-effective embedding model.\n",
        "*   **`Settings.chunk_size = 100`:** This sets the chunk size for text splitting. When LlamaIndex ingests documents, it breaks them down into smaller chunks. This line sets the chunk size to 100 tokens (approximately 100 words, but the exact number can vary depending on the tokenizer).\n",
        "*   **`Settings.chunk_overlap = 10`:** This sets the chunk overlap to 10 tokens. This means that consecutive chunks will have an overlap of 10 tokens, which can help maintain context when querying.\n",
        "\n",
        "**In summary, this section configures LlamaIndex to use OpenAI's language model and embedding model, and it sets parameters for how the text data should be chunked during indexing.**"
      ],
      "metadata": {
        "id": "QK4qWT8zFmQC"
      }
    },
    {
      "cell_type": "markdown",
      "source": [
        "# Data Loading and Indexing"
      ],
      "metadata": {
        "id": "1BjjWjl9FoiF"
      }
    },
    {
      "cell_type": "code",
      "source": [
        "mongo_client = pymongo.MongoClient(os.environ['MONGO_CONNECTION_STRING'])\n",
        "db = mongo_client[db_name]\n",
        "collections = db.list_collection_names()"
      ],
      "metadata": {
        "id": "Ihme3aXYsBXU"
      },
      "execution_count": 17,
      "outputs": []
    },
    {
      "cell_type": "code",
      "source": [
        "from llama_index.core import Document\n"
      ],
      "metadata": {
        "id": "IT4eT9_T-7iG"
      },
      "execution_count": 16,
      "outputs": []
    },
    {
      "cell_type": "code",
      "source": [
        "vector_col=\"vectors\"\n",
        "index_name=\"vector_index\""
      ],
      "metadata": {
        "id": "WRY66_6DJ0Gh"
      },
      "execution_count": 18,
      "outputs": []
    },
    {
      "cell_type": "code",
      "source": [
        "# Instantiate the vector store for each collection\n",
        "shipping_vector_store = MongoDBAtlasVectorSearch(\n",
        "    mongo_client,\n",
        "    db_name=db_name,\n",
        "    collection_name=vector_col,\n",
        "    index_name=index_name\n",
        ")"
      ],
      "metadata": {
        "colab": {
          "base_uri": "https://localhost:8080/"
        },
        "id": "S77oUagNyhBj",
        "outputId": "feb31338-bca6-4900-b15c-958e9d2e6aa3"
      },
      "execution_count": 19,
      "outputs": [
        {
          "output_type": "stream",
          "name": "stderr",
          "text": [
            "WARNING:llama_index.vector_stores.mongodb.base:index_name is deprecated. Please use vector_index_name\n",
            "WARNING:llama_index.vector_stores.mongodb.base:vector_index_name and index_name both specified. Will use vector_index_name\n"
          ]
        }
      ]
    },
    {
      "cell_type": "code",
      "source": [
        "for collection_name in collections:\n",
        "    collection = db[collection_name]\n",
        "    raw_documents = list(collection.find({}))\n",
        "    # Convert raw documents (dictionaries) to Document objects\n",
        "    documents = [Document(text=str(doc)) for doc in raw_documents]\n",
        "\n",
        "    vector_store_context = StorageContext.from_defaults(vector_store=shipping_vector_store)\n",
        "    # Convert documents to vector embeddings and store them\n",
        "    vector_store_index = VectorStoreIndex.from_documents(\n",
        "        documents, storage_context=vector_store_context, show_progress=True\n",
        ")"
      ],
      "metadata": {
        "colab": {
          "base_uri": "https://localhost:8080/",
          "height": 177,
          "referenced_widgets": [
            "0966f9c7f06d4c2d9d3e240fa9b8475e",
            "80600ff7e89e4ed599db12c8e04fc04b",
            "14b30224aefa43f697738286a3f7aa17",
            "b460c81a879b4cd48772b8613ae1a007",
            "5a1f5d2838c34c2090a154dbd2a99694",
            "6b24aa38e0ac4798b9cdbef983f02449",
            "00c27f3a4f8b428f9a7e66d2c626a855",
            "c8d1d06eb4d546ad9bec8b02a22e6645",
            "62e1ecf10b1f400198ed7e03eba0e693",
            "c71ecf66f56c40d0bdedf0577bfc1818",
            "07f751c98f154987b789a1908d187ccd",
            "3b4c6c7bbf454079942d62c3325a5b0f",
            "c13df4c60980442ab61270444d1ad0ac",
            "ee4c1cbba33b4b8b83acceb6c5ec9ed9",
            "e45a9aca17f74a9ca54c536af43e1d1d",
            "d4635d5fd4d244e2bb0970a4f237b615",
            "26ce2e24c3ea4106b3f97fce83d9732d",
            "ba768f053d8346829ef5027ebdab8a02",
            "546d261dfd0b4fc08730295a44fd7e0b",
            "86543a873de442bd96dc0463faedeee3",
            "f1d41cb02a7447169635369d02aba2d1",
            "2b530da617d64f69be187050feea7ee0",
            "f93e05382b38454ea32dc7745241b677",
            "2e908e2f36ae4db29d1cf6b27b999338",
            "6c31a1bdb137403193dda6f88e25252c",
            "067ef8d5f14548999411abd0d92452ba",
            "942fde8f0d1246c28a881a75813ad05d",
            "c12b192531b34f5fadb51746d1c08e42",
            "949252e960ba4c1381168f9f60b6fb6b",
            "341cb96df3564be2886c7ddaf2f9e921",
            "377ee824bb9e46c3887a2fd67340e3c8",
            "f51a590d117e46cdba8ecccec1f735d7",
            "d0b3e1dfc8be4fe0aee2b9d75b5b9d37",
            "997397dac6a54c97a80106480b83664e",
            "179d178bc05247b9a21cbcbb3590996e",
            "d1f2c90621ef4365ac79728abba80ac7",
            "766e1c0eb1354d5b8cd493a8246d51e0",
            "f8592308a5614a33aa4555e88c148b0b",
            "bd0ced44a19943b59451855deb46a3ca",
            "9d121b78df984bbd8746bdad85fdf86e",
            "026d54131fba4c2194b7ee55df68dab4",
            "36506700cfcb4f0abd9ed79f1decd53d",
            "ebfbc6486e3d40dd8cf083ba3f88ab4e",
            "2afc5d046cd84af9b0a4273937305688",
            "e12944aaab3142d9862db5f9c919456f",
            "8d9e0d77aa0941a8817bad2111169daf",
            "5ad1c8010f0c4c21bf485e2df246e3d4",
            "63231ba783ab40b4b70aec1fa46e6159",
            "1d75fb63e9a947bc819d5be9f2d5df59",
            "ab982c6a26314850a4bb96c1ecc23629",
            "904f926274644ffca30b7417b9f92537",
            "039793960a5e4101a3a8f45db98340e9",
            "6a799418906f414b967e3152fb298884",
            "3a9069e299ff490e90292beb66ba7137",
            "b3284c99aa5d4e77a61a17ae8cff65ae"
          ]
        },
        "id": "asH4SkwrsAwc",
        "outputId": "b7973499-59f5-4783-a431-4b22be0011a5"
      },
      "execution_count": 20,
      "outputs": [
        {
          "output_type": "display_data",
          "data": {
            "text/plain": [
              "Parsing nodes:   0%|          | 0/1000 [00:00<?, ?it/s]"
            ],
            "application/vnd.jupyter.widget-view+json": {
              "version_major": 2,
              "version_minor": 0,
              "model_id": "0966f9c7f06d4c2d9d3e240fa9b8475e"
            }
          },
          "metadata": {}
        },
        {
          "output_type": "display_data",
          "data": {
            "text/plain": [
              "Generating embeddings:   0%|          | 0/2048 [00:00<?, ?it/s]"
            ],
            "application/vnd.jupyter.widget-view+json": {
              "version_major": 2,
              "version_minor": 0,
              "model_id": "3b4c6c7bbf454079942d62c3325a5b0f"
            }
          },
          "metadata": {}
        },
        {
          "output_type": "display_data",
          "data": {
            "text/plain": [
              "Generating embeddings:   0%|          | 0/2048 [00:00<?, ?it/s]"
            ],
            "application/vnd.jupyter.widget-view+json": {
              "version_major": 2,
              "version_minor": 0,
              "model_id": "f93e05382b38454ea32dc7745241b677"
            }
          },
          "metadata": {}
        },
        {
          "output_type": "display_data",
          "data": {
            "text/plain": [
              "Generating embeddings:   0%|          | 0/2048 [00:00<?, ?it/s]"
            ],
            "application/vnd.jupyter.widget-view+json": {
              "version_major": 2,
              "version_minor": 0,
              "model_id": "997397dac6a54c97a80106480b83664e"
            }
          },
          "metadata": {}
        },
        {
          "output_type": "display_data",
          "data": {
            "text/plain": [
              "Generating embeddings:   0%|          | 0/429 [00:00<?, ?it/s]"
            ],
            "application/vnd.jupyter.widget-view+json": {
              "version_major": 2,
              "version_minor": 0,
              "model_id": "e12944aaab3142d9862db5f9c919456f"
            }
          },
          "metadata": {}
        }
      ]
    },
    {
      "cell_type": "code",
      "execution_count": 21,
      "metadata": {
        "id": "pmqItwhLpIcx",
        "colab": {
          "base_uri": "https://localhost:8080/",
          "height": 35
        },
        "outputId": "e6e15739-071e-4162-c6a5-7e1b0fb1c4fa"
      },
      "outputs": [
        {
          "output_type": "execute_result",
          "data": {
            "text/plain": [
              "'vector_index'"
            ],
            "application/vnd.google.colaboratory.intrinsic+json": {
              "type": "string"
            }
          },
          "metadata": {},
          "execution_count": 21
        }
      ],
      "source": [
        "db = mongo_client[db_name]\n",
        "collection = db[vector_col]\n",
        "\n",
        "# Create your index model, then create the search index\n",
        "search_index_model = SearchIndexModel(\n",
        "  definition={\n",
        "    \"fields\": [\n",
        "      {\n",
        "        \"type\": \"vector\",\n",
        "        \"path\": \"embedding\",\n",
        "        \"numDimensions\": 1536,\n",
        "        \"similarity\": \"cosine\"\n",
        "      },\n",
        "      {\n",
        "        \"type\": \"filter\",\n",
        "        \"path\": \"metadata.page_label\"\n",
        "      }\n",
        "    ]\n",
        "  },\n",
        "  name=\"vector_index\",\n",
        "  type=\"vectorSearch\",\n",
        ")\n",
        "collection.create_search_index(model=search_index_model)\n",
        "\n",
        "\n"
      ]
    },
    {
      "cell_type": "markdown",
      "source": [
        "**Explanation:**\n",
        "\n",
        "\n",
        "*   **`shipping_vector_store = MongoDBAtlasVectorSearch(...)`:** This line creates an instance of `MongoDBAtlasVectorSearch`, which is a LlamaIndex class that represents a vector store backed by MongoDB Atlas.\n",
        "    *   `mongo_client`: The MongoDB client object used to connect to the database.\n",
        "    *   `db_name`: The name of the database.\n",
        "    *   `collection_name`: The name of the collection where vectors will be stored (\"vectors\").\n",
        "    *   `index_name`: The name of the vector index (\"vector\\_index\").\n",
        "*   **`for collection_name in collections:`:** This loop iterates through each collection name in the list of collections retrieved earlier.\n",
        "    *   **`documents = [Document(text=str(doc)) for doc in raw_documents]`:** This is a list comprehension that converts each raw document (a dictionary) into a LlamaIndex `Document` object. The `text` of the `Document` is set to the string representation of the raw document.\n",
        "    *   **`vector_store_context = StorageContext.from_defaults(vector_store=shipping_vector_store)`:** Creates a `StorageContext` object, which manages how data is stored in LlamaIndex. It's configured to use the `shipping_vector_store` (the MongoDB vector store) that was created earlier.\n",
        "    *   **`vector_store_index = VectorStoreIndex.from_documents(...)`:** This is the core indexing step. It creates a `VectorStoreIndex` from the `Document` objects.\n",
        "        *   `documents`: The list of `Document` objects to be indexed.\n",
        "        *   `storage_context`: The `StorageContext` that specifies where to store the index data (in this case, the MongoDB vector store).\n",
        "        *   `show_progress=True`: Displays a progress bar during the indexing process.\n",
        "\n",
        "*   **`search_index_model = SearchIndexModel(...)`:** This defines the structure of the vector search index that will be created in MongoDB.\n",
        "    *   **`definition`:** Specifies the fields to be indexed and their types.\n",
        "        *   **`type: \"vector\"`:** Indicates a vector field for storing embeddings.\n",
        "            *   `path`: The path to the embedding field within the document (it will be named \"embedding\").\n",
        "            *   `numDimensions`: The dimensionality of the embeddings (1536, which is the dimensionality of the \"text-embedding-ada-002\" model).\n",
        "            *   `similarity`: The similarity function to use for vector search (\"cosine\" similarity).\n",
        "        *   **`type: \"filter\"`:** Indicates a filterable field.\n",
        "            *   `path`: The path to the filterable field (\"metadata.page\\_label\").\n",
        "    *   **`name: \"vector_index\"`:** The name of the index.\n",
        "    *   **`type: \"vectorSearch\"`:** Specifies that this is a vector search index.\n",
        "*   **`collection.create_search_index(model=search_index_model)`:** This line creates the vector search index in MongoDB based on the defined `search_index_model`.\n",
        "\n",
        "**In essence, this section loads the data from MongoDB, converts it into LlamaIndex `Document` objects, generates vector embeddings for the documents using the configured embedding model, and stores the embeddings in a MongoDB collection along with a vector search index for efficient querying.**"
      ],
      "metadata": {
        "id": "-LzuFjXfF0Mj"
      }
    },
    {
      "cell_type": "markdown",
      "source": [
        "# Search"
      ],
      "metadata": {
        "id": "5RxyBLmdpRLr"
      }
    },
    {
      "cell_type": "code",
      "source": [],
      "metadata": {
        "id": "ylpNhtOrFwso"
      },
      "execution_count": 45,
      "outputs": []
    },
    {
      "cell_type": "code",
      "source": [
        "from llama_index.core import VectorStoreIndex\n",
        "from llama_index.core.tools import QueryEngineTool, ToolMetadata\n",
        "index = VectorStoreIndex.from_vector_store(shipping_vector_store)\n",
        "query_engine = index.as_query_engine(similarity_top_k=100, llm=llm)\n"
      ],
      "metadata": {
        "id": "8ptth2ydF7t6"
      },
      "execution_count": 33,
      "outputs": []
    },
    {
      "cell_type": "markdown",
      "source": [
        "**Explanation:**\n",
        "\n",
        "*   **`from llama_index.core import VectorStoreIndex ...`:** These lines import necessary classes from LlamaIndex:\n",
        "    *   `VectorStoreIndex`: For creating an index from a vector store.\n",
        "    *   `QueryEngineTool`, `ToolMetadata`: For creating tools that can be used by agents (not directly used in this section but relevant for the Agentic RAG concept).\n",
        "*   **`index = VectorStoreIndex.from_vector_store(shipping_vector_store)`:** This line creates a `VectorStoreIndex` object from the `shipping_vector_store` (the MongoDB vector store) that was created earlier. This index allows you to query the data using vector search.\n",
        "*   **`query_engine = index.as_query_engine(similarity_top_k=100, llm=llm)`:** This line creates a query engine from the index.\n",
        "    *   `similarity_top_k=100`: Specifies that the query engine should retrieve the top 100 most similar documents based on vector similarity.\n",
        "    *   `llm=llm`: Sets the language model to be used by the query engine to the `llm` object (which was configured earlier to be an OpenAI model).\n"
      ],
      "metadata": {
        "id": "lgJ2m4lCGB-T"
      }
    },
    {
      "cell_type": "code",
      "source": [
        "query_text = \"how many booking are there for Lisa Peterson?. give me the infomation about those bookings\"\n",
        "response = query_engine.query(query_text)\n",
        "print(response)\n",
        "\n"
      ],
      "metadata": {
        "colab": {
          "base_uri": "https://localhost:8080/"
        },
        "id": "dHJFK5zoG-yx",
        "outputId": "99172efe-7cd8-4965-e339-cabe55e172ff"
      },
      "execution_count": 26,
      "outputs": [
        {
          "output_type": "stream",
          "name": "stdout",
          "text": [
            "There are two bookings for Lisa Peterson. The first booking was made through the Agent booking channel and has a confirmed status with a price quotation of $2980.52. The second booking was made through the Email booking channel but was cancelled, with a price quotation of $2635.\n"
          ]
        }
      ]
    },
    {
      "cell_type": "code",
      "source": [
        "query_text = \"How many customers do i have? List the customers\"\n",
        "response = query_engine.query(query_text)\n",
        "print(response)"
      ],
      "metadata": {
        "colab": {
          "base_uri": "https://localhost:8080/"
        },
        "id": "9d7fh4Rcz45q",
        "outputId": "a9587e3a-85ce-4f6c-8da6-6adfe858acd2"
      },
      "execution_count": 28,
      "outputs": [
        {
          "output_type": "stream",
          "name": "stdout",
          "text": [
            "You have 10 customers. Their names are Jeff Lewis, Jake Perez, Lisa Smith, Elizabeth Brown, Cynthia Watts, Jennifer Smith, Victoria Johnson, Jessica Nguyen, Mark Byrd, and Rodney Peters.\n"
          ]
        }
      ]
    },
    {
      "cell_type": "code",
      "source": [
        "query_text = \"Give me markdown table for booking, customer, cost for all the booking in or out of China\"\n",
        "response = query_engine.query(query_text)\n",
        "print(response)"
      ],
      "metadata": {
        "colab": {
          "base_uri": "https://localhost:8080/"
        },
        "id": "YPPl2c4-3E_N",
        "outputId": "3a2991d7-0271-40f5-90d1-7ddd495bf3ec"
      },
      "execution_count": 34,
      "outputs": [
        {
          "output_type": "stream",
          "name": "stdout",
          "text": [
            "| Booking ID                            | Customer Name       | Origin      | Destination | Total Charges (USD) |\n",
            "|---------------------------------------|---------------------|-------------|-------------|----------------------|\n",
            "| 14cffb31-1ab2-44a0-bdd7-fcde8bbde4b3 | Diane Chang         | Shanghai    | Shanghai    | 3540.47              |\n",
            "| 6b77f40e-6c68-4488-96ea-5ecebb330581 | Mark Wong           | Shanghai    | Shanghai    | 1781.37              |\n",
            "| 9cf98fb2-15ec-40fa-824f-e91bf09fe30b | Tracy Lin           | Shanghai    | Shanghai    | 4234.68              |\n",
            "| 6327f0ff-b39d-40d2-9c6f-a6df77e7451b | Jamie Chang         | Shanghai    | Shanghai    | 1693.87              |\n",
            "| 112cb6ad-c314-44ec-ab7c-973a96f297b4 | Deanna Hancock      | Shanghai    | Shanghai    | 2097.82              |\n",
            "| 1b8f148a-beb5-4b5d-a11f-dc2ea02abf2a | Matthew Lam         | Shanghai    | Shanghai    | 4615.21              |\n",
            "| 9cf98fb2-15ec-40fa-824f-e91bf09fe30b | Tracy Lin           | Shanghai    | Shanghai    | 4188.62              |\n",
            "| 1b2f23e8-3184-43a6-9393-14f948ed7fc6 | Frank Huynh         | Shanghai    | Shanghai    | 1309.68              |\n",
            "| 6838ce72-7e30-4d8c-a60d-75a479e03639 | Nathan Lin          | Shanghai    | Hong Kong   | 1090.12              |\n"
          ]
        }
      ]
    },
    {
      "cell_type": "code",
      "source": [
        "query_text = \"What is the average total cost of shipments originating from ports in the USA and destined for ports in Asia, and how does this compare to the average cost of shipments between European ports? Provide a breakdown by destination port.\"\n",
        "response = query_engine.query(query_text)\n",
        "print(response)"
      ],
      "metadata": {
        "colab": {
          "base_uri": "https://localhost:8080/"
        },
        "id": "VlI49AzRCz6P",
        "outputId": "4aabcb29-f184-42a0-9055-7a887c18a0c3"
      },
      "execution_count": 35,
      "outputs": [
        {
          "output_type": "stream",
          "name": "stdout",
          "text": [
            "The average total cost of shipments originating from ports in the USA and destined for ports in Asia is approximately 3084.52 USD. In comparison, the average cost of shipments between European ports is around 2693.45 USD. When looking at the breakdown by destination port, shipments to the Port of Shanghai have an average cost of 3122.46 USD, shipments to the Port of Hong Kong have an average cost of 2967.32 USD, and shipments to the Port of Busan have an average cost of 2348.38 USD.\n"
          ]
        }
      ]
    },
    {
      "cell_type": "markdown",
      "source": [
        "**Conclusion**\n",
        "\n",
        "This tutorial provided a comprehensive guide to building an RAG system using MongoDB and LlamaIndex. We covered the essential steps, from setting up the environment and generating data to indexing the data in MongoDB and creating a query engine for semantic search.\n",
        "\n",
        "By leveraging the power of MongoDB's flexible data model and LlamaIndex's indexing and querying capabilities, you can create sophisticated RAG systems that can answer complex questions based on your data. The introduction of \"agents\" further enhances the system's capabilities, allowing for more dynamic and intelligent interactions with external knowledge sources.\n",
        "\n",
        "As you continue to explore RAG, consider experimenting with different agent architectures, tools, and query engine configurations to build even more powerful and adaptable LLM applications. The combination of MongoDB and LlamaIndex provides a solid foundation for your journey into the exciting world of advanced RAG systems."
      ],
      "metadata": {
        "id": "_w2STQXZGFFX"
      }
    }
  ]
}