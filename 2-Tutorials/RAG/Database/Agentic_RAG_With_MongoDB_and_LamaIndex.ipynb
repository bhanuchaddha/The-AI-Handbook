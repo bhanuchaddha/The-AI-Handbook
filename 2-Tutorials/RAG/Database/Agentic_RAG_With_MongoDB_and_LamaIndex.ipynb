{
  "nbformat": 4,
  "nbformat_minor": 0,
  "metadata": {
    "colab": {
      "provenance": [],
      "authorship_tag": "ABX9TyPb7KjpUagk4gS5WLhGWdRQ",
      "include_colab_link": true
    },
    "kernelspec": {
      "name": "python3",
      "display_name": "Python 3"
    },
    "language_info": {
      "name": "python"
    },
    "widgets": {
      "application/vnd.jupyter.widget-state+json": {
        "c27ecaaccd8648dfa7ff5b45831b15e3": {
          "model_module": "@jupyter-widgets/controls",
          "model_name": "HBoxModel",
          "model_module_version": "1.5.0",
          "state": {
            "_dom_classes": [],
            "_model_module": "@jupyter-widgets/controls",
            "_model_module_version": "1.5.0",
            "_model_name": "HBoxModel",
            "_view_count": null,
            "_view_module": "@jupyter-widgets/controls",
            "_view_module_version": "1.5.0",
            "_view_name": "HBoxView",
            "box_style": "",
            "children": [
              "IPY_MODEL_3fca35d5c377490bac86286686e78dfd",
              "IPY_MODEL_2d223774dbfa45b7b180e22e31a35b55",
              "IPY_MODEL_20ef835dd29f42b0bd8055d4b6c4115a"
            ],
            "layout": "IPY_MODEL_e3a6d4660e3441ed8da24973bceca932"
          }
        },
        "3fca35d5c377490bac86286686e78dfd": {
          "model_module": "@jupyter-widgets/controls",
          "model_name": "HTMLModel",
          "model_module_version": "1.5.0",
          "state": {
            "_dom_classes": [],
            "_model_module": "@jupyter-widgets/controls",
            "_model_module_version": "1.5.0",
            "_model_name": "HTMLModel",
            "_view_count": null,
            "_view_module": "@jupyter-widgets/controls",
            "_view_module_version": "1.5.0",
            "_view_name": "HTMLView",
            "description": "",
            "description_tooltip": null,
            "layout": "IPY_MODEL_72f453a28ccc4276843c9f3a7f13c0bf",
            "placeholder": "​",
            "style": "IPY_MODEL_65dbd183d8c64ab1b2270fddd6df83d4",
            "value": "Parsing nodes: 100%"
          }
        },
        "2d223774dbfa45b7b180e22e31a35b55": {
          "model_module": "@jupyter-widgets/controls",
          "model_name": "FloatProgressModel",
          "model_module_version": "1.5.0",
          "state": {
            "_dom_classes": [],
            "_model_module": "@jupyter-widgets/controls",
            "_model_module_version": "1.5.0",
            "_model_name": "FloatProgressModel",
            "_view_count": null,
            "_view_module": "@jupyter-widgets/controls",
            "_view_module_version": "1.5.0",
            "_view_name": "ProgressView",
            "bar_style": "success",
            "description": "",
            "description_tooltip": null,
            "layout": "IPY_MODEL_391ba452a92042e58d019057aa30ee5a",
            "max": 1000,
            "min": 0,
            "orientation": "horizontal",
            "style": "IPY_MODEL_6dd4ddf023aa4dc4b6768bf31680500f",
            "value": 1000
          }
        },
        "20ef835dd29f42b0bd8055d4b6c4115a": {
          "model_module": "@jupyter-widgets/controls",
          "model_name": "HTMLModel",
          "model_module_version": "1.5.0",
          "state": {
            "_dom_classes": [],
            "_model_module": "@jupyter-widgets/controls",
            "_model_module_version": "1.5.0",
            "_model_name": "HTMLModel",
            "_view_count": null,
            "_view_module": "@jupyter-widgets/controls",
            "_view_module_version": "1.5.0",
            "_view_name": "HTMLView",
            "description": "",
            "description_tooltip": null,
            "layout": "IPY_MODEL_704e05000cae4fb4af0fd25ea0875352",
            "placeholder": "​",
            "style": "IPY_MODEL_94d5ce6322db4dc6bea724d1eddb155a",
            "value": " 1000/1000 [00:09&lt;00:00, 83.87it/s]"
          }
        },
        "e3a6d4660e3441ed8da24973bceca932": {
          "model_module": "@jupyter-widgets/base",
          "model_name": "LayoutModel",
          "model_module_version": "1.2.0",
          "state": {
            "_model_module": "@jupyter-widgets/base",
            "_model_module_version": "1.2.0",
            "_model_name": "LayoutModel",
            "_view_count": null,
            "_view_module": "@jupyter-widgets/base",
            "_view_module_version": "1.2.0",
            "_view_name": "LayoutView",
            "align_content": null,
            "align_items": null,
            "align_self": null,
            "border": null,
            "bottom": null,
            "display": null,
            "flex": null,
            "flex_flow": null,
            "grid_area": null,
            "grid_auto_columns": null,
            "grid_auto_flow": null,
            "grid_auto_rows": null,
            "grid_column": null,
            "grid_gap": null,
            "grid_row": null,
            "grid_template_areas": null,
            "grid_template_columns": null,
            "grid_template_rows": null,
            "height": null,
            "justify_content": null,
            "justify_items": null,
            "left": null,
            "margin": null,
            "max_height": null,
            "max_width": null,
            "min_height": null,
            "min_width": null,
            "object_fit": null,
            "object_position": null,
            "order": null,
            "overflow": null,
            "overflow_x": null,
            "overflow_y": null,
            "padding": null,
            "right": null,
            "top": null,
            "visibility": null,
            "width": null
          }
        },
        "72f453a28ccc4276843c9f3a7f13c0bf": {
          "model_module": "@jupyter-widgets/base",
          "model_name": "LayoutModel",
          "model_module_version": "1.2.0",
          "state": {
            "_model_module": "@jupyter-widgets/base",
            "_model_module_version": "1.2.0",
            "_model_name": "LayoutModel",
            "_view_count": null,
            "_view_module": "@jupyter-widgets/base",
            "_view_module_version": "1.2.0",
            "_view_name": "LayoutView",
            "align_content": null,
            "align_items": null,
            "align_self": null,
            "border": null,
            "bottom": null,
            "display": null,
            "flex": null,
            "flex_flow": null,
            "grid_area": null,
            "grid_auto_columns": null,
            "grid_auto_flow": null,
            "grid_auto_rows": null,
            "grid_column": null,
            "grid_gap": null,
            "grid_row": null,
            "grid_template_areas": null,
            "grid_template_columns": null,
            "grid_template_rows": null,
            "height": null,
            "justify_content": null,
            "justify_items": null,
            "left": null,
            "margin": null,
            "max_height": null,
            "max_width": null,
            "min_height": null,
            "min_width": null,
            "object_fit": null,
            "object_position": null,
            "order": null,
            "overflow": null,
            "overflow_x": null,
            "overflow_y": null,
            "padding": null,
            "right": null,
            "top": null,
            "visibility": null,
            "width": null
          }
        },
        "65dbd183d8c64ab1b2270fddd6df83d4": {
          "model_module": "@jupyter-widgets/controls",
          "model_name": "DescriptionStyleModel",
          "model_module_version": "1.5.0",
          "state": {
            "_model_module": "@jupyter-widgets/controls",
            "_model_module_version": "1.5.0",
            "_model_name": "DescriptionStyleModel",
            "_view_count": null,
            "_view_module": "@jupyter-widgets/base",
            "_view_module_version": "1.2.0",
            "_view_name": "StyleView",
            "description_width": ""
          }
        },
        "391ba452a92042e58d019057aa30ee5a": {
          "model_module": "@jupyter-widgets/base",
          "model_name": "LayoutModel",
          "model_module_version": "1.2.0",
          "state": {
            "_model_module": "@jupyter-widgets/base",
            "_model_module_version": "1.2.0",
            "_model_name": "LayoutModel",
            "_view_count": null,
            "_view_module": "@jupyter-widgets/base",
            "_view_module_version": "1.2.0",
            "_view_name": "LayoutView",
            "align_content": null,
            "align_items": null,
            "align_self": null,
            "border": null,
            "bottom": null,
            "display": null,
            "flex": null,
            "flex_flow": null,
            "grid_area": null,
            "grid_auto_columns": null,
            "grid_auto_flow": null,
            "grid_auto_rows": null,
            "grid_column": null,
            "grid_gap": null,
            "grid_row": null,
            "grid_template_areas": null,
            "grid_template_columns": null,
            "grid_template_rows": null,
            "height": null,
            "justify_content": null,
            "justify_items": null,
            "left": null,
            "margin": null,
            "max_height": null,
            "max_width": null,
            "min_height": null,
            "min_width": null,
            "object_fit": null,
            "object_position": null,
            "order": null,
            "overflow": null,
            "overflow_x": null,
            "overflow_y": null,
            "padding": null,
            "right": null,
            "top": null,
            "visibility": null,
            "width": null
          }
        },
        "6dd4ddf023aa4dc4b6768bf31680500f": {
          "model_module": "@jupyter-widgets/controls",
          "model_name": "ProgressStyleModel",
          "model_module_version": "1.5.0",
          "state": {
            "_model_module": "@jupyter-widgets/controls",
            "_model_module_version": "1.5.0",
            "_model_name": "ProgressStyleModel",
            "_view_count": null,
            "_view_module": "@jupyter-widgets/base",
            "_view_module_version": "1.2.0",
            "_view_name": "StyleView",
            "bar_color": null,
            "description_width": ""
          }
        },
        "704e05000cae4fb4af0fd25ea0875352": {
          "model_module": "@jupyter-widgets/base",
          "model_name": "LayoutModel",
          "model_module_version": "1.2.0",
          "state": {
            "_model_module": "@jupyter-widgets/base",
            "_model_module_version": "1.2.0",
            "_model_name": "LayoutModel",
            "_view_count": null,
            "_view_module": "@jupyter-widgets/base",
            "_view_module_version": "1.2.0",
            "_view_name": "LayoutView",
            "align_content": null,
            "align_items": null,
            "align_self": null,
            "border": null,
            "bottom": null,
            "display": null,
            "flex": null,
            "flex_flow": null,
            "grid_area": null,
            "grid_auto_columns": null,
            "grid_auto_flow": null,
            "grid_auto_rows": null,
            "grid_column": null,
            "grid_gap": null,
            "grid_row": null,
            "grid_template_areas": null,
            "grid_template_columns": null,
            "grid_template_rows": null,
            "height": null,
            "justify_content": null,
            "justify_items": null,
            "left": null,
            "margin": null,
            "max_height": null,
            "max_width": null,
            "min_height": null,
            "min_width": null,
            "object_fit": null,
            "object_position": null,
            "order": null,
            "overflow": null,
            "overflow_x": null,
            "overflow_y": null,
            "padding": null,
            "right": null,
            "top": null,
            "visibility": null,
            "width": null
          }
        },
        "94d5ce6322db4dc6bea724d1eddb155a": {
          "model_module": "@jupyter-widgets/controls",
          "model_name": "DescriptionStyleModel",
          "model_module_version": "1.5.0",
          "state": {
            "_model_module": "@jupyter-widgets/controls",
            "_model_module_version": "1.5.0",
            "_model_name": "DescriptionStyleModel",
            "_view_count": null,
            "_view_module": "@jupyter-widgets/base",
            "_view_module_version": "1.2.0",
            "_view_name": "StyleView",
            "description_width": ""
          }
        },
        "4a126d4577634c0ea3494edde1347b0e": {
          "model_module": "@jupyter-widgets/controls",
          "model_name": "HBoxModel",
          "model_module_version": "1.5.0",
          "state": {
            "_dom_classes": [],
            "_model_module": "@jupyter-widgets/controls",
            "_model_module_version": "1.5.0",
            "_model_name": "HBoxModel",
            "_view_count": null,
            "_view_module": "@jupyter-widgets/controls",
            "_view_module_version": "1.5.0",
            "_view_name": "HBoxView",
            "box_style": "",
            "children": [
              "IPY_MODEL_e38e5a33dfad42d69240b7c2ab67ce67",
              "IPY_MODEL_0a5e2cf4deb149f8adb3bf77896f5ffa",
              "IPY_MODEL_946f782b29fa403ea7ea163dd704841e"
            ],
            "layout": "IPY_MODEL_7c8d945095454caba7a34f94c97e7fb7"
          }
        },
        "e38e5a33dfad42d69240b7c2ab67ce67": {
          "model_module": "@jupyter-widgets/controls",
          "model_name": "HTMLModel",
          "model_module_version": "1.5.0",
          "state": {
            "_dom_classes": [],
            "_model_module": "@jupyter-widgets/controls",
            "_model_module_version": "1.5.0",
            "_model_name": "HTMLModel",
            "_view_count": null,
            "_view_module": "@jupyter-widgets/controls",
            "_view_module_version": "1.5.0",
            "_view_name": "HTMLView",
            "description": "",
            "description_tooltip": null,
            "layout": "IPY_MODEL_45031a11ad5a4ef0bfdffa2d18245ff9",
            "placeholder": "​",
            "style": "IPY_MODEL_345f2c06efe046d29c9331654209e7c4",
            "value": "Generating embeddings: 100%"
          }
        },
        "0a5e2cf4deb149f8adb3bf77896f5ffa": {
          "model_module": "@jupyter-widgets/controls",
          "model_name": "FloatProgressModel",
          "model_module_version": "1.5.0",
          "state": {
            "_dom_classes": [],
            "_model_module": "@jupyter-widgets/controls",
            "_model_module_version": "1.5.0",
            "_model_name": "FloatProgressModel",
            "_view_count": null,
            "_view_module": "@jupyter-widgets/controls",
            "_view_module_version": "1.5.0",
            "_view_name": "ProgressView",
            "bar_style": "success",
            "description": "",
            "description_tooltip": null,
            "layout": "IPY_MODEL_0c75f6149cd24f16a0693fc2f7676120",
            "max": 2048,
            "min": 0,
            "orientation": "horizontal",
            "style": "IPY_MODEL_67920feb45f3471f8a653366d231623e",
            "value": 2048
          }
        },
        "946f782b29fa403ea7ea163dd704841e": {
          "model_module": "@jupyter-widgets/controls",
          "model_name": "HTMLModel",
          "model_module_version": "1.5.0",
          "state": {
            "_dom_classes": [],
            "_model_module": "@jupyter-widgets/controls",
            "_model_module_version": "1.5.0",
            "_model_name": "HTMLModel",
            "_view_count": null,
            "_view_module": "@jupyter-widgets/controls",
            "_view_module_version": "1.5.0",
            "_view_name": "HTMLView",
            "description": "",
            "description_tooltip": null,
            "layout": "IPY_MODEL_4f33a739453740cfb970d369d054d6a1",
            "placeholder": "​",
            "style": "IPY_MODEL_4fa0d6e4d1904171bb9fc35ee7a98353",
            "value": " 2048/2048 [00:19&lt;00:00, 89.23it/s]"
          }
        },
        "7c8d945095454caba7a34f94c97e7fb7": {
          "model_module": "@jupyter-widgets/base",
          "model_name": "LayoutModel",
          "model_module_version": "1.2.0",
          "state": {
            "_model_module": "@jupyter-widgets/base",
            "_model_module_version": "1.2.0",
            "_model_name": "LayoutModel",
            "_view_count": null,
            "_view_module": "@jupyter-widgets/base",
            "_view_module_version": "1.2.0",
            "_view_name": "LayoutView",
            "align_content": null,
            "align_items": null,
            "align_self": null,
            "border": null,
            "bottom": null,
            "display": null,
            "flex": null,
            "flex_flow": null,
            "grid_area": null,
            "grid_auto_columns": null,
            "grid_auto_flow": null,
            "grid_auto_rows": null,
            "grid_column": null,
            "grid_gap": null,
            "grid_row": null,
            "grid_template_areas": null,
            "grid_template_columns": null,
            "grid_template_rows": null,
            "height": null,
            "justify_content": null,
            "justify_items": null,
            "left": null,
            "margin": null,
            "max_height": null,
            "max_width": null,
            "min_height": null,
            "min_width": null,
            "object_fit": null,
            "object_position": null,
            "order": null,
            "overflow": null,
            "overflow_x": null,
            "overflow_y": null,
            "padding": null,
            "right": null,
            "top": null,
            "visibility": null,
            "width": null
          }
        },
        "45031a11ad5a4ef0bfdffa2d18245ff9": {
          "model_module": "@jupyter-widgets/base",
          "model_name": "LayoutModel",
          "model_module_version": "1.2.0",
          "state": {
            "_model_module": "@jupyter-widgets/base",
            "_model_module_version": "1.2.0",
            "_model_name": "LayoutModel",
            "_view_count": null,
            "_view_module": "@jupyter-widgets/base",
            "_view_module_version": "1.2.0",
            "_view_name": "LayoutView",
            "align_content": null,
            "align_items": null,
            "align_self": null,
            "border": null,
            "bottom": null,
            "display": null,
            "flex": null,
            "flex_flow": null,
            "grid_area": null,
            "grid_auto_columns": null,
            "grid_auto_flow": null,
            "grid_auto_rows": null,
            "grid_column": null,
            "grid_gap": null,
            "grid_row": null,
            "grid_template_areas": null,
            "grid_template_columns": null,
            "grid_template_rows": null,
            "height": null,
            "justify_content": null,
            "justify_items": null,
            "left": null,
            "margin": null,
            "max_height": null,
            "max_width": null,
            "min_height": null,
            "min_width": null,
            "object_fit": null,
            "object_position": null,
            "order": null,
            "overflow": null,
            "overflow_x": null,
            "overflow_y": null,
            "padding": null,
            "right": null,
            "top": null,
            "visibility": null,
            "width": null
          }
        },
        "345f2c06efe046d29c9331654209e7c4": {
          "model_module": "@jupyter-widgets/controls",
          "model_name": "DescriptionStyleModel",
          "model_module_version": "1.5.0",
          "state": {
            "_model_module": "@jupyter-widgets/controls",
            "_model_module_version": "1.5.0",
            "_model_name": "DescriptionStyleModel",
            "_view_count": null,
            "_view_module": "@jupyter-widgets/base",
            "_view_module_version": "1.2.0",
            "_view_name": "StyleView",
            "description_width": ""
          }
        },
        "0c75f6149cd24f16a0693fc2f7676120": {
          "model_module": "@jupyter-widgets/base",
          "model_name": "LayoutModel",
          "model_module_version": "1.2.0",
          "state": {
            "_model_module": "@jupyter-widgets/base",
            "_model_module_version": "1.2.0",
            "_model_name": "LayoutModel",
            "_view_count": null,
            "_view_module": "@jupyter-widgets/base",
            "_view_module_version": "1.2.0",
            "_view_name": "LayoutView",
            "align_content": null,
            "align_items": null,
            "align_self": null,
            "border": null,
            "bottom": null,
            "display": null,
            "flex": null,
            "flex_flow": null,
            "grid_area": null,
            "grid_auto_columns": null,
            "grid_auto_flow": null,
            "grid_auto_rows": null,
            "grid_column": null,
            "grid_gap": null,
            "grid_row": null,
            "grid_template_areas": null,
            "grid_template_columns": null,
            "grid_template_rows": null,
            "height": null,
            "justify_content": null,
            "justify_items": null,
            "left": null,
            "margin": null,
            "max_height": null,
            "max_width": null,
            "min_height": null,
            "min_width": null,
            "object_fit": null,
            "object_position": null,
            "order": null,
            "overflow": null,
            "overflow_x": null,
            "overflow_y": null,
            "padding": null,
            "right": null,
            "top": null,
            "visibility": null,
            "width": null
          }
        },
        "67920feb45f3471f8a653366d231623e": {
          "model_module": "@jupyter-widgets/controls",
          "model_name": "ProgressStyleModel",
          "model_module_version": "1.5.0",
          "state": {
            "_model_module": "@jupyter-widgets/controls",
            "_model_module_version": "1.5.0",
            "_model_name": "ProgressStyleModel",
            "_view_count": null,
            "_view_module": "@jupyter-widgets/base",
            "_view_module_version": "1.2.0",
            "_view_name": "StyleView",
            "bar_color": null,
            "description_width": ""
          }
        },
        "4f33a739453740cfb970d369d054d6a1": {
          "model_module": "@jupyter-widgets/base",
          "model_name": "LayoutModel",
          "model_module_version": "1.2.0",
          "state": {
            "_model_module": "@jupyter-widgets/base",
            "_model_module_version": "1.2.0",
            "_model_name": "LayoutModel",
            "_view_count": null,
            "_view_module": "@jupyter-widgets/base",
            "_view_module_version": "1.2.0",
            "_view_name": "LayoutView",
            "align_content": null,
            "align_items": null,
            "align_self": null,
            "border": null,
            "bottom": null,
            "display": null,
            "flex": null,
            "flex_flow": null,
            "grid_area": null,
            "grid_auto_columns": null,
            "grid_auto_flow": null,
            "grid_auto_rows": null,
            "grid_column": null,
            "grid_gap": null,
            "grid_row": null,
            "grid_template_areas": null,
            "grid_template_columns": null,
            "grid_template_rows": null,
            "height": null,
            "justify_content": null,
            "justify_items": null,
            "left": null,
            "margin": null,
            "max_height": null,
            "max_width": null,
            "min_height": null,
            "min_width": null,
            "object_fit": null,
            "object_position": null,
            "order": null,
            "overflow": null,
            "overflow_x": null,
            "overflow_y": null,
            "padding": null,
            "right": null,
            "top": null,
            "visibility": null,
            "width": null
          }
        },
        "4fa0d6e4d1904171bb9fc35ee7a98353": {
          "model_module": "@jupyter-widgets/controls",
          "model_name": "DescriptionStyleModel",
          "model_module_version": "1.5.0",
          "state": {
            "_model_module": "@jupyter-widgets/controls",
            "_model_module_version": "1.5.0",
            "_model_name": "DescriptionStyleModel",
            "_view_count": null,
            "_view_module": "@jupyter-widgets/base",
            "_view_module_version": "1.2.0",
            "_view_name": "StyleView",
            "description_width": ""
          }
        },
        "9912439cc34041889127e3b4c5eaa8d2": {
          "model_module": "@jupyter-widgets/controls",
          "model_name": "HBoxModel",
          "model_module_version": "1.5.0",
          "state": {
            "_dom_classes": [],
            "_model_module": "@jupyter-widgets/controls",
            "_model_module_version": "1.5.0",
            "_model_name": "HBoxModel",
            "_view_count": null,
            "_view_module": "@jupyter-widgets/controls",
            "_view_module_version": "1.5.0",
            "_view_name": "HBoxView",
            "box_style": "",
            "children": [
              "IPY_MODEL_776f3d9b65fe420abbba17aa916d6f90",
              "IPY_MODEL_0ba9d99dface4e5597e214c6565b5c48",
              "IPY_MODEL_2c5ecdd42fb04e1586e7390a5acb7d73"
            ],
            "layout": "IPY_MODEL_b8496e4a7a3a4341826fb9e93c6d9446"
          }
        },
        "776f3d9b65fe420abbba17aa916d6f90": {
          "model_module": "@jupyter-widgets/controls",
          "model_name": "HTMLModel",
          "model_module_version": "1.5.0",
          "state": {
            "_dom_classes": [],
            "_model_module": "@jupyter-widgets/controls",
            "_model_module_version": "1.5.0",
            "_model_name": "HTMLModel",
            "_view_count": null,
            "_view_module": "@jupyter-widgets/controls",
            "_view_module_version": "1.5.0",
            "_view_name": "HTMLView",
            "description": "",
            "description_tooltip": null,
            "layout": "IPY_MODEL_e89b615523584bdda6945fc1a22a4eee",
            "placeholder": "​",
            "style": "IPY_MODEL_cb9fb43632a744e2995493c82ae57a32",
            "value": "Generating embeddings: 100%"
          }
        },
        "0ba9d99dface4e5597e214c6565b5c48": {
          "model_module": "@jupyter-widgets/controls",
          "model_name": "FloatProgressModel",
          "model_module_version": "1.5.0",
          "state": {
            "_dom_classes": [],
            "_model_module": "@jupyter-widgets/controls",
            "_model_module_version": "1.5.0",
            "_model_name": "FloatProgressModel",
            "_view_count": null,
            "_view_module": "@jupyter-widgets/controls",
            "_view_module_version": "1.5.0",
            "_view_name": "ProgressView",
            "bar_style": "success",
            "description": "",
            "description_tooltip": null,
            "layout": "IPY_MODEL_d13b1fc643d04d379d3bbf3a5811ef41",
            "max": 2048,
            "min": 0,
            "orientation": "horizontal",
            "style": "IPY_MODEL_007c4433bb2c4f6587b7f230c9ec26aa",
            "value": 2048
          }
        },
        "2c5ecdd42fb04e1586e7390a5acb7d73": {
          "model_module": "@jupyter-widgets/controls",
          "model_name": "HTMLModel",
          "model_module_version": "1.5.0",
          "state": {
            "_dom_classes": [],
            "_model_module": "@jupyter-widgets/controls",
            "_model_module_version": "1.5.0",
            "_model_name": "HTMLModel",
            "_view_count": null,
            "_view_module": "@jupyter-widgets/controls",
            "_view_module_version": "1.5.0",
            "_view_name": "HTMLView",
            "description": "",
            "description_tooltip": null,
            "layout": "IPY_MODEL_8896d15790a54d9088b8bf617fc56519",
            "placeholder": "​",
            "style": "IPY_MODEL_572d2b3d045a4fcd902f7b879917c733",
            "value": " 2048/2048 [00:16&lt;00:00, 103.67it/s]"
          }
        },
        "b8496e4a7a3a4341826fb9e93c6d9446": {
          "model_module": "@jupyter-widgets/base",
          "model_name": "LayoutModel",
          "model_module_version": "1.2.0",
          "state": {
            "_model_module": "@jupyter-widgets/base",
            "_model_module_version": "1.2.0",
            "_model_name": "LayoutModel",
            "_view_count": null,
            "_view_module": "@jupyter-widgets/base",
            "_view_module_version": "1.2.0",
            "_view_name": "LayoutView",
            "align_content": null,
            "align_items": null,
            "align_self": null,
            "border": null,
            "bottom": null,
            "display": null,
            "flex": null,
            "flex_flow": null,
            "grid_area": null,
            "grid_auto_columns": null,
            "grid_auto_flow": null,
            "grid_auto_rows": null,
            "grid_column": null,
            "grid_gap": null,
            "grid_row": null,
            "grid_template_areas": null,
            "grid_template_columns": null,
            "grid_template_rows": null,
            "height": null,
            "justify_content": null,
            "justify_items": null,
            "left": null,
            "margin": null,
            "max_height": null,
            "max_width": null,
            "min_height": null,
            "min_width": null,
            "object_fit": null,
            "object_position": null,
            "order": null,
            "overflow": null,
            "overflow_x": null,
            "overflow_y": null,
            "padding": null,
            "right": null,
            "top": null,
            "visibility": null,
            "width": null
          }
        },
        "e89b615523584bdda6945fc1a22a4eee": {
          "model_module": "@jupyter-widgets/base",
          "model_name": "LayoutModel",
          "model_module_version": "1.2.0",
          "state": {
            "_model_module": "@jupyter-widgets/base",
            "_model_module_version": "1.2.0",
            "_model_name": "LayoutModel",
            "_view_count": null,
            "_view_module": "@jupyter-widgets/base",
            "_view_module_version": "1.2.0",
            "_view_name": "LayoutView",
            "align_content": null,
            "align_items": null,
            "align_self": null,
            "border": null,
            "bottom": null,
            "display": null,
            "flex": null,
            "flex_flow": null,
            "grid_area": null,
            "grid_auto_columns": null,
            "grid_auto_flow": null,
            "grid_auto_rows": null,
            "grid_column": null,
            "grid_gap": null,
            "grid_row": null,
            "grid_template_areas": null,
            "grid_template_columns": null,
            "grid_template_rows": null,
            "height": null,
            "justify_content": null,
            "justify_items": null,
            "left": null,
            "margin": null,
            "max_height": null,
            "max_width": null,
            "min_height": null,
            "min_width": null,
            "object_fit": null,
            "object_position": null,
            "order": null,
            "overflow": null,
            "overflow_x": null,
            "overflow_y": null,
            "padding": null,
            "right": null,
            "top": null,
            "visibility": null,
            "width": null
          }
        },
        "cb9fb43632a744e2995493c82ae57a32": {
          "model_module": "@jupyter-widgets/controls",
          "model_name": "DescriptionStyleModel",
          "model_module_version": "1.5.0",
          "state": {
            "_model_module": "@jupyter-widgets/controls",
            "_model_module_version": "1.5.0",
            "_model_name": "DescriptionStyleModel",
            "_view_count": null,
            "_view_module": "@jupyter-widgets/base",
            "_view_module_version": "1.2.0",
            "_view_name": "StyleView",
            "description_width": ""
          }
        },
        "d13b1fc643d04d379d3bbf3a5811ef41": {
          "model_module": "@jupyter-widgets/base",
          "model_name": "LayoutModel",
          "model_module_version": "1.2.0",
          "state": {
            "_model_module": "@jupyter-widgets/base",
            "_model_module_version": "1.2.0",
            "_model_name": "LayoutModel",
            "_view_count": null,
            "_view_module": "@jupyter-widgets/base",
            "_view_module_version": "1.2.0",
            "_view_name": "LayoutView",
            "align_content": null,
            "align_items": null,
            "align_self": null,
            "border": null,
            "bottom": null,
            "display": null,
            "flex": null,
            "flex_flow": null,
            "grid_area": null,
            "grid_auto_columns": null,
            "grid_auto_flow": null,
            "grid_auto_rows": null,
            "grid_column": null,
            "grid_gap": null,
            "grid_row": null,
            "grid_template_areas": null,
            "grid_template_columns": null,
            "grid_template_rows": null,
            "height": null,
            "justify_content": null,
            "justify_items": null,
            "left": null,
            "margin": null,
            "max_height": null,
            "max_width": null,
            "min_height": null,
            "min_width": null,
            "object_fit": null,
            "object_position": null,
            "order": null,
            "overflow": null,
            "overflow_x": null,
            "overflow_y": null,
            "padding": null,
            "right": null,
            "top": null,
            "visibility": null,
            "width": null
          }
        },
        "007c4433bb2c4f6587b7f230c9ec26aa": {
          "model_module": "@jupyter-widgets/controls",
          "model_name": "ProgressStyleModel",
          "model_module_version": "1.5.0",
          "state": {
            "_model_module": "@jupyter-widgets/controls",
            "_model_module_version": "1.5.0",
            "_model_name": "ProgressStyleModel",
            "_view_count": null,
            "_view_module": "@jupyter-widgets/base",
            "_view_module_version": "1.2.0",
            "_view_name": "StyleView",
            "bar_color": null,
            "description_width": ""
          }
        },
        "8896d15790a54d9088b8bf617fc56519": {
          "model_module": "@jupyter-widgets/base",
          "model_name": "LayoutModel",
          "model_module_version": "1.2.0",
          "state": {
            "_model_module": "@jupyter-widgets/base",
            "_model_module_version": "1.2.0",
            "_model_name": "LayoutModel",
            "_view_count": null,
            "_view_module": "@jupyter-widgets/base",
            "_view_module_version": "1.2.0",
            "_view_name": "LayoutView",
            "align_content": null,
            "align_items": null,
            "align_self": null,
            "border": null,
            "bottom": null,
            "display": null,
            "flex": null,
            "flex_flow": null,
            "grid_area": null,
            "grid_auto_columns": null,
            "grid_auto_flow": null,
            "grid_auto_rows": null,
            "grid_column": null,
            "grid_gap": null,
            "grid_row": null,
            "grid_template_areas": null,
            "grid_template_columns": null,
            "grid_template_rows": null,
            "height": null,
            "justify_content": null,
            "justify_items": null,
            "left": null,
            "margin": null,
            "max_height": null,
            "max_width": null,
            "min_height": null,
            "min_width": null,
            "object_fit": null,
            "object_position": null,
            "order": null,
            "overflow": null,
            "overflow_x": null,
            "overflow_y": null,
            "padding": null,
            "right": null,
            "top": null,
            "visibility": null,
            "width": null
          }
        },
        "572d2b3d045a4fcd902f7b879917c733": {
          "model_module": "@jupyter-widgets/controls",
          "model_name": "DescriptionStyleModel",
          "model_module_version": "1.5.0",
          "state": {
            "_model_module": "@jupyter-widgets/controls",
            "_model_module_version": "1.5.0",
            "_model_name": "DescriptionStyleModel",
            "_view_count": null,
            "_view_module": "@jupyter-widgets/base",
            "_view_module_version": "1.2.0",
            "_view_name": "StyleView",
            "description_width": ""
          }
        },
        "14c98acfcfcd4e0eb5afdedf05ea1059": {
          "model_module": "@jupyter-widgets/controls",
          "model_name": "HBoxModel",
          "model_module_version": "1.5.0",
          "state": {
            "_dom_classes": [],
            "_model_module": "@jupyter-widgets/controls",
            "_model_module_version": "1.5.0",
            "_model_name": "HBoxModel",
            "_view_count": null,
            "_view_module": "@jupyter-widgets/controls",
            "_view_module_version": "1.5.0",
            "_view_name": "HBoxView",
            "box_style": "",
            "children": [
              "IPY_MODEL_c81720caf1be4da3bd5906e9ab8a0cf1",
              "IPY_MODEL_16df2ca7d9ad4230be68d18a26ea0be3",
              "IPY_MODEL_d0e38d0c8dcb49bcaf09f1ea113b672e"
            ],
            "layout": "IPY_MODEL_a5544183b3214ae29f26a419f9bd904f"
          }
        },
        "c81720caf1be4da3bd5906e9ab8a0cf1": {
          "model_module": "@jupyter-widgets/controls",
          "model_name": "HTMLModel",
          "model_module_version": "1.5.0",
          "state": {
            "_dom_classes": [],
            "_model_module": "@jupyter-widgets/controls",
            "_model_module_version": "1.5.0",
            "_model_name": "HTMLModel",
            "_view_count": null,
            "_view_module": "@jupyter-widgets/controls",
            "_view_module_version": "1.5.0",
            "_view_name": "HTMLView",
            "description": "",
            "description_tooltip": null,
            "layout": "IPY_MODEL_690a375bf1d746ceb07047dac68cd98c",
            "placeholder": "​",
            "style": "IPY_MODEL_f8521956c5094f30b9c2c1b703e335fc",
            "value": "Generating embeddings: 100%"
          }
        },
        "16df2ca7d9ad4230be68d18a26ea0be3": {
          "model_module": "@jupyter-widgets/controls",
          "model_name": "FloatProgressModel",
          "model_module_version": "1.5.0",
          "state": {
            "_dom_classes": [],
            "_model_module": "@jupyter-widgets/controls",
            "_model_module_version": "1.5.0",
            "_model_name": "FloatProgressModel",
            "_view_count": null,
            "_view_module": "@jupyter-widgets/controls",
            "_view_module_version": "1.5.0",
            "_view_name": "ProgressView",
            "bar_style": "success",
            "description": "",
            "description_tooltip": null,
            "layout": "IPY_MODEL_a132d0b2d0974a88a143658ab4810efb",
            "max": 2048,
            "min": 0,
            "orientation": "horizontal",
            "style": "IPY_MODEL_4ffb2dce4a1740478ef4f8a98b17a988",
            "value": 2048
          }
        },
        "d0e38d0c8dcb49bcaf09f1ea113b672e": {
          "model_module": "@jupyter-widgets/controls",
          "model_name": "HTMLModel",
          "model_module_version": "1.5.0",
          "state": {
            "_dom_classes": [],
            "_model_module": "@jupyter-widgets/controls",
            "_model_module_version": "1.5.0",
            "_model_name": "HTMLModel",
            "_view_count": null,
            "_view_module": "@jupyter-widgets/controls",
            "_view_module_version": "1.5.0",
            "_view_name": "HTMLView",
            "description": "",
            "description_tooltip": null,
            "layout": "IPY_MODEL_f1073e4c8cb7464ca08fff78bc6c9abb",
            "placeholder": "​",
            "style": "IPY_MODEL_19f4f0688a344bd88195ad1200b5a506",
            "value": " 2048/2048 [00:15&lt;00:00, 139.43it/s]"
          }
        },
        "a5544183b3214ae29f26a419f9bd904f": {
          "model_module": "@jupyter-widgets/base",
          "model_name": "LayoutModel",
          "model_module_version": "1.2.0",
          "state": {
            "_model_module": "@jupyter-widgets/base",
            "_model_module_version": "1.2.0",
            "_model_name": "LayoutModel",
            "_view_count": null,
            "_view_module": "@jupyter-widgets/base",
            "_view_module_version": "1.2.0",
            "_view_name": "LayoutView",
            "align_content": null,
            "align_items": null,
            "align_self": null,
            "border": null,
            "bottom": null,
            "display": null,
            "flex": null,
            "flex_flow": null,
            "grid_area": null,
            "grid_auto_columns": null,
            "grid_auto_flow": null,
            "grid_auto_rows": null,
            "grid_column": null,
            "grid_gap": null,
            "grid_row": null,
            "grid_template_areas": null,
            "grid_template_columns": null,
            "grid_template_rows": null,
            "height": null,
            "justify_content": null,
            "justify_items": null,
            "left": null,
            "margin": null,
            "max_height": null,
            "max_width": null,
            "min_height": null,
            "min_width": null,
            "object_fit": null,
            "object_position": null,
            "order": null,
            "overflow": null,
            "overflow_x": null,
            "overflow_y": null,
            "padding": null,
            "right": null,
            "top": null,
            "visibility": null,
            "width": null
          }
        },
        "690a375bf1d746ceb07047dac68cd98c": {
          "model_module": "@jupyter-widgets/base",
          "model_name": "LayoutModel",
          "model_module_version": "1.2.0",
          "state": {
            "_model_module": "@jupyter-widgets/base",
            "_model_module_version": "1.2.0",
            "_model_name": "LayoutModel",
            "_view_count": null,
            "_view_module": "@jupyter-widgets/base",
            "_view_module_version": "1.2.0",
            "_view_name": "LayoutView",
            "align_content": null,
            "align_items": null,
            "align_self": null,
            "border": null,
            "bottom": null,
            "display": null,
            "flex": null,
            "flex_flow": null,
            "grid_area": null,
            "grid_auto_columns": null,
            "grid_auto_flow": null,
            "grid_auto_rows": null,
            "grid_column": null,
            "grid_gap": null,
            "grid_row": null,
            "grid_template_areas": null,
            "grid_template_columns": null,
            "grid_template_rows": null,
            "height": null,
            "justify_content": null,
            "justify_items": null,
            "left": null,
            "margin": null,
            "max_height": null,
            "max_width": null,
            "min_height": null,
            "min_width": null,
            "object_fit": null,
            "object_position": null,
            "order": null,
            "overflow": null,
            "overflow_x": null,
            "overflow_y": null,
            "padding": null,
            "right": null,
            "top": null,
            "visibility": null,
            "width": null
          }
        },
        "f8521956c5094f30b9c2c1b703e335fc": {
          "model_module": "@jupyter-widgets/controls",
          "model_name": "DescriptionStyleModel",
          "model_module_version": "1.5.0",
          "state": {
            "_model_module": "@jupyter-widgets/controls",
            "_model_module_version": "1.5.0",
            "_model_name": "DescriptionStyleModel",
            "_view_count": null,
            "_view_module": "@jupyter-widgets/base",
            "_view_module_version": "1.2.0",
            "_view_name": "StyleView",
            "description_width": ""
          }
        },
        "a132d0b2d0974a88a143658ab4810efb": {
          "model_module": "@jupyter-widgets/base",
          "model_name": "LayoutModel",
          "model_module_version": "1.2.0",
          "state": {
            "_model_module": "@jupyter-widgets/base",
            "_model_module_version": "1.2.0",
            "_model_name": "LayoutModel",
            "_view_count": null,
            "_view_module": "@jupyter-widgets/base",
            "_view_module_version": "1.2.0",
            "_view_name": "LayoutView",
            "align_content": null,
            "align_items": null,
            "align_self": null,
            "border": null,
            "bottom": null,
            "display": null,
            "flex": null,
            "flex_flow": null,
            "grid_area": null,
            "grid_auto_columns": null,
            "grid_auto_flow": null,
            "grid_auto_rows": null,
            "grid_column": null,
            "grid_gap": null,
            "grid_row": null,
            "grid_template_areas": null,
            "grid_template_columns": null,
            "grid_template_rows": null,
            "height": null,
            "justify_content": null,
            "justify_items": null,
            "left": null,
            "margin": null,
            "max_height": null,
            "max_width": null,
            "min_height": null,
            "min_width": null,
            "object_fit": null,
            "object_position": null,
            "order": null,
            "overflow": null,
            "overflow_x": null,
            "overflow_y": null,
            "padding": null,
            "right": null,
            "top": null,
            "visibility": null,
            "width": null
          }
        },
        "4ffb2dce4a1740478ef4f8a98b17a988": {
          "model_module": "@jupyter-widgets/controls",
          "model_name": "ProgressStyleModel",
          "model_module_version": "1.5.0",
          "state": {
            "_model_module": "@jupyter-widgets/controls",
            "_model_module_version": "1.5.0",
            "_model_name": "ProgressStyleModel",
            "_view_count": null,
            "_view_module": "@jupyter-widgets/base",
            "_view_module_version": "1.2.0",
            "_view_name": "StyleView",
            "bar_color": null,
            "description_width": ""
          }
        },
        "f1073e4c8cb7464ca08fff78bc6c9abb": {
          "model_module": "@jupyter-widgets/base",
          "model_name": "LayoutModel",
          "model_module_version": "1.2.0",
          "state": {
            "_model_module": "@jupyter-widgets/base",
            "_model_module_version": "1.2.0",
            "_model_name": "LayoutModel",
            "_view_count": null,
            "_view_module": "@jupyter-widgets/base",
            "_view_module_version": "1.2.0",
            "_view_name": "LayoutView",
            "align_content": null,
            "align_items": null,
            "align_self": null,
            "border": null,
            "bottom": null,
            "display": null,
            "flex": null,
            "flex_flow": null,
            "grid_area": null,
            "grid_auto_columns": null,
            "grid_auto_flow": null,
            "grid_auto_rows": null,
            "grid_column": null,
            "grid_gap": null,
            "grid_row": null,
            "grid_template_areas": null,
            "grid_template_columns": null,
            "grid_template_rows": null,
            "height": null,
            "justify_content": null,
            "justify_items": null,
            "left": null,
            "margin": null,
            "max_height": null,
            "max_width": null,
            "min_height": null,
            "min_width": null,
            "object_fit": null,
            "object_position": null,
            "order": null,
            "overflow": null,
            "overflow_x": null,
            "overflow_y": null,
            "padding": null,
            "right": null,
            "top": null,
            "visibility": null,
            "width": null
          }
        },
        "19f4f0688a344bd88195ad1200b5a506": {
          "model_module": "@jupyter-widgets/controls",
          "model_name": "DescriptionStyleModel",
          "model_module_version": "1.5.0",
          "state": {
            "_model_module": "@jupyter-widgets/controls",
            "_model_module_version": "1.5.0",
            "_model_name": "DescriptionStyleModel",
            "_view_count": null,
            "_view_module": "@jupyter-widgets/base",
            "_view_module_version": "1.2.0",
            "_view_name": "StyleView",
            "description_width": ""
          }
        },
        "f2f1e48acd744544a07b609fd98777df": {
          "model_module": "@jupyter-widgets/controls",
          "model_name": "HBoxModel",
          "model_module_version": "1.5.0",
          "state": {
            "_dom_classes": [],
            "_model_module": "@jupyter-widgets/controls",
            "_model_module_version": "1.5.0",
            "_model_name": "HBoxModel",
            "_view_count": null,
            "_view_module": "@jupyter-widgets/controls",
            "_view_module_version": "1.5.0",
            "_view_name": "HBoxView",
            "box_style": "",
            "children": [
              "IPY_MODEL_7a5218b4a9da41d1ac93d9beb448c842",
              "IPY_MODEL_986b84c7c18e43a8906d19124f0b7753",
              "IPY_MODEL_2f2a2d7a322b41dc9abbb6f88e554fbb"
            ],
            "layout": "IPY_MODEL_6fe9de11cc4c4f4cbfcd4257650e1f7b"
          }
        },
        "7a5218b4a9da41d1ac93d9beb448c842": {
          "model_module": "@jupyter-widgets/controls",
          "model_name": "HTMLModel",
          "model_module_version": "1.5.0",
          "state": {
            "_dom_classes": [],
            "_model_module": "@jupyter-widgets/controls",
            "_model_module_version": "1.5.0",
            "_model_name": "HTMLModel",
            "_view_count": null,
            "_view_module": "@jupyter-widgets/controls",
            "_view_module_version": "1.5.0",
            "_view_name": "HTMLView",
            "description": "",
            "description_tooltip": null,
            "layout": "IPY_MODEL_bea2443ad6c14d0b8fb601b035fb0f0a",
            "placeholder": "​",
            "style": "IPY_MODEL_d3086a61f3a74c28a4944091aaf0106e",
            "value": "Generating embeddings: 100%"
          }
        },
        "986b84c7c18e43a8906d19124f0b7753": {
          "model_module": "@jupyter-widgets/controls",
          "model_name": "FloatProgressModel",
          "model_module_version": "1.5.0",
          "state": {
            "_dom_classes": [],
            "_model_module": "@jupyter-widgets/controls",
            "_model_module_version": "1.5.0",
            "_model_name": "FloatProgressModel",
            "_view_count": null,
            "_view_module": "@jupyter-widgets/controls",
            "_view_module_version": "1.5.0",
            "_view_name": "ProgressView",
            "bar_style": "success",
            "description": "",
            "description_tooltip": null,
            "layout": "IPY_MODEL_5571cc134e6741cba823978c702ed1e4",
            "max": 429,
            "min": 0,
            "orientation": "horizontal",
            "style": "IPY_MODEL_4abf9fe4dc58466c8a5e6bde8f4a0690",
            "value": 429
          }
        },
        "2f2a2d7a322b41dc9abbb6f88e554fbb": {
          "model_module": "@jupyter-widgets/controls",
          "model_name": "HTMLModel",
          "model_module_version": "1.5.0",
          "state": {
            "_dom_classes": [],
            "_model_module": "@jupyter-widgets/controls",
            "_model_module_version": "1.5.0",
            "_model_name": "HTMLModel",
            "_view_count": null,
            "_view_module": "@jupyter-widgets/controls",
            "_view_module_version": "1.5.0",
            "_view_name": "HTMLView",
            "description": "",
            "description_tooltip": null,
            "layout": "IPY_MODEL_8ca3067943b443e69118d2c43713f2be",
            "placeholder": "​",
            "style": "IPY_MODEL_23c0c15374b445aebe9a93cc168e7422",
            "value": " 429/429 [00:03&lt;00:00, 106.33it/s]"
          }
        },
        "6fe9de11cc4c4f4cbfcd4257650e1f7b": {
          "model_module": "@jupyter-widgets/base",
          "model_name": "LayoutModel",
          "model_module_version": "1.2.0",
          "state": {
            "_model_module": "@jupyter-widgets/base",
            "_model_module_version": "1.2.0",
            "_model_name": "LayoutModel",
            "_view_count": null,
            "_view_module": "@jupyter-widgets/base",
            "_view_module_version": "1.2.0",
            "_view_name": "LayoutView",
            "align_content": null,
            "align_items": null,
            "align_self": null,
            "border": null,
            "bottom": null,
            "display": null,
            "flex": null,
            "flex_flow": null,
            "grid_area": null,
            "grid_auto_columns": null,
            "grid_auto_flow": null,
            "grid_auto_rows": null,
            "grid_column": null,
            "grid_gap": null,
            "grid_row": null,
            "grid_template_areas": null,
            "grid_template_columns": null,
            "grid_template_rows": null,
            "height": null,
            "justify_content": null,
            "justify_items": null,
            "left": null,
            "margin": null,
            "max_height": null,
            "max_width": null,
            "min_height": null,
            "min_width": null,
            "object_fit": null,
            "object_position": null,
            "order": null,
            "overflow": null,
            "overflow_x": null,
            "overflow_y": null,
            "padding": null,
            "right": null,
            "top": null,
            "visibility": null,
            "width": null
          }
        },
        "bea2443ad6c14d0b8fb601b035fb0f0a": {
          "model_module": "@jupyter-widgets/base",
          "model_name": "LayoutModel",
          "model_module_version": "1.2.0",
          "state": {
            "_model_module": "@jupyter-widgets/base",
            "_model_module_version": "1.2.0",
            "_model_name": "LayoutModel",
            "_view_count": null,
            "_view_module": "@jupyter-widgets/base",
            "_view_module_version": "1.2.0",
            "_view_name": "LayoutView",
            "align_content": null,
            "align_items": null,
            "align_self": null,
            "border": null,
            "bottom": null,
            "display": null,
            "flex": null,
            "flex_flow": null,
            "grid_area": null,
            "grid_auto_columns": null,
            "grid_auto_flow": null,
            "grid_auto_rows": null,
            "grid_column": null,
            "grid_gap": null,
            "grid_row": null,
            "grid_template_areas": null,
            "grid_template_columns": null,
            "grid_template_rows": null,
            "height": null,
            "justify_content": null,
            "justify_items": null,
            "left": null,
            "margin": null,
            "max_height": null,
            "max_width": null,
            "min_height": null,
            "min_width": null,
            "object_fit": null,
            "object_position": null,
            "order": null,
            "overflow": null,
            "overflow_x": null,
            "overflow_y": null,
            "padding": null,
            "right": null,
            "top": null,
            "visibility": null,
            "width": null
          }
        },
        "d3086a61f3a74c28a4944091aaf0106e": {
          "model_module": "@jupyter-widgets/controls",
          "model_name": "DescriptionStyleModel",
          "model_module_version": "1.5.0",
          "state": {
            "_model_module": "@jupyter-widgets/controls",
            "_model_module_version": "1.5.0",
            "_model_name": "DescriptionStyleModel",
            "_view_count": null,
            "_view_module": "@jupyter-widgets/base",
            "_view_module_version": "1.2.0",
            "_view_name": "StyleView",
            "description_width": ""
          }
        },
        "5571cc134e6741cba823978c702ed1e4": {
          "model_module": "@jupyter-widgets/base",
          "model_name": "LayoutModel",
          "model_module_version": "1.2.0",
          "state": {
            "_model_module": "@jupyter-widgets/base",
            "_model_module_version": "1.2.0",
            "_model_name": "LayoutModel",
            "_view_count": null,
            "_view_module": "@jupyter-widgets/base",
            "_view_module_version": "1.2.0",
            "_view_name": "LayoutView",
            "align_content": null,
            "align_items": null,
            "align_self": null,
            "border": null,
            "bottom": null,
            "display": null,
            "flex": null,
            "flex_flow": null,
            "grid_area": null,
            "grid_auto_columns": null,
            "grid_auto_flow": null,
            "grid_auto_rows": null,
            "grid_column": null,
            "grid_gap": null,
            "grid_row": null,
            "grid_template_areas": null,
            "grid_template_columns": null,
            "grid_template_rows": null,
            "height": null,
            "justify_content": null,
            "justify_items": null,
            "left": null,
            "margin": null,
            "max_height": null,
            "max_width": null,
            "min_height": null,
            "min_width": null,
            "object_fit": null,
            "object_position": null,
            "order": null,
            "overflow": null,
            "overflow_x": null,
            "overflow_y": null,
            "padding": null,
            "right": null,
            "top": null,
            "visibility": null,
            "width": null
          }
        },
        "4abf9fe4dc58466c8a5e6bde8f4a0690": {
          "model_module": "@jupyter-widgets/controls",
          "model_name": "ProgressStyleModel",
          "model_module_version": "1.5.0",
          "state": {
            "_model_module": "@jupyter-widgets/controls",
            "_model_module_version": "1.5.0",
            "_model_name": "ProgressStyleModel",
            "_view_count": null,
            "_view_module": "@jupyter-widgets/base",
            "_view_module_version": "1.2.0",
            "_view_name": "StyleView",
            "bar_color": null,
            "description_width": ""
          }
        },
        "8ca3067943b443e69118d2c43713f2be": {
          "model_module": "@jupyter-widgets/base",
          "model_name": "LayoutModel",
          "model_module_version": "1.2.0",
          "state": {
            "_model_module": "@jupyter-widgets/base",
            "_model_module_version": "1.2.0",
            "_model_name": "LayoutModel",
            "_view_count": null,
            "_view_module": "@jupyter-widgets/base",
            "_view_module_version": "1.2.0",
            "_view_name": "LayoutView",
            "align_content": null,
            "align_items": null,
            "align_self": null,
            "border": null,
            "bottom": null,
            "display": null,
            "flex": null,
            "flex_flow": null,
            "grid_area": null,
            "grid_auto_columns": null,
            "grid_auto_flow": null,
            "grid_auto_rows": null,
            "grid_column": null,
            "grid_gap": null,
            "grid_row": null,
            "grid_template_areas": null,
            "grid_template_columns": null,
            "grid_template_rows": null,
            "height": null,
            "justify_content": null,
            "justify_items": null,
            "left": null,
            "margin": null,
            "max_height": null,
            "max_width": null,
            "min_height": null,
            "min_width": null,
            "object_fit": null,
            "object_position": null,
            "order": null,
            "overflow": null,
            "overflow_x": null,
            "overflow_y": null,
            "padding": null,
            "right": null,
            "top": null,
            "visibility": null,
            "width": null
          }
        },
        "23c0c15374b445aebe9a93cc168e7422": {
          "model_module": "@jupyter-widgets/controls",
          "model_name": "DescriptionStyleModel",
          "model_module_version": "1.5.0",
          "state": {
            "_model_module": "@jupyter-widgets/controls",
            "_model_module_version": "1.5.0",
            "_model_name": "DescriptionStyleModel",
            "_view_count": null,
            "_view_module": "@jupyter-widgets/base",
            "_view_module_version": "1.2.0",
            "_view_name": "StyleView",
            "description_width": ""
          }
        }
      }
    }
  },
  "cells": [
    {
      "cell_type": "markdown",
      "metadata": {
        "id": "view-in-github",
        "colab_type": "text"
      },
      "source": [
        "<a href=\"https://colab.research.google.com/github/bhanuchaddha/The-Ai-Handbook/blob/main/2-Tutorials/RAG/Database/Agentic_RAG_With_MongoDB_and_LamaIndex.ipynb\" target=\"_parent\"><img src=\"https://colab.research.google.com/assets/colab-badge.svg\" alt=\"Open In Colab\"/></a>"
      ]
    },
    {
      "cell_type": "markdown",
      "source": [
        "# Title: RAG with MongoDB and LlamaIndex: A Comprehensive Tutorial\n",
        "\n",
        "## Introduction\n",
        "\n",
        "Retrieval Augmented Generation (RAG) has emerged as a powerful technique in the realm of natural language processing (NLP). It enhances the capabilities of language models by allowing them to access and incorporate external knowledge during text generation. This tutorial focuses on implementing an advanced form of RAG called \"Agentic RAG\" using the robust combination of MongoDB, a leading NoSQL document database, and LlamaIndex, a powerful framework designed for indexing and querying data for LLM applications.\n",
        "\n",
        "In a typical RAG setup, a system retrieves relevant information from a knowledge base (e.g., a vector database) to provide context to a large language model (LLM). This allows the LLM to generate more informed and accurate responses. Agentic RAG takes this a step further by introducing \"agents\" – specialized components that can perform specific actions or interact with different tools to gather and process information more effectively.\n",
        "\n",
        "## Why MongoDB and LlamaIndex?\n",
        "\n",
        "MongoDB: MongoDB's flexible document model and powerful querying capabilities make it a great choice for storing and managing the diverse data that RAG systems often rely on. Its scalability and performance are crucial when dealing with large datasets.\n",
        "\n",
        "LlamaIndex: LlamaIndex simplifies the process of connecting LLMs with external data sources. It provides abstractions for data ingestion, indexing (including vector embeddings), and building sophisticated query engines, which are essential for creating effective RAG systems.\n",
        "\n",
        "## In this tutorial, we will:\n",
        "\n",
        "* Set up a MongoDB database to store our knowledge base.\n",
        "\n",
        "* Use LlamaIndex to ingest data into MongoDB and create a vector index for efficient retrieval.\n",
        "\n",
        "* Implement a basic query engine that leverages the vector index to find relevant documents.\n",
        "\n",
        "* Introduce the concept of \"Agentic RAG\" and demonstrate how to build a simple agent-based system.\n",
        "\n",
        "* Showcase how the agent can interact with the query engine and an LLM to generate context-aware responses.\n",
        "\n",
        "## Prerequisites\n",
        "\n",
        "Before starting, ensure you have the following:\n",
        "\n",
        "* Basic understanding of Python.\n",
        "\n",
        "* Familiarity with language models and vector embeddings (helpful but not mandatory).\n",
        "\n",
        "* A MongoDB database instance (you can use MongoDB Atlas for a free cloud-based option).\n",
        "\n",
        "* An OpenAI API key (for using the OpenAI language model).\n",
        "\n",
        "\n",
        "Let's dive in!"
      ],
      "metadata": {
        "id": "WDqmdEPAsCCI"
      }
    },
    {
      "cell_type": "markdown",
      "source": [
        "# Installation and Setup"
      ],
      "metadata": {
        "id": "SxO9aHKT_Mxn"
      }
    },
    {
      "cell_type": "code",
      "source": [
        "pip install --quiet --upgrade llama-index llama-index-vector-stores-mongodb llama-index-embeddings-openai pymongo faker load_dotenv"
      ],
      "metadata": {
        "id": "t5w6r9ovs9Qj"
      },
      "execution_count": 31,
      "outputs": []
    },
    {
      "cell_type": "code",
      "source": [
        "from google.colab import userdata\n",
        "import os\n",
        "os.environ['OPENAI_API_KEY']=userdata.get('OPENAI_API_KEY')\n",
        "os.environ['MONGO_CONNECTION_STRING']=userdata.get('MONGO_CONNECTION_STRING')"
      ],
      "metadata": {
        "id": "moLG5lXU11xw"
      },
      "execution_count": 32,
      "outputs": []
    },
    {
      "cell_type": "markdown",
      "source": [
        "**Explanation:**\n",
        "\n",
        "*   **`pip install ...`:** This command installs the necessary Python packages for this project. Let's break down each package:\n",
        "    *   `llama-index`: The core library for building the RAG system. It provides tools for data ingestion, indexing, and querying.\n",
        "    *   `llama-index-vector-stores-mongodb`: A LlamaIndex integration that enables using MongoDB as a vector store.\n",
        "    *   `llama-index-embeddings-openai`: A LlamaIndex integration for using OpenAI's embedding models to generate vector embeddings.\n",
        "    *   `pymongo`: The official Python driver for MongoDB, allowing interaction with MongoDB databases.\n",
        "    *   `faker`: A library for generating synthetic data, which will be used to create sample booking records.\n",
        "    *   `load_dotenv`: A library for loading environment variables from a `.env` file (though in this Colab example, it seems environment variables are handled differently).\n",
        "    *   `--quiet`: Suppresses verbose output during installation.\n",
        "    *   `--upgrade`: Ensures that the latest versions of the packages are installed.\n",
        "\n",
        "*   **`from google.colab import userdata`**: This line imports the `userdata` module from the `google.colab` library. This module is specific to Google Colab and is used to securely access user data, such as API keys and other secrets, that are stored within the Colab environment.\n",
        "\n",
        "\n",
        "**References:**\n",
        "\n",
        "*   LlamaIndex Documentation: [https://docs.llamaindex.ai/en/stable/](https://docs.llamaindex.ai/en/stable/)\n",
        "*   PyMongo Documentation: [https://pymongo.readthedocs.io/en/stable/](https://pymongo.readthedocs.io/en/stable/)\n",
        "*   OpenAI Python Library: [https://github.com/openai/openai-python](https://github.com/openai/openai-python)\n",
        "*   Faker Documentation: [https://faker.readthedocs.io/en/master/](https://faker.readthedocs.io/en/master/)"
      ],
      "metadata": {
        "id": "dPYghbPAE3cC"
      }
    },
    {
      "cell_type": "markdown",
      "source": [
        "# Generate Data"
      ],
      "metadata": {
        "id": "D59hnnU-DgIJ"
      }
    },
    {
      "cell_type": "code",
      "source": [
        "db_name = \"shipping_company\""
      ],
      "metadata": {
        "id": "-OQZzsFhD66w"
      },
      "execution_count": 33,
      "outputs": []
    },
    {
      "cell_type": "code",
      "source": [
        "from pymongo import MongoClient\n",
        "from faker import Faker\n",
        "import random\n",
        "from datetime import datetime, timedelta\n",
        "import uuid\n",
        "from dotenv import load_dotenv\n",
        "\n",
        "\n",
        "# Load environment variables from .env\n",
        "load_dotenv()\n",
        "\n",
        "# Read MONGO_CONNECTION_STRING from environment, fallback to a default if not found\n",
        "MONGO_URL = os.getenv(\"MONGO_CONNECTION_STRING\", \"mongodb://localhost:27017\")\n",
        "\n",
        "# MongoDB Connection\n",
        "client = MongoClient(MONGO_URL)\n",
        "db = client[db_name]\n",
        "bookings_collection = db[\"bookings\"]\n",
        "\n",
        "# Faker Initialization\n",
        "fake = Faker()\n",
        "\n",
        "# Sample Data (for variety)\n",
        "cities = [\"Los Angeles\", \"New York\", \"Shanghai\", \"Rotterdam\", \"Singapore\", \"Dubai\", \"Hamburg\", \"Antwerp\", \"Busan\", \"Hong Kong\"]\n",
        "countries = [\"USA\",\"USA\", \"China\", \"Netherlands\", \"Singapore\", \"UAE\", \"Germany\", \"Belgium\", \"South Korea\", \"Hong Kong\"]\n",
        "ports = [\"Port of Los Angeles\", \"Port of New York\", \"Port of Shanghai\", \"Port of Rotterdam\", \"Port of Singapore\", \"Port of Jebel Ali\", \"Port of Hamburg\", \"Port of Antwerp\", \"Port of Busan\", \"Port of Hong Kong\"]\n",
        "booking_channels = [\"Website\", \"Phone\", \"Email\", \"Agent\"]\n",
        "booking_statuses = [\"Pending\", \"Confirmed\", \"In Transit\", \"Delivered\", \"Cancelled\"]\n",
        "vessel_names = [\"Ever Given\", \"Maersk Mc-Kinney Moller\", \"MSC Oscar\", \"HMM Algeciras\", \"COSCO Shipping Universe\", \"OOCL Hong Kong\", \"CMA CGM Antoine de Saint Exupery\", \"APL Raffles\", \"Yang Ming Witness\", \"ONE Innovation\"]\n",
        "container_types = [\"20ft Standard\", \"40ft Standard\", \"40ft High Cube\", \"45ft High Cube\"]\n",
        "\n",
        "def generate_booking():\n",
        "    customer_id = str(uuid.uuid4())\n",
        "    origin_city = random.choice(cities)\n",
        "    destination_city = random.choice(cities)\n",
        "    origin_country = countries[cities.index(origin_city)]\n",
        "    destination_country = countries[cities.index(destination_city)]\n",
        "    origin_port = ports[cities.index(origin_city)]\n",
        "    destination_port = ports[cities.index(destination_city)]\n",
        "\n",
        "    booking = {\n",
        "        \"bookingId\": str(uuid.uuid4()),\n",
        "        \"customer\": {\n",
        "            \"customerId\": customer_id,\n",
        "            \"name\": fake.name(),\n",
        "            \"email\": fake.email(),\n",
        "            \"phone\": fake.phone_number()\n",
        "        },\n",
        "        \"origin\": {\n",
        "            \"city\": origin_city,\n",
        "            \"country\": origin_country,\n",
        "            \"port\": origin_port\n",
        "        },\n",
        "        \"destination\": {\n",
        "            \"city\": destination_city,\n",
        "            \"country\": destination_country,\n",
        "            \"port\": destination_port\n",
        "        },\n",
        "        \"parties\": [\n",
        "            {\n",
        "                \"type\": \"shipper\",\n",
        "                \"name\": fake.company(),\n",
        "                \"address\": fake.address()\n",
        "            },\n",
        "            {\n",
        "                \"type\": \"consignee\",\n",
        "                \"name\": fake.company(),\n",
        "                \"address\": fake.address()\n",
        "            }\n",
        "        ],\n",
        "        \"bookingChannel\": random.choice(booking_channels),\n",
        "        \"bookingStatus\": random.choice(booking_statuses),\n",
        "        \"priceQuotation\": {\n",
        "            \"currency\": \"USD\",\n",
        "            \"amount\": round(random.uniform(1000, 5000), 2),\n",
        "            \"validUntil\": fake.date_time_between(start_date=\"now\", end_date=\"+30d\", tzinfo=None)\n",
        "        },\n",
        "        \"vesselInformation\": {\n",
        "            \"name\": random.choice(vessel_names),\n",
        "            \"imoNumber\": str(random.randint(9000000, 9999999)),\n",
        "            \"voyageNumber\": f\"{random.randint(100, 999)}{random.choice(['E', 'W'])}\"\n",
        "        },\n",
        "        \"container\": {\n",
        "            \"containerNumber\": f\"{random.choice(['MSCU', 'MAEU', 'APLU', 'OOLU'])}{random.randint(1000000, 9999999)}\",\n",
        "            \"type\": random.choice(container_types),\n",
        "            \"sealNumber\": f\"SEAL{random.randint(10000, 99999)}\"\n",
        "        },\n",
        "        \"routeInformation\": {\n",
        "            \"departureDate\": fake.date_time_between(start_date=\"-30d\", end_date=\"+30d\", tzinfo=None),\n",
        "            \"arrivalDate\": fake.date_time_between(start_date=\"+30d\", end_date=\"+90d\", tzinfo=None),\n",
        "            \"transitPorts\": random.sample(ports, random.randint(0, 2))  # 0 to 2 transit ports\n",
        "        },\n",
        "        \"priceInformation\": {\n",
        "            \"freightCharges\": round(random.uniform(800, 4000), 2),\n",
        "            \"originCharges\": round(random.uniform(50, 300), 2),\n",
        "            \"destinationCharges\": round(random.uniform(50, 300), 2),\n",
        "            \"totalCharges\": 0,  # Calculated below\n",
        "            \"currency\": \"USD\"\n",
        "        },\n",
        "        \"createdAt\": fake.date_time_between(start_date=\"-60d\", end_date=\"now\", tzinfo=None),\n",
        "        \"updatedAt\": datetime.now()\n",
        "    }\n",
        "\n",
        "    # Calculate total charges\n",
        "    booking[\"priceInformation\"][\"totalCharges\"] = booking[\"priceInformation\"][\"freightCharges\"] + \\\n",
        "                                                  booking[\"priceInformation\"][\"originCharges\"] + \\\n",
        "                                                  booking[\"priceInformation\"][\"destinationCharges\"]\n",
        "\n",
        "    return booking\n",
        "## Enable below to generate data.\n",
        "# Generate and Insert Data\n",
        "# bookings = []\n",
        "# for _ in range(1000):\n",
        "#     bookings.append(generate_booking())\n",
        "\n",
        "# bookings_collection.insert_many(bookings)\n",
        "\n",
        "print(\"Successfully inserted 1000 booking records!\")"
      ],
      "metadata": {
        "colab": {
          "base_uri": "https://localhost:8080/"
        },
        "id": "VCSBHsE3zOCg",
        "outputId": "9e053aac-f284-4403-e649-fad6ce09b365"
      },
      "execution_count": 34,
      "outputs": [
        {
          "output_type": "stream",
          "name": "stdout",
          "text": [
            "Successfully inserted 1000 booking records!\n"
          ]
        }
      ]
    },
    {
      "cell_type": "markdown",
      "source": [
        "**Explanation:**\n",
        "\n",
        "\n",
        "**In essence, this section generates 1000 fake booking records with realistic data and stores them in a MongoDB database.**"
      ],
      "metadata": {
        "id": "nkycRXxfFGX8"
      }
    },
    {
      "cell_type": "markdown",
      "source": [
        "# Configure LlamaIndex"
      ],
      "metadata": {
        "id": "JDEy-l9cFOSt"
      }
    },
    {
      "cell_type": "code",
      "source": [
        "import getpass, os, pymongo, pprint\n",
        "from pymongo.operations import SearchIndexModel\n",
        "from llama_index.core import SimpleDirectoryReader, VectorStoreIndex, StorageContext\n",
        "from llama_index.core.settings import Settings\n",
        "from llama_index.core.retrievers import VectorIndexRetriever\n",
        "from llama_index.core.vector_stores import MetadataFilter, MetadataFilters, ExactMatchFilter, FilterOperator\n",
        "from llama_index.core.query_engine import RetrieverQueryEngine\n",
        "from llama_index.embeddings.openai import OpenAIEmbedding\n",
        "from llama_index.llms.openai import OpenAI\n",
        "from llama_index.vector_stores.mongodb import MongoDBAtlasVectorSearch"
      ],
      "metadata": {
        "id": "WyL2CTIosED3"
      },
      "execution_count": 35,
      "outputs": []
    },
    {
      "cell_type": "markdown",
      "source": [
        "## Configure LlamaIndex settings.\n",
        "Run the following code to configure settings that are specific to LlamaIndex. These settings specify the following:\n",
        "\n",
        "OpenAI as the LLM used by your application to answer questions on your data.\n",
        "\n",
        "text-embedding-ada-002 as the embedding model used by your application to generate vector embeddings from your data.\n",
        "\n",
        "Chunk size and overlap to customize how LlamaIndex partitions your data for storage."
      ],
      "metadata": {
        "id": "By3m9WMr2Ke0"
      }
    },
    {
      "cell_type": "code",
      "source": [
        "llm= OpenAI()"
      ],
      "metadata": {
        "id": "3FalmnwDG5RT"
      },
      "execution_count": 36,
      "outputs": []
    },
    {
      "cell_type": "code",
      "source": [
        "Settings.llm = OpenAI()\n",
        "Settings.embed_model = OpenAIEmbedding(model=\"text-embedding-ada-002\")\n",
        "Settings.chunk_size = 100\n",
        "Settings.chunk_overlap = 10"
      ],
      "metadata": {
        "id": "rY2jQsA72L64"
      },
      "execution_count": 37,
      "outputs": []
    },
    {
      "cell_type": "markdown",
      "source": [
        "**Explanation:**\n",
        "\n",
        "\n",
        "*   **`llm = OpenAI()`:** This line initializes the `llm` variable with an instance of the `OpenAI` class. This sets the default large language model (LLM) to be used by LlamaIndex to OpenAI's default model (likely GPT-3.5 Turbo or a similar model).\n",
        "\n",
        "*   **`Settings.embed_model = OpenAIEmbedding(model=\"text-embedding-ada-002\")`:** This line configures the embedding model that LlamaIndex will use to generate vector embeddings.\n",
        "    *   `OpenAIEmbedding`: Specifies that an OpenAI embedding model will be used.\n",
        "    *   `model=\"text-embedding-ada-002\"`: Sets the specific OpenAI embedding model to \"text-embedding-ada-002\". This is a widely used and cost-effective embedding model.\n",
        "*   **`Settings.chunk_size = 100`:** This sets the chunk size for text splitting. When LlamaIndex ingests documents, it breaks them down into smaller chunks. This line sets the chunk size to 100 tokens (approximately 100 words, but the exact number can vary depending on the tokenizer).\n",
        "*   **`Settings.chunk_overlap = 10`:** This sets the chunk overlap to 10 tokens. This means that consecutive chunks will have an overlap of 10 tokens, which can help maintain context when querying.\n",
        "\n",
        "**In summary, this section configures LlamaIndex to use OpenAI's language model and embedding model, and it sets parameters for how the text data should be chunked during indexing.**"
      ],
      "metadata": {
        "id": "QK4qWT8zFmQC"
      }
    },
    {
      "cell_type": "markdown",
      "source": [
        "# Data Loading and Indexing"
      ],
      "metadata": {
        "id": "1BjjWjl9FoiF"
      }
    },
    {
      "cell_type": "code",
      "source": [
        "mongo_client = pymongo.MongoClient(os.environ['MONGO_CONNECTION_STRING'])\n",
        "db = mongo_client[db_name]\n",
        "collections = db.list_collection_names()"
      ],
      "metadata": {
        "id": "Ihme3aXYsBXU"
      },
      "execution_count": 38,
      "outputs": []
    },
    {
      "cell_type": "code",
      "source": [
        "from llama_index.core import Document\n"
      ],
      "metadata": {
        "id": "IT4eT9_T-7iG"
      },
      "execution_count": 39,
      "outputs": []
    },
    {
      "cell_type": "code",
      "source": [
        "vector_col=\"vectors\"\n",
        "index_name=\"vector_index\""
      ],
      "metadata": {
        "id": "WRY66_6DJ0Gh"
      },
      "execution_count": 40,
      "outputs": []
    },
    {
      "cell_type": "code",
      "source": [
        "# Instantiate the vector store for each collection\n",
        "shipping_vector_store = MongoDBAtlasVectorSearch(\n",
        "    mongo_client,\n",
        "    db_name=db_name,\n",
        "    collection_name=vector_col,\n",
        "    index_name=index_name\n",
        ")"
      ],
      "metadata": {
        "colab": {
          "base_uri": "https://localhost:8080/"
        },
        "id": "S77oUagNyhBj",
        "outputId": "5e0115b0-466f-4f42-828b-40ca742ca288"
      },
      "execution_count": 41,
      "outputs": [
        {
          "output_type": "stream",
          "name": "stderr",
          "text": [
            "WARNING:llama_index.vector_stores.mongodb.base:index_name is deprecated. Please use vector_index_name\n",
            "WARNING:llama_index.vector_stores.mongodb.base:vector_index_name and index_name both specified. Will use vector_index_name\n"
          ]
        }
      ]
    },
    {
      "cell_type": "code",
      "source": [
        "for collection_name in collections:\n",
        "    collection = db[collection_name]\n",
        "    raw_documents = list(collection.find({}))\n",
        "    # Convert raw documents (dictionaries) to Document objects\n",
        "    documents = [Document(text=str(doc)) for doc in raw_documents]\n",
        "\n",
        "    vector_store_context = StorageContext.from_defaults(vector_store=shipping_vector_store)\n",
        "    # Convert documents to vector embeddings and store them\n",
        "    vector_store_index = VectorStoreIndex.from_documents(\n",
        "        documents, storage_context=vector_store_context, show_progress=True\n",
        ")"
      ],
      "metadata": {
        "colab": {
          "base_uri": "https://localhost:8080/",
          "height": 177,
          "referenced_widgets": [
            "c27ecaaccd8648dfa7ff5b45831b15e3",
            "3fca35d5c377490bac86286686e78dfd",
            "2d223774dbfa45b7b180e22e31a35b55",
            "20ef835dd29f42b0bd8055d4b6c4115a",
            "e3a6d4660e3441ed8da24973bceca932",
            "72f453a28ccc4276843c9f3a7f13c0bf",
            "65dbd183d8c64ab1b2270fddd6df83d4",
            "391ba452a92042e58d019057aa30ee5a",
            "6dd4ddf023aa4dc4b6768bf31680500f",
            "704e05000cae4fb4af0fd25ea0875352",
            "94d5ce6322db4dc6bea724d1eddb155a",
            "4a126d4577634c0ea3494edde1347b0e",
            "e38e5a33dfad42d69240b7c2ab67ce67",
            "0a5e2cf4deb149f8adb3bf77896f5ffa",
            "946f782b29fa403ea7ea163dd704841e",
            "7c8d945095454caba7a34f94c97e7fb7",
            "45031a11ad5a4ef0bfdffa2d18245ff9",
            "345f2c06efe046d29c9331654209e7c4",
            "0c75f6149cd24f16a0693fc2f7676120",
            "67920feb45f3471f8a653366d231623e",
            "4f33a739453740cfb970d369d054d6a1",
            "4fa0d6e4d1904171bb9fc35ee7a98353",
            "9912439cc34041889127e3b4c5eaa8d2",
            "776f3d9b65fe420abbba17aa916d6f90",
            "0ba9d99dface4e5597e214c6565b5c48",
            "2c5ecdd42fb04e1586e7390a5acb7d73",
            "b8496e4a7a3a4341826fb9e93c6d9446",
            "e89b615523584bdda6945fc1a22a4eee",
            "cb9fb43632a744e2995493c82ae57a32",
            "d13b1fc643d04d379d3bbf3a5811ef41",
            "007c4433bb2c4f6587b7f230c9ec26aa",
            "8896d15790a54d9088b8bf617fc56519",
            "572d2b3d045a4fcd902f7b879917c733",
            "14c98acfcfcd4e0eb5afdedf05ea1059",
            "c81720caf1be4da3bd5906e9ab8a0cf1",
            "16df2ca7d9ad4230be68d18a26ea0be3",
            "d0e38d0c8dcb49bcaf09f1ea113b672e",
            "a5544183b3214ae29f26a419f9bd904f",
            "690a375bf1d746ceb07047dac68cd98c",
            "f8521956c5094f30b9c2c1b703e335fc",
            "a132d0b2d0974a88a143658ab4810efb",
            "4ffb2dce4a1740478ef4f8a98b17a988",
            "f1073e4c8cb7464ca08fff78bc6c9abb",
            "19f4f0688a344bd88195ad1200b5a506",
            "f2f1e48acd744544a07b609fd98777df",
            "7a5218b4a9da41d1ac93d9beb448c842",
            "986b84c7c18e43a8906d19124f0b7753",
            "2f2a2d7a322b41dc9abbb6f88e554fbb",
            "6fe9de11cc4c4f4cbfcd4257650e1f7b",
            "bea2443ad6c14d0b8fb601b035fb0f0a",
            "d3086a61f3a74c28a4944091aaf0106e",
            "5571cc134e6741cba823978c702ed1e4",
            "4abf9fe4dc58466c8a5e6bde8f4a0690",
            "8ca3067943b443e69118d2c43713f2be",
            "23c0c15374b445aebe9a93cc168e7422"
          ]
        },
        "id": "asH4SkwrsAwc",
        "outputId": "d44a5cde-2d39-4519-c53c-e57cfc7098e8"
      },
      "execution_count": 42,
      "outputs": [
        {
          "output_type": "display_data",
          "data": {
            "text/plain": [
              "Parsing nodes:   0%|          | 0/1000 [00:00<?, ?it/s]"
            ],
            "application/vnd.jupyter.widget-view+json": {
              "version_major": 2,
              "version_minor": 0,
              "model_id": "c27ecaaccd8648dfa7ff5b45831b15e3"
            }
          },
          "metadata": {}
        },
        {
          "output_type": "display_data",
          "data": {
            "text/plain": [
              "Generating embeddings:   0%|          | 0/2048 [00:00<?, ?it/s]"
            ],
            "application/vnd.jupyter.widget-view+json": {
              "version_major": 2,
              "version_minor": 0,
              "model_id": "4a126d4577634c0ea3494edde1347b0e"
            }
          },
          "metadata": {}
        },
        {
          "output_type": "display_data",
          "data": {
            "text/plain": [
              "Generating embeddings:   0%|          | 0/2048 [00:00<?, ?it/s]"
            ],
            "application/vnd.jupyter.widget-view+json": {
              "version_major": 2,
              "version_minor": 0,
              "model_id": "9912439cc34041889127e3b4c5eaa8d2"
            }
          },
          "metadata": {}
        },
        {
          "output_type": "display_data",
          "data": {
            "text/plain": [
              "Generating embeddings:   0%|          | 0/2048 [00:00<?, ?it/s]"
            ],
            "application/vnd.jupyter.widget-view+json": {
              "version_major": 2,
              "version_minor": 0,
              "model_id": "14c98acfcfcd4e0eb5afdedf05ea1059"
            }
          },
          "metadata": {}
        },
        {
          "output_type": "display_data",
          "data": {
            "text/plain": [
              "Generating embeddings:   0%|          | 0/429 [00:00<?, ?it/s]"
            ],
            "application/vnd.jupyter.widget-view+json": {
              "version_major": 2,
              "version_minor": 0,
              "model_id": "f2f1e48acd744544a07b609fd98777df"
            }
          },
          "metadata": {}
        }
      ]
    },
    {
      "cell_type": "code",
      "execution_count": 43,
      "metadata": {
        "id": "pmqItwhLpIcx"
      },
      "outputs": [],
      "source": [
        "db = mongo_client[db_name]\n",
        "collection = db[vector_col]\n",
        "\n",
        "# Create your index model, then create the search index\n",
        "search_index_model = SearchIndexModel(\n",
        "  definition={\n",
        "    \"fields\": [\n",
        "      {\n",
        "        \"type\": \"vector\",\n",
        "        \"path\": \"embedding\",\n",
        "        \"numDimensions\": 1536,\n",
        "        \"similarity\": \"cosine\"\n",
        "      },\n",
        "      {\n",
        "        \"type\": \"filter\",\n",
        "        \"path\": \"metadata.page_label\"\n",
        "      }\n",
        "    ]\n",
        "  },\n",
        "  name=\"vector_index\",\n",
        "  type=\"vectorSearch\",\n",
        ")\n",
        "\n",
        "\n",
        "\n"
      ]
    },
    {
      "cell_type": "markdown",
      "source": [
        "**Explanation:**\n",
        "\n",
        "\n",
        "*   **`shipping_vector_store = MongoDBAtlasVectorSearch(...)`:** This line creates an instance of `MongoDBAtlasVectorSearch`, which is a LlamaIndex class that represents a vector store backed by MongoDB Atlas.\n",
        "    *   `mongo_client`: The MongoDB client object used to connect to the database.\n",
        "    *   `db_name`: The name of the database.\n",
        "    *   `collection_name`: The name of the collection where vectors will be stored (\"vectors\").\n",
        "    *   `index_name`: The name of the vector index (\"vector\\_index\").\n",
        "*   **`for collection_name in collections:`:** This loop iterates through each collection name in the list of collections retrieved earlier.\n",
        "    *   **`documents = [Document(text=str(doc)) for doc in raw_documents]`:** This is a list comprehension that converts each raw document (a dictionary) into a LlamaIndex `Document` object. The `text` of the `Document` is set to the string representation of the raw document.\n",
        "    *   **`vector_store_context = StorageContext.from_defaults(vector_store=shipping_vector_store)`:** Creates a `StorageContext` object, which manages how data is stored in LlamaIndex. It's configured to use the `shipping_vector_store` (the MongoDB vector store) that was created earlier.\n",
        "    *   **`vector_store_index = VectorStoreIndex.from_documents(...)`:** This is the core indexing step. It creates a `VectorStoreIndex` from the `Document` objects.\n",
        "        *   `documents`: The list of `Document` objects to be indexed.\n",
        "        *   `storage_context`: The `StorageContext` that specifies where to store the index data (in this case, the MongoDB vector store).\n",
        "        *   `show_progress=True`: Displays a progress bar during the indexing process.\n",
        "\n",
        "*   **`search_index_model = SearchIndexModel(...)`:** This defines the structure of the vector search index that will be created in MongoDB.\n",
        "    *   **`definition`:** Specifies the fields to be indexed and their types.\n",
        "        *   **`type: \"vector\"`:** Indicates a vector field for storing embeddings.\n",
        "            *   `path`: The path to the embedding field within the document (it will be named \"embedding\").\n",
        "            *   `numDimensions`: The dimensionality of the embeddings (1536, which is the dimensionality of the \"text-embedding-ada-002\" model).\n",
        "            *   `similarity`: The similarity function to use for vector search (\"cosine\" similarity).\n",
        "        *   **`type: \"filter\"`:** Indicates a filterable field.\n",
        "            *   `path`: The path to the filterable field (\"metadata.page\\_label\").\n",
        "    *   **`name: \"vector_index\"`:** The name of the index.\n",
        "    *   **`type: \"vectorSearch\"`:** Specifies that this is a vector search index.\n",
        "*   **`collection.create_search_index(model=search_index_model)`:** This line creates the vector search index in MongoDB based on the defined `search_index_model`.\n",
        "\n",
        "**In essence, this section loads the data from MongoDB, converts it into LlamaIndex `Document` objects, generates vector embeddings for the documents using the configured embedding model, and stores the embeddings in a MongoDB collection along with a vector search index for efficient querying.**"
      ],
      "metadata": {
        "id": "-LzuFjXfF0Mj"
      }
    },
    {
      "cell_type": "markdown",
      "source": [
        "# Search"
      ],
      "metadata": {
        "id": "5RxyBLmdpRLr"
      }
    },
    {
      "cell_type": "code",
      "source": [
        "from llama_index.core import VectorStoreIndex\n",
        "from llama_index.core.tools import QueryEngineTool, ToolMetadata\n",
        "index = VectorStoreIndex.from_vector_store(shipping_vector_store)\n",
        "query_engine = index.as_query_engine(similarity_top_k=100, llm=llm)\n"
      ],
      "metadata": {
        "id": "8ptth2ydF7t6"
      },
      "execution_count": 44,
      "outputs": []
    },
    {
      "cell_type": "markdown",
      "source": [
        "**Explanation:**\n",
        "\n",
        "*   **`from llama_index.core import VectorStoreIndex ...`:** These lines import necessary classes from LlamaIndex:\n",
        "    *   `VectorStoreIndex`: For creating an index from a vector store.\n",
        "    *   `QueryEngineTool`, `ToolMetadata`: For creating tools that can be used by agents (not directly used in this section but relevant for the Agentic RAG concept).\n",
        "*   **`index = VectorStoreIndex.from_vector_store(shipping_vector_store)`:** This line creates a `VectorStoreIndex` object from the `shipping_vector_store` (the MongoDB vector store) that was created earlier. This index allows you to query the data using vector search.\n",
        "*   **`query_engine = index.as_query_engine(similarity_top_k=100, llm=llm)`:** This line creates a query engine from the index.\n",
        "    *   `similarity_top_k=100`: Specifies that the query engine should retrieve the top 100 most similar documents based on vector similarity.\n",
        "    *   `llm=llm`: Sets the language model to be used by the query engine to the `llm` object (which was configured earlier to be an OpenAI model).\n"
      ],
      "metadata": {
        "id": "lgJ2m4lCGB-T"
      }
    },
    {
      "cell_type": "code",
      "source": [
        "query_text = \"how many booking are there for Lisa Peterson?. give me the infomation about those bookings\"\n",
        "response = query_engine.query(query_text)\n",
        "print(response)\n",
        "\n"
      ],
      "metadata": {
        "colab": {
          "base_uri": "https://localhost:8080/"
        },
        "id": "dHJFK5zoG-yx",
        "outputId": "999e1967-c9df-4fd3-e81e-50505f4de645"
      },
      "execution_count": 45,
      "outputs": [
        {
          "output_type": "stream",
          "name": "stdout",
          "text": [
            "Empty Response\n"
          ]
        }
      ]
    },
    {
      "cell_type": "code",
      "source": [
        "query_text = \"How many customers do i have? List the customers\"\n",
        "response = query_engine.query(query_text)\n",
        "print(response)"
      ],
      "metadata": {
        "colab": {
          "base_uri": "https://localhost:8080/"
        },
        "id": "9d7fh4Rcz45q",
        "outputId": "71afe679-d878-4942-f4b7-90cfbb6d78d2"
      },
      "execution_count": 46,
      "outputs": [
        {
          "output_type": "stream",
          "name": "stdout",
          "text": [
            "Empty Response\n"
          ]
        }
      ]
    },
    {
      "cell_type": "code",
      "source": [
        "query_text = \"Give me markdown table for booking, customer, cost for all the booking in or out of China\"\n",
        "response = query_engine.query(query_text)\n",
        "print(response)"
      ],
      "metadata": {
        "colab": {
          "base_uri": "https://localhost:8080/"
        },
        "id": "YPPl2c4-3E_N",
        "outputId": "4adc5398-2b1a-4ddb-8ae6-5da66de35bf1"
      },
      "execution_count": 47,
      "outputs": [
        {
          "output_type": "stream",
          "name": "stdout",
          "text": [
            "Empty Response\n"
          ]
        }
      ]
    },
    {
      "cell_type": "code",
      "source": [
        "query_text = \"What is the average total cost of shipments originating from ports in the USA and destined for ports in Asia, and how does this compare to the average cost of shipments between European ports? Provide a breakdown by destination port.\"\n",
        "response = query_engine.query(query_text)\n",
        "print(response)"
      ],
      "metadata": {
        "colab": {
          "base_uri": "https://localhost:8080/"
        },
        "id": "VlI49AzRCz6P",
        "outputId": "97265c6c-dc33-4e76-ad78-38a4fea90411"
      },
      "execution_count": 48,
      "outputs": [
        {
          "output_type": "stream",
          "name": "stdout",
          "text": [
            "Empty Response\n"
          ]
        }
      ]
    },
    {
      "cell_type": "markdown",
      "source": [
        "**Conclusion**\n",
        "\n",
        "This tutorial provided a comprehensive guide to building an RAG system using MongoDB and LlamaIndex. We covered the essential steps, from setting up the environment and generating data to indexing the data in MongoDB and creating a query engine for semantic search.\n",
        "\n",
        "By leveraging the power of MongoDB's flexible data model and LlamaIndex's indexing and querying capabilities, you can create sophisticated RAG systems that can answer complex questions based on your data. The introduction of \"agents\" further enhances the system's capabilities, allowing for more dynamic and intelligent interactions with external knowledge sources.\n",
        "\n",
        "As you continue to explore RAG, consider experimenting with different agent architectures, tools, and query engine configurations to build even more powerful and adaptable LLM applications. The combination of MongoDB and LlamaIndex provides a solid foundation for your journey into the exciting world of advanced RAG systems."
      ],
      "metadata": {
        "id": "_w2STQXZGFFX"
      }
    },
    {
      "cell_type": "markdown",
      "source": [
        "# Running code with UI"
      ],
      "metadata": {
        "id": "DhjzEmQJsBe0"
      }
    },
    {
      "cell_type": "code",
      "source": [
        "!pip install gradio"
      ],
      "metadata": {
        "id": "50vO5eSfsKjV"
      },
      "execution_count": null,
      "outputs": []
    },
    {
      "cell_type": "markdown",
      "source": [
        "# Query Interface for MongoDB data"
      ],
      "metadata": {
        "id": "xNkaVEXKEAl3"
      }
    },
    {
      "cell_type": "code",
      "source": [
        "import gradio as gr\n",
        "\n",
        "# Define the query function for Gradio\n",
        "def query_function(query):\n",
        "    response = query_engine.query(query)\n",
        "    return response\n",
        "\n",
        "# Create the Gradio interface\n",
        "iface = gr.Interface(\n",
        "    fn=query_function,\n",
        "    inputs=gr.Textbox(placeholder=\"Enter your query here...\"),\n",
        "    outputs=\"text\",\n",
        "    title=\"Vector Store Query Interface\",\n",
        "    description=\"Ask a question and get an answer from the vector store.\",\n",
        ")\n",
        "\n",
        "# Launch the interface (share=True creates a temporary public URL)\n",
        "iface.launch(share=True)"
      ],
      "metadata": {
        "colab": {
          "base_uri": "https://localhost:8080/",
          "height": 612
        },
        "id": "loj6UCx7APsR",
        "outputId": "41e9c317-38f8-4e68-de73-a69c549b54c0"
      },
      "execution_count": 50,
      "outputs": [
        {
          "output_type": "stream",
          "name": "stdout",
          "text": [
            "Colab notebook detected. To show errors in colab notebook, set debug=True in launch()\n",
            "* Running on public URL: https://62adac0593593a4e4d.gradio.live\n",
            "\n",
            "This share link expires in 72 hours. For free permanent hosting and GPU upgrades, run `gradio deploy` from the terminal in the working directory to deploy to Hugging Face Spaces (https://huggingface.co/spaces)\n"
          ]
        },
        {
          "output_type": "display_data",
          "data": {
            "text/plain": [
              "<IPython.core.display.HTML object>"
            ],
            "text/html": [
              "<div><iframe src=\"https://62adac0593593a4e4d.gradio.live\" width=\"100%\" height=\"500\" allow=\"autoplay; camera; microphone; clipboard-read; clipboard-write;\" frameborder=\"0\" allowfullscreen></iframe></div>"
            ]
          },
          "metadata": {}
        },
        {
          "output_type": "execute_result",
          "data": {
            "text/plain": []
          },
          "metadata": {},
          "execution_count": 50
        }
      ]
    },
    {
      "cell_type": "markdown",
      "source": [
        "# Chat Interface for MongoDB data"
      ],
      "metadata": {
        "id": "LOitDxR6EU4K"
      }
    },
    {
      "cell_type": "code",
      "source": [
        "# Corrected respond function\n",
        "def respond(message, chat_history):\n",
        "    bot_message = query_engine.query(message)\n",
        "    chat_history.append([message, str(bot_message)])  # Append as a list [user_msg, bot_msg]\n",
        "    return \"\", chat_history\n",
        "\n",
        "with gr.Blocks() as demo:\n",
        "    chatbot = gr.Chatbot()\n",
        "    msg = gr.Textbox()\n",
        "    clear = gr.Button(\"Clear\")\n",
        "\n",
        "    msg.submit(respond, [msg, chatbot], [msg, chatbot])\n",
        "    clear.click(lambda: [], None, chatbot, queue=False)  # Clear chat history\n",
        "\n",
        "demo.launch(share=True)"
      ],
      "metadata": {
        "colab": {
          "base_uri": "https://localhost:8080/",
          "height": 648
        },
        "id": "BrKapYIIBVcF",
        "outputId": "ccbec65b-a041-484c-f508-865e3f2644aa"
      },
      "execution_count": 51,
      "outputs": [
        {
          "output_type": "stream",
          "name": "stderr",
          "text": [
            "/usr/local/lib/python3.10/dist-packages/gradio/components/chatbot.py:242: UserWarning: You have not specified a value for the `type` parameter. Defaulting to the 'tuples' format for chatbot messages, but this is deprecated and will be removed in a future version of Gradio. Please set type='messages' instead, which uses openai-style dictionaries with 'role' and 'content' keys.\n",
            "  warnings.warn(\n"
          ]
        },
        {
          "output_type": "stream",
          "name": "stdout",
          "text": [
            "Colab notebook detected. To show errors in colab notebook, set debug=True in launch()\n",
            "* Running on public URL: https://9a8e8d12073b793baa.gradio.live\n",
            "\n",
            "This share link expires in 72 hours. For free permanent hosting and GPU upgrades, run `gradio deploy` from the terminal in the working directory to deploy to Hugging Face Spaces (https://huggingface.co/spaces)\n"
          ]
        },
        {
          "output_type": "display_data",
          "data": {
            "text/plain": [
              "<IPython.core.display.HTML object>"
            ],
            "text/html": [
              "<div><iframe src=\"https://9a8e8d12073b793baa.gradio.live\" width=\"100%\" height=\"500\" allow=\"autoplay; camera; microphone; clipboard-read; clipboard-write;\" frameborder=\"0\" allowfullscreen></iframe></div>"
            ]
          },
          "metadata": {}
        },
        {
          "output_type": "execute_result",
          "data": {
            "text/plain": []
          },
          "metadata": {},
          "execution_count": 51
        }
      ]
    }
  ]
}